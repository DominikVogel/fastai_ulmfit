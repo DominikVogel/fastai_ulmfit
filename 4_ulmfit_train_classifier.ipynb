{
 "cells": [
  {
   "cell_type": "markdown",
   "metadata": {},
   "source": [
    "# Germeval 2019 Classification"
   ]
  },
  {
   "cell_type": "markdown",
   "metadata": {},
   "source": [
    "https://projects.fzai.h-da.de/iggsa/data-2019/\n",
    "\n",
    "https://www.researchgate.net/publication/337007402_UPB_at_GermEval-2019_Task_2_BERT-Based_Offensive_Language_Classification_of_German_Tweets"
   ]
  },
  {
   "cell_type": "code",
   "execution_count": null,
   "metadata": {},
   "outputs": [],
   "source": [
    "from fastai.text.all import *"
   ]
  },
  {
   "cell_type": "code",
   "execution_count": null,
   "metadata": {},
   "outputs": [],
   "source": [
    "lang = 'de'\n",
    "backwards = False\n",
    "bs=128\n",
    "vocab_sz = 15000\n",
    "num_workers=18\n",
    "step = 'class' # fine-tuning"
   ]
  },
  {
   "cell_type": "code",
   "execution_count": null,
   "metadata": {},
   "outputs": [],
   "source": [
    "direction = 'fwd' if backwards == False else 'bwd'"
   ]
  },
  {
   "cell_type": "code",
   "execution_count": null,
   "metadata": {},
   "outputs": [],
   "source": [
    "wiki = f'{lang}wiki'\n",
    "base_path = Path('data')\n",
    "path = base_path/wiki\n",
    "model_base_path = path/'model'\n",
    "model_path = model_base_path/step/direction\n",
    "spm_path = model_base_path/'ft'/'spm'\n",
    "lm_fns = [(model_base_path/'ft'/direction/f'{lang}_ft_model').absolute(), \n",
    "          (model_base_path/'ft'/direction/f'{lang}_ft_vocab').absolute(),\n",
    "          (model_base_path/'ft'/direction/f'{lang}_ft_encoder').absolute()]"
   ]
  },
  {
   "cell_type": "code",
   "execution_count": null,
   "metadata": {},
   "outputs": [],
   "source": [
    "data_path = path/'germeval'"
   ]
  },
  {
   "cell_type": "code",
   "execution_count": null,
   "metadata": {},
   "outputs": [
    {
     "data": {
      "text/plain": [
       "([Path('/data/projects/git/fastai_ulmfit/data/dewiki/model/ft/bwd/de_ft_model'),\n",
       "  Path('/data/projects/git/fastai_ulmfit/data/dewiki/model/ft/bwd/de_ft_vocab'),\n",
       "  Path('/data/projects/git/fastai_ulmfit/data/dewiki/model/ft/bwd/de_ft_encoder')],\n",
       " Path('data/dewiki/model/ft/spm'))"
      ]
     },
     "execution_count": null,
     "metadata": {},
     "output_type": "execute_result"
    }
   ],
   "source": [
    "lm_fns, spm_path"
   ]
  },
  {
   "cell_type": "markdown",
   "metadata": {},
   "source": [
    "## Prepare classifier dataset"
   ]
  },
  {
   "cell_type": "code",
   "execution_count": null,
   "metadata": {},
   "outputs": [],
   "source": [
    "df = pd.read_csv(data_path/'data_classification.csv')"
   ]
  },
  {
   "cell_type": "code",
   "execution_count": null,
   "metadata": {},
   "outputs": [
    {
     "data": {
      "text/html": [
       "<div>\n",
       "<style scoped>\n",
       "    .dataframe tbody tr th:only-of-type {\n",
       "        vertical-align: middle;\n",
       "    }\n",
       "\n",
       "    .dataframe tbody tr th {\n",
       "        vertical-align: top;\n",
       "    }\n",
       "\n",
       "    .dataframe thead th {\n",
       "        text-align: right;\n",
       "    }\n",
       "</style>\n",
       "<table border=\"1\" class=\"dataframe\">\n",
       "  <thead>\n",
       "    <tr style=\"text-align: right;\">\n",
       "      <th></th>\n",
       "      <th>text</th>\n",
       "      <th>label</th>\n",
       "      <th>label_fine</th>\n",
       "      <th>is_valid</th>\n",
       "    </tr>\n",
       "  </thead>\n",
       "  <tbody>\n",
       "    <tr>\n",
       "      <th>0</th>\n",
       "      <td>Komisch das die Realitätsverweigerung immer von linken erbärmlichen Correctiv Accounts ausgeht...</td>\n",
       "      <td>OFFENSE</td>\n",
       "      <td>INSULT</td>\n",
       "      <td>True</td>\n",
       "    </tr>\n",
       "    <tr>\n",
       "      <th>1</th>\n",
       "      <td>CDU steht seid Strauss, Kohl, Schäuble, vdLeyen für Korruption, Schwarzgeld, und dies überall...</td>\n",
       "      <td>OFFENSE</td>\n",
       "      <td>ABUSE</td>\n",
       "      <td>True</td>\n",
       "    </tr>\n",
       "    <tr>\n",
       "      <th>2</th>\n",
       "      <td>Die Gesichter, Namen, Religion der Täter würde zur Aufklärung beitragen...</td>\n",
       "      <td>OTHER</td>\n",
       "      <td>OTHER</td>\n",
       "      <td>True</td>\n",
       "    </tr>\n",
       "    <tr>\n",
       "      <th>3</th>\n",
       "      <td>Wie verwirrt muss man sein um sich zu weigern die Tatsachen anzuerkennen, das dieser Hass von Ferkel importiert wurde....was bezweckt man damit sich selber so zu belügen, unverständlich</td>\n",
       "      <td>OFFENSE</td>\n",
       "      <td>ABUSE</td>\n",
       "      <td>True</td>\n",
       "    </tr>\n",
       "    <tr>\n",
       "      <th>4</th>\n",
       "      <td>Weil die AfD den Ferkelfunk abschaffen will, deshalb haben die Linken Zecken, Schmarotzer Angst für ihr kacken arbeiten zu müssen, deshalb sind die Führer treu und senden jeden Dreck, Lüge...</td>\n",
       "      <td>OFFENSE</td>\n",
       "      <td>ABUSE</td>\n",
       "      <td>True</td>\n",
       "    </tr>\n",
       "    <tr>\n",
       "      <th>...</th>\n",
       "      <td>...</td>\n",
       "      <td>...</td>\n",
       "      <td>...</td>\n",
       "      <td>...</td>\n",
       "    </tr>\n",
       "    <tr>\n",
       "      <th>15562</th>\n",
       "      <td>250 Menschen auf der Demonstration gegen das Dublin 2 Abkommen auf der Demo der selbstorganisierten ,,Refugees for Change'' #Refugeeswelcome</td>\n",
       "      <td>OTHER</td>\n",
       "      <td>OTHER</td>\n",
       "      <td>False</td>\n",
       "    </tr>\n",
       "    <tr>\n",
       "      <th>15563</th>\n",
       "      <td>Erneut Massaker an Kurdische ZivilistInnen durch islamistische ISIS. YXK ruft bundesweit zu Demonstrationen auf. #Rojava #ISIS #syrien</td>\n",
       "      <td>OTHER</td>\n",
       "      <td>OTHER</td>\n",
       "      <td>False</td>\n",
       "    </tr>\n",
       "    <tr>\n",
       "      <th>15564</th>\n",
       "      <td>Hunderte Refugees haben die Grenze zur spanischen Exklave Melilla überwunden. Freedom of Movement is everybodies right! #Rassismus #NoBorder</td>\n",
       "      <td>OTHER</td>\n",
       "      <td>OTHER</td>\n",
       "      <td>False</td>\n",
       "    </tr>\n",
       "    <tr>\n",
       "      <th>15565</th>\n",
       "      <td>Heute ab 17:00 Uhr an der Alten Oper FFM: Kundgebung/Picknick/Musik zum Jahrestag der Gezi-Proteste #Gezi, #Taksim, #Solidarität, #Erdogan</td>\n",
       "      <td>OTHER</td>\n",
       "      <td>OTHER</td>\n",
       "      <td>False</td>\n",
       "    </tr>\n",
       "    <tr>\n",
       "      <th>15566</th>\n",
       "      <td>Uns gibt es jetzt auch auf #twitter. Folgt unserer Page - empfehlt sie weiter!</td>\n",
       "      <td>OTHER</td>\n",
       "      <td>OTHER</td>\n",
       "      <td>False</td>\n",
       "    </tr>\n",
       "  </tbody>\n",
       "</table>\n",
       "<p>15567 rows × 4 columns</p>\n",
       "</div>"
      ],
      "text/plain": [
       "                                                                                                                                                                                                  text  \\\n",
       "0                                                                                                    Komisch das die Realitätsverweigerung immer von linken erbärmlichen Correctiv Accounts ausgeht...   \n",
       "1                                                                                                     CDU steht seid Strauss, Kohl, Schäuble, vdLeyen für Korruption, Schwarzgeld, und dies überall...   \n",
       "2                                                                                                                           Die Gesichter, Namen, Religion der Täter würde zur Aufklärung beitragen...   \n",
       "3            Wie verwirrt muss man sein um sich zu weigern die Tatsachen anzuerkennen, das dieser Hass von Ferkel importiert wurde....was bezweckt man damit sich selber so zu belügen, unverständlich   \n",
       "4      Weil die AfD den Ferkelfunk abschaffen will, deshalb haben die Linken Zecken, Schmarotzer Angst für ihr kacken arbeiten zu müssen, deshalb sind die Führer treu und senden jeden Dreck, Lüge...   \n",
       "...                                                                                                                                                                                                ...   \n",
       "15562                                                     250 Menschen auf der Demonstration gegen das Dublin 2 Abkommen auf der Demo der selbstorganisierten ,,Refugees for Change'' #Refugeeswelcome   \n",
       "15563                                                           Erneut Massaker an Kurdische ZivilistInnen durch islamistische ISIS. YXK ruft bundesweit zu Demonstrationen auf. #Rojava #ISIS #syrien   \n",
       "15564                                                     Hunderte Refugees haben die Grenze zur spanischen Exklave Melilla überwunden. Freedom of Movement is everybodies right! #Rassismus #NoBorder   \n",
       "15565                                                       Heute ab 17:00 Uhr an der Alten Oper FFM: Kundgebung/Picknick/Musik zum Jahrestag der Gezi-Proteste #Gezi, #Taksim, #Solidarität, #Erdogan   \n",
       "15566                                                                                                                   Uns gibt es jetzt auch auf #twitter. Folgt unserer Page - empfehlt sie weiter!   \n",
       "\n",
       "         label label_fine  is_valid  \n",
       "0      OFFENSE     INSULT      True  \n",
       "1      OFFENSE      ABUSE      True  \n",
       "2        OTHER      OTHER      True  \n",
       "3      OFFENSE      ABUSE      True  \n",
       "4      OFFENSE      ABUSE      True  \n",
       "...        ...        ...       ...  \n",
       "15562    OTHER      OTHER     False  \n",
       "15563    OTHER      OTHER     False  \n",
       "15564    OTHER      OTHER     False  \n",
       "15565    OTHER      OTHER     False  \n",
       "15566    OTHER      OTHER     False  \n",
       "\n",
       "[15567 rows x 4 columns]"
      ]
     },
     "execution_count": null,
     "metadata": {},
     "output_type": "execute_result"
    }
   ],
   "source": [
    "df"
   ]
  },
  {
   "cell_type": "markdown",
   "metadata": {},
   "source": [
    "## Train model"
   ]
  },
  {
   "cell_type": "code",
   "execution_count": null,
   "metadata": {},
   "outputs": [],
   "source": [
    "tok = SentencePieceTokenizer(lang=lang, sp_model=spm_path/'spm.model')"
   ]
  },
  {
   "cell_type": "code",
   "execution_count": null,
   "metadata": {},
   "outputs": [],
   "source": [
    "with open(f'{lm_fns[1]}.pkl', 'rb') as f:\n",
    "      vocab = pickle.load(f)"
   ]
  },
  {
   "cell_type": "code",
   "execution_count": null,
   "metadata": {},
   "outputs": [
    {
     "data": {
      "text/html": [],
      "text/plain": [
       "<IPython.core.display.HTML object>"
      ]
     },
     "metadata": {},
     "output_type": "display_data"
    },
    {
     "name": "stderr",
     "output_type": "stream",
     "text": [
      "/home/florian/miniconda3/envs/fastai/lib/python3.8/site-packages/numpy/core/_asarray.py:83: VisibleDeprecationWarning: Creating an ndarray from ragged nested sequences (which is a list-or-tuple of lists-or-tuples-or ndarrays with different lengths or shapes) is deprecated. If you meant to do this, you must specify 'dtype=object' when creating the ndarray\n",
      "  return array(a, dtype, copy=False, order=order)\n"
     ]
    }
   ],
   "source": [
    "dblocks = DataBlock(blocks=(TextBlock.from_df('text', tok=tok, vocab=vocab, backwards=backwards), CategoryBlock),\n",
    "                    get_x=ColReader('text'),\n",
    "                    get_y=ColReader('label'), \n",
    "                    splitter=ColSplitter())\n",
    "dls = dblocks.dataloaders(df, bs=bs, num_workers=num_workers)"
   ]
  },
  {
   "cell_type": "code",
   "execution_count": null,
   "metadata": {},
   "outputs": [
    {
     "data": {
      "text/html": [
       "<table border=\"1\" class=\"dataframe\">\n",
       "  <thead>\n",
       "    <tr style=\"text-align: right;\">\n",
       "      <th></th>\n",
       "      <th>text</th>\n",
       "      <th>category</th>\n",
       "    </tr>\n",
       "  </thead>\n",
       "  <tbody>\n",
       "    <tr>\n",
       "      <th>0</th>\n",
       "      <td>&gt; e 92 f ▁1 ▁0 ▁3 ▁xxrep + u &lt; &gt; e 92 f ▁1 ▁0 ▁3 ▁xxrep + u &lt; &gt; e 92 f ▁1 ▁0 ▁3 ▁xxrep + u &lt; &gt; f 44 f ▁1 ▁0 ▁3 ▁xxrep + u &lt; &gt; f 44 f ▁1 ▁0 ▁3 ▁xxrep + u &lt; &gt; f 44 f ▁1 ▁0 ▁3 ▁xxrep + u &lt; &gt; f 44 f ▁1 ▁0 ▁3 ▁xxrep + u &lt; &gt; f 44 f ▁1 ▁0 ▁3 ▁xxrep + u &lt; &gt; f 44 f ▁1 ▁0 ▁3 ▁xxrep + u &lt; &gt; f 44 f ▁1 ▁0 ▁3 ▁xxrep + u &lt; &gt; f 44 f ▁1 ▁0 ▁3 ▁xxrep + u &lt; &gt; f 44 f ▁1 ▁0 ▁3 ▁xxrep + u &lt; &gt; f 44 f ▁1 ▁0 ▁3 ▁xxrep + u &lt; &gt; f 44 f ▁1 ▁0 ▁3</td>\n",
       "      <td>OTHER</td>\n",
       "    </tr>\n",
       "    <tr>\n",
       "      <th>1</th>\n",
       "      <td>&gt; f 92 f ▁1 ▁0 ▁3 ▁xxrep + u &lt; &gt; f 92 f ▁1 ▁0 ▁3 ▁xxrep + u &lt; &gt; f 92 f ▁1 ▁0 ▁3 ▁xxrep + u &lt; ▁... ▁wahl ▁xxmaj ▁freie ▁die ▁hat , ▁möchte füllen ▁auf listen ▁block ▁xxmaj ▁ihre ▁/ ▁seine ▁heute ▁wer ▁xxmaj &gt; c 92 f ▁1 ▁0 ▁3 ▁xxrep + u &lt; &gt; c 92 f ▁1 ▁0 ▁3 ▁xxrep + u &lt; &gt; c 92 f ▁1 ▁0 ▁3 ▁xxrep + u &lt; &gt; c 92 f ▁1 ▁0 ▁3 ▁xxrep + u &lt; &gt; c 92 f ▁1 ▁0 ▁3 ▁xxrep + u &lt; &gt; c 92 f ▁1 ▁0 ▁3 ▁xxrep + u ▁&lt; ! ▁unterwegs ▁tweets ▁xxmaj iger ▁ein spalten - ▁kommentar ▁den ▁in ▁vollpfosten ▁xxmaj ▁viele ▁extrem ▁wieder ▁gerade ▁sind ▁es ▁xxmaj ?!? ?! ! tag - loch arsch - ▁welt ▁mal ▁wieder ▁wohl</td>\n",
       "      <td>OFFENSE</td>\n",
       "    </tr>\n",
       "    <tr>\n",
       "      <th>2</th>\n",
       "      <td>. ▁angerufen ▁mich ▁hat ▁macron ▁xxmaj : ▁schulz ▁xxmaj ▁# in t mar &gt; f 0 fe + u &lt; &gt; ab 25 + u ▁&lt; . ▁nicht t fel wür ▁ ▁gott ▁xxmaj : stein ein &gt; f 0 fe + u &lt; &gt; ab 25 + u ▁&lt; . ▁welt ▁xxmaj ▁der ▁macht ▁xxmaj stärkste ▁ ▁die ▁ist ▁liebe ▁xxmaj : hi d gan &gt; f 0 fe + u &lt; &gt; ab 25 + u ▁&lt; . bewusstsein ▁ ▁xxmaj ▁das ▁bestimmt ▁sein ▁xxmaj ▁das ▁xxmaj : marx &gt; f 0 fe + u &lt; &gt; ab 25 + u ▁&lt; ! ▁dream ▁a ▁have ▁i : king ▁ ▁xxmaj . ▁l ▁xxup . m &gt; f 0 fe + u &lt; &gt; ab 25 + u ▁&lt; : ▁werden ▁erinnern ▁urheber ▁xxmaj ▁ihre ▁an ▁immer ▁für ▁die , sätze ▁ ▁xxmaj ▁große ▁xxmaj ▁xxbos</td>\n",
       "      <td>OTHER</td>\n",
       "    </tr>\n",
       "    <tr>\n",
       "      <th>3</th>\n",
       "      <td>&gt; b 60 f ▁1 ▁0 ▁3 ▁xxrep + u &lt; &gt; a 92 f ▁1 ▁0 ▁3 ▁xxrep + u &lt; &gt; c 62 f ▁1 ▁0 ▁3 ▁xxrep + u &lt; 609&gt; f ▁1 ▁0 ▁3 ▁xxrep + u &lt; 602&gt; f ▁1 ▁0 ▁3 ▁xxrep + u &lt; &gt; 18 6 f ▁1 ▁0 ▁3 ▁xxrep + u &lt; &gt; 600 f ▁1 ▁0 ▁3 ▁xxrep + u &lt; 2&gt; 64 f ▁1 ▁0 ▁3 ▁xxrep + u ▁&lt; !! 11 ! ▁1 ) ▁autobahnen ▁xxmaj ▁den ▁auf ▁hier ▁grad ▁ja ▁sind , ▁nee ach ( ▁... en mobil ▁wohn ▁xxmaj ▁von e berg ▁ ▁xxmaj , räder ▁fahr ▁xxmaj ▁von e berg ▁ ▁xxmaj , ▁gras ▁xxmaj ▁von e berg ▁ ▁xxmaj , ▁käse ▁xxmaj ▁von e berg ▁.... e berg ▁ ▁xxmaj ▁da ▁doch ▁hast ▁du ▁xxmaj ? ▁warum ▁xxmaj ▁xxbos</td>\n",
       "      <td>OTHER</td>\n",
       "    </tr>\n",
       "    <tr>\n",
       "      <th>4</th>\n",
       "      <td>&gt; f 0 fe + u &lt; 0&gt; +264 u &lt; &gt; d +200 u &lt; &gt; fd 3 f ▁1 ▁0 ▁3 ▁xxrep + u &lt; &gt; 937 f ▁1 ▁0 ▁3 ▁xxrep + u ▁&lt; ▁sind ▁angestellt ▁etc b ▁md ▁und dl m ▁ ▁bei ▁mitglieder ▁xxmaj ▁ja ▁xxup ▁wieviele , fen prü ▁gegen ▁mal ▁ja ▁könnte ▁man : ▁außerdem ▁xxmaj &gt; f 0 fe + u &lt; 0&gt; +264 u &lt; &gt; d +200 u &lt; &gt; fd 3 f ▁1 ▁0 ▁3 ▁xxrep + u &lt; &gt; 937 f ▁1 ▁0 ▁3 ▁xxrep + u ▁&lt; ▁auf ▁weiter ▁mehr ▁nicht ▁auch ▁co ▁xxmaj ▁&amp;&amp; ▁höcke ▁xxmaj ▁neben ▁fallen ▁und ▁ein ▁direkt ▁afd ▁die ▁in ▁einfach treten ▁ ▁mitglieder ▁xxmaj ▁die ▁xxmaj ? ▁what ▁so ▁xxmaj . gelöst ▁auf ▁halt ▁ja ▁xxup ▁die ▁wird ▁dann ▁na ▁xxmaj ▁xxbos</td>\n",
       "      <td>OTHER</td>\n",
       "    </tr>\n",
       "    <tr>\n",
       "      <th>5</th>\n",
       "      <td>&gt; c 92 f ▁1 ▁0 ▁3 ▁xxrep + u &lt; &gt; 21 6 f ▁1 ▁0 ▁3 ▁xxrep + u &lt; &gt; c 92 f ▁1 ▁0 ▁3 ▁xxrep + u &lt; &gt; 21 6 f ▁1 ▁0 ▁3 ▁xxrep + u &lt; &gt; c 92 f ▁1 ▁0 ▁3 ▁xxrep + u &lt; &gt; 21 6 f ▁1 ▁0 ▁3 ▁xxrep + u &lt; &gt; c 92 f ▁1 ▁0 ▁3 ▁xxrep + u ▁&lt; ▁danke ▁xxmaj ! ▁gleich verbot ▁berufs ▁xxmaj ▁# ▁einem ▁kommt ▁das ▁-&gt; ▁behindert ▁massiv ▁arbeit ▁xxmaj ▁ihrer übung ▁aus ▁xxmaj ▁der ▁in ▁werden ▁journalisten ▁xxmaj ▁# : ▁bedeutet ▁das ▁xxmaj !! gedeckt ▁ab fahrverbot ▁diesel ▁xxmaj ▁# ▁zum regelung ▁ausnahme ▁xxmaj ▁die ▁durch ! ▁nicht ▁xxup ▁stuttgart ▁xxmaj ▁# ▁in ▁sind ▁journalisten ▁xxmaj ▁# ! ▁surprise ▁xxmaj , ▁surprise ▁xxmaj ▁xxbos</td>\n",
       "      <td>OTHER</td>\n",
       "    </tr>\n",
       "    <tr>\n",
       "      <th>6</th>\n",
       "      <td>&gt; 3 a 4 f ▁1 ▁0 ▁3 ▁xxrep + u &lt; . ▁habe t freu er ▁ ▁land ▁xxmaj ▁ganzen ▁im &gt; 25 5 f ▁1 ▁0 ▁3 ▁xxrep + u &lt; &gt; 25 5 f ▁1 ▁0 ▁3 ▁xxrep + u &lt; &gt; 25 5 f ▁1 ▁0 ▁3 ▁xxrep + u &lt; &gt; 25 5 f ▁1 ▁0 ▁3 ▁xxrep + u &lt; &gt; 25 5 f ▁1 ▁0 ▁3 ▁xxrep + u ▁&lt; n brände ▁ ▁xxmaj den n der ▁lo ▁den ▁an ig b gie ▁aus ▁mich ▁ich ▁nachdem &gt; 5 a 4 f ▁1 ▁0 ▁3 ▁xxrep + u ▁&lt; chat r patria ▁ ▁xxmaj ▁das e ▁endet ▁so ▁und ▁xxmaj schließt ▁ab ▁satz ▁xxmaj ▁dem ▁mit ▁der , ▁schreiben ▁tweet ▁einen ▁bald ▁unbedingt ▁möchte ▁ich ▁xxmaj ▁xxbos</td>\n",
       "      <td>OTHER</td>\n",
       "    </tr>\n",
       "    <tr>\n",
       "      <th>7</th>\n",
       "      <td>. ig ▁da ▁xxmaj en ▁zw ▁in ▁gehört gewürz ▁ ▁xxmaj es ▁dis ▁xxmaj . ▁lott ▁xxmaj 2 ⁄ ▁1 ander ri ▁co ▁xxmaj , ▁lott ▁xxmaj 2 ⁄ ▁1 nis ä ▁ , gl ▁nä ▁xxmaj ▁lott ▁xxmaj ▁halbe ▁8 , us n gat mus ▁ ▁xxmaj ▁lott ▁xxmaj ▁8 , t me zi ▁ ▁xxmaj ▁lott ▁xxmaj ▁8 , ▁pfeffer ▁xxmaj ▁lott ▁xxmaj ▁3 ▁mal ▁8 , ber ▁im ▁xxmaj ling ▁vier ▁xxmaj ▁halb ▁8 , rein ▁da z wir ▁ge ▁xxmaj , den ▁sie t und st ▁ ▁xxmaj ette ▁gu in ▁a s ▁last , ▁wasser ▁xxmaj maß ▁ ▁xxmaj ▁2 , ig n hö ▁ ▁xxmaj maß ▁ ▁xxmaj ▁20 ▁man bt im n ▁ ig ta ▁ ▁xxmaj en zelt ▁leb ▁xxmaj ▁zum ▁xxmaj ▁xxbos</td>\n",
       "      <td>OTHER</td>\n",
       "    </tr>\n",
       "    <tr>\n",
       "      <th>8</th>\n",
       "      <td>4&gt; a 5 f ▁1 ▁0 ▁3 ▁xxrep + u &lt; +2764&gt; u &lt; &gt; ff 3 f ▁1 ▁0 ▁3 ▁xxrep + u &lt; &gt; a 70 2 + u &lt; +2764&gt; u &lt; 4&gt; a 5 f ▁1 ▁0 ▁3 ▁xxrep + u ▁&lt; ! demokratie basis ▁ ▁xxmaj ▁# ▁die ▁-&gt; ▁demokratie ▁xxmaj ▁# ▁der form ur ▁ ▁xxmaj der ▁... s leben ▁zusammen ▁xxmaj en ▁menschlich ▁des form ▁ideal ▁xxmaj ▁der vertreter ▁ ▁xxmaj ▁sind ▁wir , isten top ▁u ▁xxmaj ▁# ▁keine ▁sind ▁wir ▁xxmaj . ▁verloren ▁realität ▁xxmaj ▁# ▁zur draht ▁ ▁xxmaj ▁den ▁hat , ▁bezeichnet pie to ▁u ▁xxmaj ▁als ie arch ▁an ▁xxmaj ▁# . ▁u ▁radikal ▁# ▁als en ▁anarchist ▁xxmaj ▁# ▁die , ▁gesellschaft ▁xxmaj ▁eine ▁xxmaj ▁xxbos</td>\n",
       "      <td>OTHER</td>\n",
       "    </tr>\n",
       "  </tbody>\n",
       "</table>"
      ],
      "text/plain": [
       "<IPython.core.display.HTML object>"
      ]
     },
     "metadata": {},
     "output_type": "display_data"
    }
   ],
   "source": [
    "dls.show_batch()"
   ]
  },
  {
   "cell_type": "code",
   "execution_count": null,
   "metadata": {},
   "outputs": [
    {
     "data": {
      "text/plain": [
       "['OFFENSE', 'OTHER']"
      ]
     },
     "execution_count": null,
     "metadata": {},
     "output_type": "execute_result"
    }
   ],
   "source": [
    "dls.vocab[1]"
   ]
  },
  {
   "cell_type": "code",
   "execution_count": null,
   "metadata": {},
   "outputs": [
    {
     "data": {
      "text/plain": [
       "(97, 24)"
      ]
     },
     "execution_count": null,
     "metadata": {},
     "output_type": "execute_result"
    }
   ],
   "source": [
    "len(dls.train), len(dls.valid)"
   ]
  },
  {
   "cell_type": "code",
   "execution_count": null,
   "metadata": {},
   "outputs": [],
   "source": [
    "avg = 'macro'\n",
    "metrics=[accuracy, Precision(average=avg), Recall(average=avg), F1Score(average=avg)]"
   ]
  },
  {
   "cell_type": "code",
   "execution_count": null,
   "metadata": {},
   "outputs": [],
   "source": [
    "learn = text_classifier_learner(dls, AWD_LSTM, drop_mult=1, pretrained=False, \n",
    "                               metrics=metrics).to_fp16()\n",
    "learn.path = model_path"
   ]
  },
  {
   "cell_type": "code",
   "execution_count": null,
   "metadata": {},
   "outputs": [
    {
     "data": {
      "text/plain": [
       "<fastai.text.learner.TextLearner at 0x7f87dbb06820>"
      ]
     },
     "execution_count": null,
     "metadata": {},
     "output_type": "execute_result"
    }
   ],
   "source": [
    "learn.load_encoder(lm_fns[2].absolute())"
   ]
  },
  {
   "cell_type": "code",
   "execution_count": null,
   "metadata": {},
   "outputs": [
    {
     "data": {
      "text/html": [],
      "text/plain": [
       "<IPython.core.display.HTML object>"
      ]
     },
     "metadata": {},
     "output_type": "display_data"
    },
    {
     "data": {
      "text/plain": [
       "SuggestedLRs(lr_min=0.03630780577659607, lr_steep=0.007585775572806597)"
      ]
     },
     "execution_count": null,
     "metadata": {},
     "output_type": "execute_result"
    },
    {
     "data": {
      "image/png": "[encoded data removed]",
      "text/plain": [
       "<Figure size 432x288 with 1 Axes>"
      ]
     },
     "metadata": {
      "needs_background": "light"
     },
     "output_type": "display_data"
    }
   ],
   "source": [
    "learn.lr_find()"
   ]
  },
  {
   "cell_type": "code",
   "execution_count": null,
   "metadata": {},
   "outputs": [
    {
     "data": {
      "text/plain": [
       "0.07999999999999999"
      ]
     },
     "execution_count": null,
     "metadata": {},
     "output_type": "execute_result"
    }
   ],
   "source": [
    "lr = 3e-2\n",
    "lr *= bs/48\n",
    "lr"
   ]
  },
  {
   "cell_type": "code",
   "execution_count": null,
   "metadata": {},
   "outputs": [
    {
     "data": {
      "text/html": [
       "<table border=\"1\" class=\"dataframe\">\n",
       "  <thead>\n",
       "    <tr style=\"text-align: left;\">\n",
       "      <th>epoch</th>\n",
       "      <th>train_loss</th>\n",
       "      <th>valid_loss</th>\n",
       "      <th>accuracy</th>\n",
       "      <th>precision_score</th>\n",
       "      <th>recall_score</th>\n",
       "      <th>f1_score</th>\n",
       "      <th>time</th>\n",
       "    </tr>\n",
       "  </thead>\n",
       "  <tbody>\n",
       "    <tr>\n",
       "      <td>0</td>\n",
       "      <td>0.583410</td>\n",
       "      <td>0.532070</td>\n",
       "      <td>0.721544</td>\n",
       "      <td>0.676049</td>\n",
       "      <td>0.637803</td>\n",
       "      <td>0.645888</td>\n",
       "      <td>00:04</td>\n",
       "    </tr>\n",
       "  </tbody>\n",
       "</table>"
      ],
      "text/plain": [
       "<IPython.core.display.HTML object>"
      ]
     },
     "metadata": {},
     "output_type": "display_data"
    },
    {
     "data": {
      "text/html": [
       "<table border=\"1\" class=\"dataframe\">\n",
       "  <thead>\n",
       "    <tr style=\"text-align: left;\">\n",
       "      <th>epoch</th>\n",
       "      <th>train_loss</th>\n",
       "      <th>valid_loss</th>\n",
       "      <th>accuracy</th>\n",
       "      <th>precision_score</th>\n",
       "      <th>recall_score</th>\n",
       "      <th>f1_score</th>\n",
       "      <th>time</th>\n",
       "    </tr>\n",
       "  </thead>\n",
       "  <tbody>\n",
       "    <tr>\n",
       "      <td>0</td>\n",
       "      <td>0.503615</td>\n",
       "      <td>0.556113</td>\n",
       "      <td>0.727483</td>\n",
       "      <td>0.714626</td>\n",
       "      <td>0.745039</td>\n",
       "      <td>0.713701</td>\n",
       "      <td>00:05</td>\n",
       "    </tr>\n",
       "    <tr>\n",
       "      <td>1</td>\n",
       "      <td>0.473116</td>\n",
       "      <td>0.480366</td>\n",
       "      <td>0.764104</td>\n",
       "      <td>0.795888</td>\n",
       "      <td>0.648088</td>\n",
       "      <td>0.658774</td>\n",
       "      <td>00:06</td>\n",
       "    </tr>\n",
       "    <tr>\n",
       "      <td>2</td>\n",
       "      <td>0.436046</td>\n",
       "      <td>0.465296</td>\n",
       "      <td>0.793138</td>\n",
       "      <td>0.779701</td>\n",
       "      <td>0.721554</td>\n",
       "      <td>0.738046</td>\n",
       "      <td>00:06</td>\n",
       "    </tr>\n",
       "    <tr>\n",
       "      <td>3</td>\n",
       "      <td>0.388071</td>\n",
       "      <td>0.457359</td>\n",
       "      <td>0.799406</td>\n",
       "      <td>0.778689</td>\n",
       "      <td>0.741443</td>\n",
       "      <td>0.754443</td>\n",
       "      <td>00:05</td>\n",
       "    </tr>\n",
       "    <tr>\n",
       "      <td>4</td>\n",
       "      <td>0.354695</td>\n",
       "      <td>0.461108</td>\n",
       "      <td>0.799736</td>\n",
       "      <td>0.773581</td>\n",
       "      <td>0.753146</td>\n",
       "      <td>0.761471</td>\n",
       "      <td>00:06</td>\n",
       "    </tr>\n",
       "  </tbody>\n",
       "</table>"
      ],
      "text/plain": [
       "<IPython.core.display.HTML object>"
      ]
     },
     "metadata": {},
     "output_type": "display_data"
    }
   ],
   "source": [
    "learn.fine_tune(5, lr, moms=(0.8,0.7,0.8), wd=0.1)"
   ]
  },
  {
   "cell_type": "code",
   "execution_count": null,
   "metadata": {},
   "outputs": [
    {
     "data": {
      "image/png": "[encoded data removed]",
      "text/plain": [
       "<Figure size 432x288 with 1 Axes>"
      ]
     },
     "metadata": {
      "needs_background": "light"
     },
     "output_type": "display_data"
    }
   ],
   "source": [
    "learn.recorder.plot_loss()"
   ]
  },
  {
   "cell_type": "code",
   "execution_count": null,
   "metadata": {},
   "outputs": [],
   "source": [
    "learn.export()"
   ]
  },
  {
   "cell_type": "code",
   "execution_count": null,
   "metadata": {},
   "outputs": [],
   "source": []
  }
 ],
 "metadata": {
  "kernelspec": {
   "display_name": "fastai",
   "language": "python",
   "name": "fastai"
  }
 },
 "nbformat": 4,
 "nbformat_minor": 4
}
