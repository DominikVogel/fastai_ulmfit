{
 "cells": [
  {
   "cell_type": "markdown",
   "metadata": {},
   "source": [
    "# Germeval 2019 Classification"
   ]
  },
  {
   "cell_type": "markdown",
   "metadata": {},
   "source": [
    "https://projects.fzai.h-da.de/iggsa/data-2019/\n",
    "\n",
    "https://www.researchgate.net/publication/337007402_UPB_at_GermEval-2019_Task_2_BERT-Based_Offensive_Language_Classification_of_German_Tweets"
   ]
  },
  {
   "cell_type": "code",
   "execution_count": null,
   "metadata": {},
   "outputs": [],
   "source": [
    "from fastai.text.all import *"
   ]
  },
  {
   "cell_type": "code",
   "execution_count": null,
   "metadata": {},
   "outputs": [],
   "source": [
    "lang = 'de'\n",
    "backwards = False\n",
    "bs=128\n",
    "vocab_sz = 15000\n",
    "num_workers=18\n",
    "step = 'class' # fine-tuning"
   ]
  },
  {
   "cell_type": "code",
   "execution_count": null,
   "metadata": {},
   "outputs": [],
   "source": [
    "direction = 'fwd' if backwards == False else 'bwd'"
   ]
  },
  {
   "cell_type": "code",
   "execution_count": null,
   "metadata": {},
   "outputs": [],
   "source": [
    "wiki = f'{lang}wiki'\n",
    "base_path = Path('data')\n",
    "path = base_path/wiki\n",
    "model_base_path = path/'model'\n",
    "model_path = model_base_path/step/direction\n",
    "spm_path = model_base_path/'ft'/'spm'\n",
    "lm_fns = [(model_base_path/'ft'/direction/f'{lang}_ft_model').absolute(), \n",
    "          (model_base_path/'ft'/direction/f'{lang}_ft_vocab').absolute(),\n",
    "          (model_base_path/'ft'/direction/f'{lang}_ft_encoder').absolute()]"
   ]
  },
  {
   "cell_type": "code",
   "execution_count": null,
   "metadata": {},
   "outputs": [],
   "source": [
    "data_path = path/'germeval'"
   ]
  },
  {
   "cell_type": "code",
   "execution_count": null,
   "metadata": {},
   "outputs": [
    {
     "data": {
      "text/plain": [
       "([Path('/data/projects/git/fastai_ulmfit/data/dewiki/model/ft/fwd/de_ft'),\n",
       "  Path('/data/projects/git/fastai_ulmfit/data/dewiki/model/ft/fwd/de_ft_vocab')],\n",
       " Path('data/dewiki/model/ft/spm'))"
      ]
     },
     "execution_count": null,
     "metadata": {},
     "output_type": "execute_result"
    }
   ],
   "source": [
    "lm_fns, spm_path"
   ]
  },
  {
   "cell_type": "markdown",
   "metadata": {},
   "source": [
    "## Prepare classifier dataset"
   ]
  },
  {
   "cell_type": "code",
   "execution_count": null,
   "metadata": {},
   "outputs": [],
   "source": [
    "df = pd.read_csv(data_path/'data_classification.csv')"
   ]
  },
  {
   "cell_type": "code",
   "execution_count": null,
   "metadata": {},
   "outputs": [
    {
     "data": {
      "text/html": [
       "<div>\n",
       "<style scoped>\n",
       "    .dataframe tbody tr th:only-of-type {\n",
       "        vertical-align: middle;\n",
       "    }\n",
       "\n",
       "    .dataframe tbody tr th {\n",
       "        vertical-align: top;\n",
       "    }\n",
       "\n",
       "    .dataframe thead th {\n",
       "        text-align: right;\n",
       "    }\n",
       "</style>\n",
       "<table border=\"1\" class=\"dataframe\">\n",
       "  <thead>\n",
       "    <tr style=\"text-align: right;\">\n",
       "      <th></th>\n",
       "      <th>text</th>\n",
       "      <th>label</th>\n",
       "      <th>label_fine</th>\n",
       "      <th>is_valid</th>\n",
       "    </tr>\n",
       "  </thead>\n",
       "  <tbody>\n",
       "    <tr>\n",
       "      <th>0</th>\n",
       "      <td>Komisch das die Realitätsverweigerung immer von linken erbärmlichen Correctiv Accounts ausgeht...</td>\n",
       "      <td>OFFENSE</td>\n",
       "      <td>INSULT</td>\n",
       "      <td>True</td>\n",
       "    </tr>\n",
       "    <tr>\n",
       "      <th>1</th>\n",
       "      <td>CDU steht seid Strauss, Kohl, Schäuble, vdLeyen für Korruption, Schwarzgeld, und dies überall...</td>\n",
       "      <td>OFFENSE</td>\n",
       "      <td>ABUSE</td>\n",
       "      <td>True</td>\n",
       "    </tr>\n",
       "    <tr>\n",
       "      <th>2</th>\n",
       "      <td>Die Gesichter, Namen, Religion der Täter würde zur Aufklärung beitragen...</td>\n",
       "      <td>OTHER</td>\n",
       "      <td>OTHER</td>\n",
       "      <td>True</td>\n",
       "    </tr>\n",
       "    <tr>\n",
       "      <th>3</th>\n",
       "      <td>Wie verwirrt muss man sein um sich zu weigern die Tatsachen anzuerkennen, das dieser Hass von Ferkel importiert wurde....was bezweckt man damit sich selber so zu belügen, unverständlich</td>\n",
       "      <td>OFFENSE</td>\n",
       "      <td>ABUSE</td>\n",
       "      <td>True</td>\n",
       "    </tr>\n",
       "    <tr>\n",
       "      <th>4</th>\n",
       "      <td>Weil die AfD den Ferkelfunk abschaffen will, deshalb haben die Linken Zecken, Schmarotzer Angst für ihr kacken arbeiten zu müssen, deshalb sind die Führer treu und senden jeden Dreck, Lüge...</td>\n",
       "      <td>OFFENSE</td>\n",
       "      <td>ABUSE</td>\n",
       "      <td>True</td>\n",
       "    </tr>\n",
       "    <tr>\n",
       "      <th>...</th>\n",
       "      <td>...</td>\n",
       "      <td>...</td>\n",
       "      <td>...</td>\n",
       "      <td>...</td>\n",
       "    </tr>\n",
       "    <tr>\n",
       "      <th>15413</th>\n",
       "      <td>250 Menschen auf der Demonstration gegen das Dublin 2 Abkommen auf der Demo der selbstorganisierten ,,Refugees for Change'' #Refugeeswelcome</td>\n",
       "      <td>OTHER</td>\n",
       "      <td>OTHER</td>\n",
       "      <td>False</td>\n",
       "    </tr>\n",
       "    <tr>\n",
       "      <th>15414</th>\n",
       "      <td>Erneut Massaker an Kurdische ZivilistInnen durch islamistische ISIS. YXK ruft bundesweit zu Demonstrationen auf. #Rojava #ISIS #syrien</td>\n",
       "      <td>OTHER</td>\n",
       "      <td>OTHER</td>\n",
       "      <td>False</td>\n",
       "    </tr>\n",
       "    <tr>\n",
       "      <th>15415</th>\n",
       "      <td>Hunderte Refugees haben die Grenze zur spanischen Exklave Melilla überwunden. Freedom of Movement is everybodies right! #Rassismus #NoBorder</td>\n",
       "      <td>OTHER</td>\n",
       "      <td>OTHER</td>\n",
       "      <td>False</td>\n",
       "    </tr>\n",
       "    <tr>\n",
       "      <th>15416</th>\n",
       "      <td>Heute ab 17:00 Uhr an der Alten Oper FFM: Kundgebung/Picknick/Musik zum Jahrestag der Gezi-Proteste #Gezi, #Taksim, #Solidarität, #Erdogan</td>\n",
       "      <td>OTHER</td>\n",
       "      <td>OTHER</td>\n",
       "      <td>False</td>\n",
       "    </tr>\n",
       "    <tr>\n",
       "      <th>15417</th>\n",
       "      <td>Uns gibt es jetzt auch auf #twitter. Folgt unserer Page - empfehlt sie weiter!</td>\n",
       "      <td>OTHER</td>\n",
       "      <td>OTHER</td>\n",
       "      <td>False</td>\n",
       "    </tr>\n",
       "  </tbody>\n",
       "</table>\n",
       "<p>15418 rows × 4 columns</p>\n",
       "</div>"
      ],
      "text/plain": [
       "                                                                                                                                                                                                  text  \\\n",
       "0                                                                                                    Komisch das die Realitätsverweigerung immer von linken erbärmlichen Correctiv Accounts ausgeht...   \n",
       "1                                                                                                     CDU steht seid Strauss, Kohl, Schäuble, vdLeyen für Korruption, Schwarzgeld, und dies überall...   \n",
       "2                                                                                                                           Die Gesichter, Namen, Religion der Täter würde zur Aufklärung beitragen...   \n",
       "3            Wie verwirrt muss man sein um sich zu weigern die Tatsachen anzuerkennen, das dieser Hass von Ferkel importiert wurde....was bezweckt man damit sich selber so zu belügen, unverständlich   \n",
       "4      Weil die AfD den Ferkelfunk abschaffen will, deshalb haben die Linken Zecken, Schmarotzer Angst für ihr kacken arbeiten zu müssen, deshalb sind die Führer treu und senden jeden Dreck, Lüge...   \n",
       "...                                                                                                                                                                                                ...   \n",
       "15413                                                     250 Menschen auf der Demonstration gegen das Dublin 2 Abkommen auf der Demo der selbstorganisierten ,,Refugees for Change'' #Refugeeswelcome   \n",
       "15414                                                           Erneut Massaker an Kurdische ZivilistInnen durch islamistische ISIS. YXK ruft bundesweit zu Demonstrationen auf. #Rojava #ISIS #syrien   \n",
       "15415                                                     Hunderte Refugees haben die Grenze zur spanischen Exklave Melilla überwunden. Freedom of Movement is everybodies right! #Rassismus #NoBorder   \n",
       "15416                                                       Heute ab 17:00 Uhr an der Alten Oper FFM: Kundgebung/Picknick/Musik zum Jahrestag der Gezi-Proteste #Gezi, #Taksim, #Solidarität, #Erdogan   \n",
       "15417                                                                                                                   Uns gibt es jetzt auch auf #twitter. Folgt unserer Page - empfehlt sie weiter!   \n",
       "\n",
       "         label label_fine  is_valid  \n",
       "0      OFFENSE     INSULT      True  \n",
       "1      OFFENSE      ABUSE      True  \n",
       "2        OTHER      OTHER      True  \n",
       "3      OFFENSE      ABUSE      True  \n",
       "4      OFFENSE      ABUSE      True  \n",
       "...        ...        ...       ...  \n",
       "15413    OTHER      OTHER     False  \n",
       "15414    OTHER      OTHER     False  \n",
       "15415    OTHER      OTHER     False  \n",
       "15416    OTHER      OTHER     False  \n",
       "15417    OTHER      OTHER     False  \n",
       "\n",
       "[15418 rows x 4 columns]"
      ]
     },
     "execution_count": null,
     "metadata": {},
     "output_type": "execute_result"
    }
   ],
   "source": [
    "df"
   ]
  },
  {
   "cell_type": "markdown",
   "metadata": {},
   "source": [
    "## Train model"
   ]
  },
  {
   "cell_type": "code",
   "execution_count": null,
   "metadata": {},
   "outputs": [],
   "source": [
    "tok = SentencePieceTokenizer(lang=lang, sp_model=spm_path/'spm.model')"
   ]
  },
  {
   "cell_type": "code",
   "execution_count": null,
   "metadata": {},
   "outputs": [],
   "source": [
    "with open(f'{lm_fns[1]}.pkl', 'rb') as f:\n",
    "      vocab = pickle.load(f)"
   ]
  },
  {
   "cell_type": "code",
   "execution_count": null,
   "metadata": {},
   "outputs": [
    {
     "data": {
      "text/html": [],
      "text/plain": [
       "<IPython.core.display.HTML object>"
      ]
     },
     "metadata": {},
     "output_type": "display_data"
    },
    {
     "name": "stderr",
     "output_type": "stream",
     "text": [
      "/home/florian/miniconda3/envs/fastai/lib/python3.8/site-packages/numpy/core/_asarray.py:83: VisibleDeprecationWarning: Creating an ndarray from ragged nested sequences (which is a list-or-tuple of lists-or-tuples-or ndarrays with different lengths or shapes) is deprecated. If you meant to do this, you must specify 'dtype=object' when creating the ndarray\n",
      "  return array(a, dtype, copy=False, order=order)\n"
     ]
    }
   ],
   "source": [
    "dblocks = DataBlock(blocks=(TextBlock.from_df('text', tok=tok, vocab=vocab, backwards=backwards), CategoryBlock),\n",
    "                    get_x=ColReader('text'),\n",
    "                    get_y=ColReader('label'), \n",
    "                    splitter=ColSplitter())\n",
    "dls = dblocks.dataloaders(df, bs=bs, num_workers=num_workers)"
   ]
  },
  {
   "cell_type": "code",
   "execution_count": null,
   "metadata": {},
   "outputs": [
    {
     "data": {
      "text/html": [
       "<table border=\"1\" class=\"dataframe\">\n",
       "  <thead>\n",
       "    <tr style=\"text-align: right;\">\n",
       "      <th></th>\n",
       "      <th>text</th>\n",
       "      <th>category</th>\n",
       "    </tr>\n",
       "  </thead>\n",
       "  <tbody>\n",
       "    <tr>\n",
       "      <th>0</th>\n",
       "      <td>▁xxbos ▁xxmaj ▁als ▁xxmaj ▁waffen lie fer ant ▁xxmaj ▁israel s ▁be geht ▁xxmaj ▁deutschland ▁xxmaj ▁ verrat ▁an ▁menschen - ▁und ▁völkerrecht lichen ▁xxmaj ▁grund prinzip ien . ▁xxmaj ▁es ▁ist ▁para do x , ▁dass ▁xxmaj ▁deutschland ▁zur ▁xxmaj ▁rechtfertigung ▁seiner ▁kriminellen ▁xxmaj ▁politik ▁auf ▁den ▁xxmaj ▁holocaust ▁verweis t .” ▁( zi t iert ▁aus : ▁xxmaj ▁möge ▁keiner ▁sagen , ▁ er ▁hätte ▁es ▁nicht ▁gewusst !) ▁xxup ▁other ▁xxup ▁other ▁xxmaj ▁im ▁xxmaj ▁jahr ▁2 ▁xxrep ▁3 ▁0 ▁ er schi en ▁das ▁xxmaj ▁buch : ▁» die ▁holocaust - industrie « ▁von ▁xxmaj ▁prof . ▁xxmaj ▁fin kel stein . ▁xxmaj ▁und ▁2010 ▁dann , ▁ nan u , ▁wen ▁wundert ‘ s : ▁40 . ▁xxrep ▁3 ▁0 ▁ . ▁xxrep ▁3 ▁0 ▁us - do ll ar ▁xxmaj ▁ betrug ▁der ▁xxmaj ▁jewish ▁xxmaj ▁claim ▁xxmaj ▁ conference ▁wird ▁bekannt . ▁xxup</td>\n",
       "      <td>OFFENSE</td>\n",
       "    </tr>\n",
       "    <tr>\n",
       "      <th>1</th>\n",
       "      <td>▁xxbos ▁ : ▁top - schm a rot zer ▁xxmaj ▁volk er ▁# ▁xxmaj ▁ beck ▁4 ▁xxmaj ▁wochen ▁krank ▁geschrieben . ▁xxmaj ▁jedem ▁xxmaj ▁arbeitnehmer ▁würde ▁man ▁ frist los ▁kündigen . ▁| lbr | ▁xxup ▁was ▁xxup ▁will ▁xxup ▁die ▁xxup ▁sau ? ▁xxup ▁offense ▁xxup ▁insult ▁xxmaj ▁mich ▁würde ▁interessieren , ▁ob ▁ er ▁das ▁auch ▁für ▁einen ▁xxmaj ▁atheist en ▁gemacht ▁hätte . ▁xxmaj ▁oder ▁welche ▁xxmaj ▁aus wirkung ▁es ▁auf ▁die ▁xxmaj ▁entscheidung ▁des ▁xxmaj ▁richter s ▁hätte , ▁wenn ▁man ▁beim ▁xxmaj ▁beginn ▁der ▁xxmaj ▁ver handlung ▁die ▁xxmaj ▁ab nahme ▁des ▁xxmaj ▁kreuz es ▁verlangt . ▁xxup ▁other ▁xxup ▁other ▁xxmaj ▁heilig er ▁xxmaj ▁geist , ▁gib , ▁dass ▁wir ▁xxmaj ▁frieden ▁ stifte n , ▁wo ▁xxmaj ▁gegen sätze ▁auf einander prall en , ▁und ▁durch ▁unser ▁xxmaj ▁leben ▁einen ▁xxmaj ▁wider schein ▁des ▁xxmaj ▁ er bar men s ▁xxmaj ▁gottes</td>\n",
       "      <td>OTHER</td>\n",
       "    </tr>\n",
       "    <tr>\n",
       "      <th>2</th>\n",
       "      <td>▁xxbos ▁# ▁ö kum en e ▁herzlich er ▁xxmaj ▁wert schätzung “ ▁ - ▁# ▁ ek d - spitze ▁um ▁be d ford - s tro hm ▁trifft ▁im ▁xxmaj ▁februar ▁in ▁xxmaj ▁rom . ▁xxup ▁other ▁xxup ▁other ▁übrigens ▁braucht ▁man ▁zum ▁xxmaj ▁account ▁lesen ▁ja ▁nicht ▁mal ▁jmd . ▁zu ▁folgen ▁normalerweise . ▁xxup ▁other ▁xxup ▁other ▁xxmaj ▁jetzt ▁frisst ▁der ▁xxmaj ▁gender ismus ▁auch ▁den ▁xxmaj ▁feminismus , ▁so ▁xxup ▁offense ▁xxup ▁prof an ity ▁xxmaj ▁ist ▁das ▁nicht ▁dieses ▁xxmaj ▁buch ▁aus ▁dem ▁xxmaj ▁adolf ▁xxmaj ▁hitler ▁xxmaj ▁ verlag ? ▁xxup ▁offense ▁xxup ▁abuse ▁xxmaj ▁frau ▁xxmaj ▁merkel ▁und ▁ihre ▁xxmaj ▁ lem min ge ! ▁| lbr | ▁xxmaj ▁wer ▁gibt ▁ihnen ▁die ▁xxmaj ▁ befehl e ? ▁xxup ▁offense ▁xxup ▁abuse ▁xxmaj ▁reich s bürger ▁xxmaj ▁sind ▁keine ▁xxmaj ▁gefahr , ▁xxmaj ▁aber ▁xxmaj ▁asyl schm a rot zer ▁und ▁xxmaj ▁illegale</td>\n",
       "      <td>OFFENSE</td>\n",
       "    </tr>\n",
       "    <tr>\n",
       "      <th>3</th>\n",
       "      <td>▁xxbos ▁ : ▁# ▁pegida ▁| lbr | ▁ mutti ▁ multikulti ▁| lbr | ▁stop ▁# ▁eu s s r ▁| lbr | ▁stop ▁| lbr | ▁xxmaj ▁so ▁sieht ▁xxmaj ▁zer setzung ▁aus ! ▁xxup ▁other ▁xxup ▁other ▁xxmaj ▁ botschafter ▁ein be stellen , ausweis en , us - truppe n ▁raus ▁aus ▁xxmaj ▁deutschland ! ▁xxup ▁other ▁xxup ▁other ▁xxmaj ▁wenn ▁xxmaj ▁islam kritiker ▁ zensiert ▁werden ▁und ▁über ▁muslim ische ▁xxmaj ▁feiertage ▁de bat t iert ▁wird , ▁weiß ▁man , ▁was ▁die ▁xxmaj ▁zukunft ▁bringt . ▁xxup ▁offense ▁xxup ▁abuse ▁| lbr | ▁xxmaj ▁sehe ▁mir ▁auch ▁jede ▁xxmaj ▁demo ▁von ▁xxmaj ▁dresden ▁und ▁xxmaj ▁leipzig ▁an . ▁xxmaj ▁kann ▁leider ▁nicht ▁selber ▁hin fahren . ▁xxup ▁other ▁xxup ▁other ▁xxmaj ▁und ▁ich ▁finde ▁xxmaj ▁ihre ▁xxmaj ▁schuld zu schreibung ▁an ▁die ▁xxup ▁spd ▁2013 ▁arg ▁mag er \". ▁xxmaj ▁denn ▁die ▁xxmaj ▁linke</td>\n",
       "      <td>OTHER</td>\n",
       "    </tr>\n",
       "    <tr>\n",
       "      <th>4</th>\n",
       "      <td>▁xxbos ▁xxmaj ▁große ▁xxmaj ▁ sätze , ▁die ▁für ▁immer ▁an ▁ihre ▁xxmaj ▁urheber ▁erinnern ▁werden : ▁| lbr | ▁&lt; u + 25 ab &gt; &lt; u + fe 0 f &gt; m . ▁xxup ▁l . ▁xxmaj ▁ king : ▁\" i ▁have ▁a ▁dream !\" ▁| lbr | ▁&lt; u + 25 ab &gt; &lt; u + fe 0 f &gt; marx : ▁\" das ▁xxmaj ▁sein ▁bestimmt ▁das ▁xxmaj ▁ bewusstsein .\" ▁| lbr | ▁&lt; u + 25 ab &gt; &lt; u + fe 0 f &gt; gan d hi : ▁\" liebe ▁ist ▁die ▁ stärkste ▁xxmaj ▁macht ▁der ▁xxmaj ▁welt .\" ▁| lbr | ▁&lt; u + 25 ab &gt; &lt; u + fe 0 f &gt; ein stein : ▁\" gott ▁ wür fel t ▁nicht .\" ▁| lbr | ▁&lt; u + 25 ab &gt; &lt; u + fe 0 f</td>\n",
       "      <td>OTHER</td>\n",
       "    </tr>\n",
       "    <tr>\n",
       "      <th>5</th>\n",
       "      <td>▁xxbos ▁xxmaj ▁heute ▁ist ▁wohl ▁wieder ▁mal ▁welt - arsch loch - tag ! ?! ?!? ▁| lbr | ▁xxmaj ▁es ▁sind ▁gerade ▁wieder ▁extrem ▁viele ▁xxmaj ▁vollpfosten ▁in ▁den ▁kommentar - spalten ▁ein iger ▁xxmaj ▁tweets ▁unterwegs ! ▁&lt; u + ▁xxrep ▁3 ▁0 ▁1 f 92 c &gt; &lt; u + ▁xxrep ▁3 ▁0 ▁1 f 92 c &gt; &lt; u + ▁xxrep ▁3 ▁0 ▁1 f 92 c &gt; &lt; u + ▁xxrep ▁3 ▁0 ▁1 f 92 c &gt; &lt; u + ▁xxrep ▁3 ▁0 ▁1 f 92 c &gt; &lt; u + ▁xxrep ▁3 ▁0 ▁1 f 92 c &gt; ▁| lbr | ▁xxmaj ▁wer ▁heute ▁seine ▁/ ▁ihre ▁xxmaj ▁block listen ▁auf füllen ▁möchte , ▁hat ▁die ▁freie ▁xxmaj ▁wahl ▁... &lt; u + ▁xxrep ▁3 ▁0 ▁1 f 92 f &gt; &lt; u + ▁xxrep ▁3 ▁0 ▁1 f 92 f &gt; &lt;</td>\n",
       "      <td>OFFENSE</td>\n",
       "    </tr>\n",
       "    <tr>\n",
       "      <th>6</th>\n",
       "      <td>▁xxbos ▁xxmaj ▁zum ▁xxmaj ▁leb zelt en ▁xxmaj ▁ ta ig ▁ n im bt ▁man ▁| lbr | ▁20 ▁xxmaj ▁ maß ▁xxmaj ▁ hö n ig , ▁2 ▁xxmaj ▁ maß ▁xxmaj ▁wasser , ▁last s ▁| lbr | ▁a in ▁gu ette ▁xxmaj ▁ st und t ▁sie den , ▁xxmaj ▁ge wir z ▁| lbr | ▁da rein , ▁8 ▁halb ▁xxmaj ▁vier ling ▁xxmaj ▁im ber , ▁| lbr | ▁8 ▁mal ▁3 ▁xxmaj ▁lott ▁xxmaj ▁pfeffer , ▁8 ▁xxmaj ▁lott ▁xxmaj ▁ zi me t , ▁| lbr | ▁8 ▁xxmaj ▁lott ▁xxmaj ▁ mus gat n us , ▁8 ▁halbe ▁xxmaj ▁lott ▁xxmaj ▁nä gl , ▁| lbr | ▁ ä nis ▁1 ⁄ 2 ▁xxmaj ▁lott , ▁xxmaj ▁co ri ander ▁1 ⁄ 2 ▁xxmaj ▁lott . ▁| lbr | ▁xxmaj ▁dis es ▁xxmaj ▁ gewürz ▁gehört ▁in ▁zw en ▁xxmaj ▁da</td>\n",
       "      <td>OTHER</td>\n",
       "    </tr>\n",
       "    <tr>\n",
       "      <th>7</th>\n",
       "      <td>▁xxbos ▁xxmaj ▁na ▁dann ▁wird ▁die ▁xxup ▁ja ▁halt ▁auf gelöst . ▁xxmaj ▁so ▁what ? ▁xxmaj ▁die ▁xxmaj ▁mitglieder ▁ treten ▁einfach ▁in ▁die ▁afd ▁direkt ▁ein ▁und ▁fallen ▁neben ▁xxmaj ▁höcke ▁&amp;&amp; ▁xxmaj ▁co ▁auch ▁nicht ▁mehr ▁weiter ▁auf ▁&lt; u + ▁xxrep ▁3 ▁0 ▁1 f 937 &gt; &lt; u + ▁xxrep ▁3 ▁0 ▁1 f 3 fd &gt; &lt; u +200 d &gt; &lt; u +264 0&gt; &lt; u + fe 0 f &gt; ▁xxmaj ▁außerdem : ▁man ▁könnte ▁ja ▁mal ▁gegen prü fen , ▁wieviele ▁xxup ▁ja ▁xxmaj ▁mitglieder ▁bei ▁ m dl ▁und ▁md b ▁etc ▁angestellt ▁sind ▁&lt; u + ▁xxrep ▁3 ▁0 ▁1 f 937 &gt; &lt; u + ▁xxrep ▁3 ▁0 ▁1 f 3 fd &gt; &lt; u +200 d &gt; &lt; u +264 0&gt; &lt; u + fe 0 f &gt;</td>\n",
       "      <td>OTHER</td>\n",
       "    </tr>\n",
       "    <tr>\n",
       "      <th>8</th>\n",
       "      <td>▁xxbos ▁xxmaj ▁wie ▁wäre ▁es ▁mit ▁einer ▁xxmaj ▁ koch show ? ▁| lbr | ▁xxmaj ▁hay ali ▁+ ▁xxmaj ▁be d na rz ▁kochen , ▁ backen ▁+ ▁plau der n ▁mit ▁ geladen en ▁xxmaj ▁gäste n ▁... ▁| lbr | ▁&lt; u + ▁xxrep ▁3 ▁0 ▁1 f 41 0&gt; käse tar te ▁mit ▁xxmaj ▁ku bit sche k , ▁| lbr | ▁xxmaj ▁arme ▁xxmaj ▁ritter ▁&lt; u + ▁xxrep ▁3 ▁0 ▁1 f 93 a &gt; ▁mit ▁v . ▁xxmaj ▁ stor ch , ▁| lbr | ▁xxmaj ▁deutsche ▁&lt; u + ▁xxrep ▁3 ▁0 ▁1 f 95 4&gt; spezial ität en ▁mit ▁xxmaj ▁ len gs feld ▁... ▁| lbr | ▁xxmaj ▁ein ▁nicht ▁ enden wollen des ▁tv - format ▁für ▁alle , ▁die ▁gerne ▁mit ▁xxmaj ▁nazis ▁reden</td>\n",
       "      <td>OTHER</td>\n",
       "    </tr>\n",
       "  </tbody>\n",
       "</table>"
      ],
      "text/plain": [
       "<IPython.core.display.HTML object>"
      ]
     },
     "metadata": {},
     "output_type": "display_data"
    }
   ],
   "source": [
    "dls.show_batch()"
   ]
  },
  {
   "cell_type": "code",
   "execution_count": null,
   "metadata": {},
   "outputs": [
    {
     "data": {
      "text/plain": [
       "['OFFENSE', 'OTHER']"
      ]
     },
     "execution_count": null,
     "metadata": {},
     "output_type": "execute_result"
    }
   ],
   "source": [
    "dls.vocab[1]"
   ]
  },
  {
   "cell_type": "code",
   "execution_count": null,
   "metadata": {},
   "outputs": [
    {
     "data": {
      "text/plain": [
       "(96, 24)"
      ]
     },
     "execution_count": null,
     "metadata": {},
     "output_type": "execute_result"
    }
   ],
   "source": [
    "len(dls.train), len(dls.valid)"
   ]
  },
  {
   "cell_type": "code",
   "execution_count": null,
   "metadata": {},
   "outputs": [],
   "source": [
    "avg = 'macro'\n",
    "metrics=[accuracy, Precision(average=avg), Recall(average=avg), F1Score(average=avg)]"
   ]
  },
  {
   "cell_type": "code",
   "execution_count": null,
   "metadata": {},
   "outputs": [],
   "source": [
    "learn = text_classifier_learner(dls, AWD_LSTM, drop_mult=1, pretrained=False, \n",
    "                               metrics=metrics).to_fp16()\n",
    "learn.path = model_path"
   ]
  },
  {
   "cell_type": "code",
   "execution_count": null,
   "metadata": {},
   "outputs": [
    {
     "data": {
      "text/plain": [
       "<fastai.text.learner.TextLearner at 0x7fbf6e67eb50>"
      ]
     },
     "execution_count": null,
     "metadata": {},
     "output_type": "execute_result"
    }
   ],
   "source": [
    "learn.load_encoder(lm_fns[2].absolute())"
   ]
  },
  {
   "cell_type": "code",
   "execution_count": null,
   "metadata": {},
   "outputs": [
    {
     "data": {
      "text/html": [],
      "text/plain": [
       "<IPython.core.display.HTML object>"
      ]
     },
     "metadata": {},
     "output_type": "display_data"
    },
    {
     "data": {
      "text/plain": [
       "SuggestedLRs(lr_min=0.03019951581954956, lr_steep=1.0964781722577754e-06)"
      ]
     },
     "execution_count": null,
     "metadata": {},
     "output_type": "execute_result"
    },
    {
     "data": {
      "image/png": "[encoded data removed]",
      "text/plain": [
       "<Figure size 432x288 with 1 Axes>"
      ]
     },
     "metadata": {
      "needs_background": "light"
     },
     "output_type": "display_data"
    }
   ],
   "source": [
    "learn.lr_find()"
   ]
  },
  {
   "cell_type": "code",
   "execution_count": null,
   "metadata": {},
   "outputs": [
    {
     "data": {
      "text/plain": [
       "0.07999999999999999"
      ]
     },
     "execution_count": null,
     "metadata": {},
     "output_type": "execute_result"
    }
   ],
   "source": [
    "lr = 3e-2\n",
    "lr *= bs/48\n",
    "lr"
   ]
  },
  {
   "cell_type": "code",
   "execution_count": null,
   "metadata": {},
   "outputs": [
    {
     "data": {
      "text/html": [
       "<table border=\"1\" class=\"dataframe\">\n",
       "  <thead>\n",
       "    <tr style=\"text-align: left;\">\n",
       "      <th>epoch</th>\n",
       "      <th>train_loss</th>\n",
       "      <th>valid_loss</th>\n",
       "      <th>accuracy</th>\n",
       "      <th>precision_score</th>\n",
       "      <th>recall_score</th>\n",
       "      <th>f1_score</th>\n",
       "      <th>time</th>\n",
       "    </tr>\n",
       "  </thead>\n",
       "  <tbody>\n",
       "    <tr>\n",
       "      <td>0</td>\n",
       "      <td>0.570869</td>\n",
       "      <td>0.536239</td>\n",
       "      <td>0.726823</td>\n",
       "      <td>0.686450</td>\n",
       "      <td>0.634317</td>\n",
       "      <td>0.642656</td>\n",
       "      <td>00:06</td>\n",
       "    </tr>\n",
       "  </tbody>\n",
       "</table>"
      ],
      "text/plain": [
       "<IPython.core.display.HTML object>"
      ]
     },
     "metadata": {},
     "output_type": "display_data"
    },
    {
     "data": {
      "text/html": [
       "<table border=\"1\" class=\"dataframe\">\n",
       "  <thead>\n",
       "    <tr style=\"text-align: left;\">\n",
       "      <th>epoch</th>\n",
       "      <th>train_loss</th>\n",
       "      <th>valid_loss</th>\n",
       "      <th>accuracy</th>\n",
       "      <th>precision_score</th>\n",
       "      <th>recall_score</th>\n",
       "      <th>f1_score</th>\n",
       "      <th>time</th>\n",
       "    </tr>\n",
       "  </thead>\n",
       "  <tbody>\n",
       "    <tr>\n",
       "      <td>0</td>\n",
       "      <td>0.504436</td>\n",
       "      <td>0.503013</td>\n",
       "      <td>0.752887</td>\n",
       "      <td>0.725963</td>\n",
       "      <td>0.667126</td>\n",
       "      <td>0.679550</td>\n",
       "      <td>00:11</td>\n",
       "    </tr>\n",
       "    <tr>\n",
       "      <td>1</td>\n",
       "      <td>0.468796</td>\n",
       "      <td>0.470551</td>\n",
       "      <td>0.787859</td>\n",
       "      <td>0.756319</td>\n",
       "      <td>0.761057</td>\n",
       "      <td>0.758551</td>\n",
       "      <td>00:11</td>\n",
       "    </tr>\n",
       "    <tr>\n",
       "      <td>2</td>\n",
       "      <td>0.428334</td>\n",
       "      <td>0.473075</td>\n",
       "      <td>0.796767</td>\n",
       "      <td>0.768103</td>\n",
       "      <td>0.755874</td>\n",
       "      <td>0.761253</td>\n",
       "      <td>00:11</td>\n",
       "    </tr>\n",
       "    <tr>\n",
       "      <td>3</td>\n",
       "      <td>0.385227</td>\n",
       "      <td>0.484810</td>\n",
       "      <td>0.787199</td>\n",
       "      <td>0.755613</td>\n",
       "      <td>0.761118</td>\n",
       "      <td>0.758179</td>\n",
       "      <td>00:11</td>\n",
       "    </tr>\n",
       "    <tr>\n",
       "      <td>4</td>\n",
       "      <td>0.357336</td>\n",
       "      <td>0.473324</td>\n",
       "      <td>0.801716</td>\n",
       "      <td>0.777646</td>\n",
       "      <td>0.751600</td>\n",
       "      <td>0.761704</td>\n",
       "      <td>00:11</td>\n",
       "    </tr>\n",
       "  </tbody>\n",
       "</table>"
      ],
      "text/plain": [
       "<IPython.core.display.HTML object>"
      ]
     },
     "metadata": {},
     "output_type": "display_data"
    }
   ],
   "source": [
    "learn.fine_tune(5, lr)"
   ]
  },
  {
   "cell_type": "code",
   "execution_count": null,
   "metadata": {},
   "outputs": [
    {
     "data": {
      "image/png": "[encoded data removed]",
      "text/plain": [
       "<Figure size 432x288 with 1 Axes>"
      ]
     },
     "metadata": {
      "needs_background": "light"
     },
     "output_type": "display_data"
    }
   ],
   "source": [
    "learn.recorder.plot_loss()"
   ]
  },
  {
   "cell_type": "code",
   "execution_count": null,
   "metadata": {},
   "outputs": [],
   "source": [
    "learn.export()"
   ]
  },
  {
   "cell_type": "code",
   "execution_count": null,
   "metadata": {},
   "outputs": [],
   "source": []
  }
 ],
 "metadata": {
  "kernelspec": {
   "display_name": "fastai",
   "language": "python",
   "name": "fastai"
  }
 },
 "nbformat": 4,
 "nbformat_minor": 4
}
