{
 "cells": [
  {
   "cell_type": "markdown",
   "metadata": {},
   "source": [
    "# Germeval 2019 Classification"
   ]
  },
  {
   "cell_type": "markdown",
   "metadata": {},
   "source": [
    "https://projects.fzai.h-da.de/iggsa/data-2019/\n",
    "\n",
    "https://www.researchgate.net/publication/337007402_UPB_at_GermEval-2019_Task_2_BERT-Based_Offensive_Language_Classification_of_German_Tweets"
   ]
  },
  {
   "cell_type": "code",
   "execution_count": 2,
   "metadata": {},
   "outputs": [],
   "source": [
    "from fastai.text.all import *"
   ]
  },
  {
   "cell_type": "code",
   "execution_count": 3,
   "metadata": {},
   "outputs": [],
   "source": [
    "lang = 'de'\n",
    "backwards = False\n",
    "bs=128\n",
    "vocab_sz = 15000\n",
    "num_workers=18\n",
    "step = 'class' # fine-tuning"
   ]
  },
  {
   "cell_type": "code",
   "execution_count": 4,
   "metadata": {},
   "outputs": [],
   "source": [
    "direction = 'fwd' if backwards == False else 'bwd'"
   ]
  },
  {
   "cell_type": "code",
   "execution_count": 5,
   "metadata": {},
   "outputs": [],
   "source": [
    "wiki = f'{lang}wiki'\n",
    "base_path = Path('data')\n",
    "path = base_path/wiki\n",
    "model_base_path = path/'model'\n",
    "model_path = model_base_path/step/direction\n",
    "spm_path = model_base_path/'ft'/'spm'\n",
    "lm_fns = [(model_base_path/'ft'/direction/f'{lang}_ft').absolute(), \n",
    "          (model_base_path/'ft'/direction/f'{lang}_ft_vocab').absolute()]"
   ]
  },
  {
   "cell_type": "code",
   "execution_count": 6,
   "metadata": {},
   "outputs": [],
   "source": [
    "data_path = path/'germeval'"
   ]
  },
  {
   "cell_type": "code",
   "execution_count": 7,
   "metadata": {},
   "outputs": [
    {
     "data": {
      "text/plain": [
       "([Path('/data/projects/git/fastai_ulmfit_german/data/dewiki/model/ft/fwd/de_ft'),\n",
       "  Path('/data/projects/git/fastai_ulmfit_german/data/dewiki/model/ft/fwd/de_ft_vocab')],\n",
       " Path('data/dewiki/model/ft/spm'))"
      ]
     },
     "execution_count": 7,
     "metadata": {},
     "output_type": "execute_result"
    }
   ],
   "source": [
    "lm_fns, spm_path"
   ]
  },
  {
   "cell_type": "markdown",
   "metadata": {},
   "source": [
    "## Prepare classifier dataset"
   ]
  },
  {
   "cell_type": "code",
   "execution_count": 8,
   "metadata": {},
   "outputs": [],
   "source": [
    "df = pd.read_csv(data_path/'data_classification.csv')"
   ]
  },
  {
   "cell_type": "code",
   "execution_count": 14,
   "metadata": {},
   "outputs": [
    {
     "data": {
      "text/html": [
       "<div>\n",
       "<style scoped>\n",
       "    .dataframe tbody tr th:only-of-type {\n",
       "        vertical-align: middle;\n",
       "    }\n",
       "\n",
       "    .dataframe tbody tr th {\n",
       "        vertical-align: top;\n",
       "    }\n",
       "\n",
       "    .dataframe thead th {\n",
       "        text-align: right;\n",
       "    }\n",
       "</style>\n",
       "<table border=\"1\" class=\"dataframe\">\n",
       "  <thead>\n",
       "    <tr style=\"text-align: right;\">\n",
       "      <th></th>\n",
       "      <th>text</th>\n",
       "      <th>label</th>\n",
       "      <th>label_fine</th>\n",
       "      <th>is_valid</th>\n",
       "    </tr>\n",
       "  </thead>\n",
       "  <tbody>\n",
       "    <tr>\n",
       "      <th>0</th>\n",
       "      <td>Komisch das die Realitätsverweigerung immer von linken erbärmlichen Correctiv Accounts ausgeht...</td>\n",
       "      <td>OFFENSE</td>\n",
       "      <td>INSULT</td>\n",
       "      <td>True</td>\n",
       "    </tr>\n",
       "    <tr>\n",
       "      <th>1</th>\n",
       "      <td>CDU steht seid Strauss, Kohl, Schäuble, vdLeyen für Korruption, Schwarzgeld, und dies überall...</td>\n",
       "      <td>OFFENSE</td>\n",
       "      <td>ABUSE</td>\n",
       "      <td>True</td>\n",
       "    </tr>\n",
       "    <tr>\n",
       "      <th>2</th>\n",
       "      <td>Die Gesichter, Namen, Religion der Täter würde zur Aufklärung beitragen...</td>\n",
       "      <td>OTHER</td>\n",
       "      <td>OTHER</td>\n",
       "      <td>True</td>\n",
       "    </tr>\n",
       "    <tr>\n",
       "      <th>3</th>\n",
       "      <td>Wie verwirrt muss man sein um sich zu weigern die Tatsachen anzuerkennen, das dieser Hass von Ferkel importiert wurde....was bezweckt man damit sich selber so zu belügen, unverständlich</td>\n",
       "      <td>OFFENSE</td>\n",
       "      <td>ABUSE</td>\n",
       "      <td>True</td>\n",
       "    </tr>\n",
       "    <tr>\n",
       "      <th>4</th>\n",
       "      <td>Weil die AfD den Ferkelfunk abschaffen will, deshalb haben die Linken Zecken, Schmarotzer Angst für ihr kacken arbeiten zu müssen, deshalb sind die Führer treu und senden jeden Dreck, Lüge...</td>\n",
       "      <td>OFFENSE</td>\n",
       "      <td>ABUSE</td>\n",
       "      <td>True</td>\n",
       "    </tr>\n",
       "    <tr>\n",
       "      <th>...</th>\n",
       "      <td>...</td>\n",
       "      <td>...</td>\n",
       "      <td>...</td>\n",
       "      <td>...</td>\n",
       "    </tr>\n",
       "    <tr>\n",
       "      <th>15413</th>\n",
       "      <td>250 Menschen auf der Demonstration gegen das Dublin 2 Abkommen auf der Demo der selbstorganisierten ,,Refugees for Change'' #Refugeeswelcome</td>\n",
       "      <td>OTHER</td>\n",
       "      <td>OTHER</td>\n",
       "      <td>False</td>\n",
       "    </tr>\n",
       "    <tr>\n",
       "      <th>15414</th>\n",
       "      <td>Erneut Massaker an Kurdische ZivilistInnen durch islamistische ISIS. YXK ruft bundesweit zu Demonstrationen auf. #Rojava #ISIS #syrien</td>\n",
       "      <td>OTHER</td>\n",
       "      <td>OTHER</td>\n",
       "      <td>False</td>\n",
       "    </tr>\n",
       "    <tr>\n",
       "      <th>15415</th>\n",
       "      <td>Hunderte Refugees haben die Grenze zur spanischen Exklave Melilla überwunden. Freedom of Movement is everybodies right! #Rassismus #NoBorder</td>\n",
       "      <td>OTHER</td>\n",
       "      <td>OTHER</td>\n",
       "      <td>False</td>\n",
       "    </tr>\n",
       "    <tr>\n",
       "      <th>15416</th>\n",
       "      <td>Heute ab 17:00 Uhr an der Alten Oper FFM: Kundgebung/Picknick/Musik zum Jahrestag der Gezi-Proteste #Gezi, #Taksim, #Solidarität, #Erdogan</td>\n",
       "      <td>OTHER</td>\n",
       "      <td>OTHER</td>\n",
       "      <td>False</td>\n",
       "    </tr>\n",
       "    <tr>\n",
       "      <th>15417</th>\n",
       "      <td>Uns gibt es jetzt auch auf #twitter. Folgt unserer Page - empfehlt sie weiter!</td>\n",
       "      <td>OTHER</td>\n",
       "      <td>OTHER</td>\n",
       "      <td>False</td>\n",
       "    </tr>\n",
       "  </tbody>\n",
       "</table>\n",
       "<p>15418 rows × 4 columns</p>\n",
       "</div>"
      ],
      "text/plain": [
       "                                                                                                                                                                                                  text  \\\n",
       "0                                                                                                    Komisch das die Realitätsverweigerung immer von linken erbärmlichen Correctiv Accounts ausgeht...   \n",
       "1                                                                                                     CDU steht seid Strauss, Kohl, Schäuble, vdLeyen für Korruption, Schwarzgeld, und dies überall...   \n",
       "2                                                                                                                           Die Gesichter, Namen, Religion der Täter würde zur Aufklärung beitragen...   \n",
       "3            Wie verwirrt muss man sein um sich zu weigern die Tatsachen anzuerkennen, das dieser Hass von Ferkel importiert wurde....was bezweckt man damit sich selber so zu belügen, unverständlich   \n",
       "4      Weil die AfD den Ferkelfunk abschaffen will, deshalb haben die Linken Zecken, Schmarotzer Angst für ihr kacken arbeiten zu müssen, deshalb sind die Führer treu und senden jeden Dreck, Lüge...   \n",
       "...                                                                                                                                                                                                ...   \n",
       "15413                                                     250 Menschen auf der Demonstration gegen das Dublin 2 Abkommen auf der Demo der selbstorganisierten ,,Refugees for Change'' #Refugeeswelcome   \n",
       "15414                                                           Erneut Massaker an Kurdische ZivilistInnen durch islamistische ISIS. YXK ruft bundesweit zu Demonstrationen auf. #Rojava #ISIS #syrien   \n",
       "15415                                                     Hunderte Refugees haben die Grenze zur spanischen Exklave Melilla überwunden. Freedom of Movement is everybodies right! #Rassismus #NoBorder   \n",
       "15416                                                       Heute ab 17:00 Uhr an der Alten Oper FFM: Kundgebung/Picknick/Musik zum Jahrestag der Gezi-Proteste #Gezi, #Taksim, #Solidarität, #Erdogan   \n",
       "15417                                                                                                                   Uns gibt es jetzt auch auf #twitter. Folgt unserer Page - empfehlt sie weiter!   \n",
       "\n",
       "         label label_fine  is_valid  \n",
       "0      OFFENSE     INSULT      True  \n",
       "1      OFFENSE      ABUSE      True  \n",
       "2        OTHER      OTHER      True  \n",
       "3      OFFENSE      ABUSE      True  \n",
       "4      OFFENSE      ABUSE      True  \n",
       "...        ...        ...       ...  \n",
       "15413    OTHER      OTHER     False  \n",
       "15414    OTHER      OTHER     False  \n",
       "15415    OTHER      OTHER     False  \n",
       "15416    OTHER      OTHER     False  \n",
       "15417    OTHER      OTHER     False  \n",
       "\n",
       "[15418 rows x 4 columns]"
      ]
     },
     "execution_count": 14,
     "metadata": {},
     "output_type": "execute_result"
    }
   ],
   "source": [
    "df"
   ]
  },
  {
   "cell_type": "markdown",
   "metadata": {},
   "source": [
    "## Train model"
   ]
  },
  {
   "cell_type": "code",
   "execution_count": 10,
   "metadata": {},
   "outputs": [],
   "source": [
    "tok = SentencePieceTokenizer(lang=lang, sp_model=spm_path/'spm.model')"
   ]
  },
  {
   "cell_type": "code",
   "execution_count": 11,
   "metadata": {},
   "outputs": [],
   "source": [
    "with open(f'{lm_fns[1]}.pkl', 'rb') as f:\n",
    "      vocab = pickle.load(f)"
   ]
  },
  {
   "cell_type": "code",
   "execution_count": 12,
   "metadata": {},
   "outputs": [
    {
     "data": {
      "text/html": [],
      "text/plain": [
       "<IPython.core.display.HTML object>"
      ]
     },
     "metadata": {},
     "output_type": "display_data"
    },
    {
     "name": "stderr",
     "output_type": "stream",
     "text": [
      "/home/florian/miniconda3/envs/fastai/lib/python3.8/site-packages/numpy/core/_asarray.py:83: VisibleDeprecationWarning: Creating an ndarray from ragged nested sequences (which is a list-or-tuple of lists-or-tuples-or ndarrays with different lengths or shapes) is deprecated. If you meant to do this, you must specify 'dtype=object' when creating the ndarray\n",
      "  return array(a, dtype, copy=False, order=order)\n"
     ]
    }
   ],
   "source": [
    "dblocks = DataBlock(blocks=(TextBlock.from_df('text', tok=tok, vocab=vocab, backwards=backwards), CategoryBlock),\n",
    "                    get_x=ColReader('text'),\n",
    "                    get_y=ColReader('label'), \n",
    "                    splitter=ColSplitter())\n",
    "dls = dblocks.dataloaders(df, bs=bs, num_workers=num_workers)"
   ]
  },
  {
   "cell_type": "code",
   "execution_count": 12,
   "metadata": {},
   "outputs": [
    {
     "data": {
      "text/html": [
       "<table border=\"1\" class=\"dataframe\">\n",
       "  <thead>\n",
       "    <tr style=\"text-align: right;\">\n",
       "      <th></th>\n",
       "      <th>text</th>\n",
       "      <th>category</th>\n",
       "    </tr>\n",
       "  </thead>\n",
       "  <tbody>\n",
       "    <tr>\n",
       "      <th>0</th>\n",
       "      <td>▁xxbos ▁xxmaj ▁als ▁xxmaj ▁waffen lie fer ant ▁xxmaj ▁israel s ▁be geht ▁xxmaj ▁deutschland ▁xxmaj ▁ verrat ▁an ▁menschen - ▁und ▁völkerrecht lichen ▁xxmaj ▁grund prinzip ien . ▁xxmaj ▁es ▁ist ▁para do x , ▁dass ▁xxmaj ▁deutschland ▁zur ▁xxmaj ▁rechtfertigung ▁seiner ▁kriminellen ▁xxmaj ▁politik ▁auf ▁den ▁xxmaj ▁holocaust ▁verweis t .” ▁( zi t iert ▁aus : ▁xxmaj ▁möge ▁keiner ▁sagen , ▁ er ▁hätte ▁es ▁nicht ▁gewusst !) ▁xxup ▁other ▁xxup ▁other ▁xxmaj ▁im ▁xxmaj ▁jahr ▁2 ▁xxrep ▁3 ▁0 ▁ er schi en ▁das ▁xxmaj ▁buch : ▁» die ▁holocaust - industrie « ▁von ▁xxmaj ▁prof . ▁xxmaj ▁fin kel stein . ▁xxmaj ▁und ▁2010 ▁dann , ▁ nan u , ▁wen ▁wundert ‘ s : ▁40 . ▁xxrep ▁3 ▁0 ▁ . ▁xxrep ▁3 ▁0 ▁us - do ll ar ▁xxmaj ▁ betrug ▁der ▁xxmaj ▁jewish ▁xxmaj ▁claim ▁xxmaj ▁ conference ▁wird ▁bekannt . ▁xxup</td>\n",
       "      <td>OFFENSE</td>\n",
       "    </tr>\n",
       "    <tr>\n",
       "      <th>1</th>\n",
       "      <td>▁xxbos ▁ : ▁xxmaj ▁merkel ▁ bricht ▁gelten des ▁xxmaj ▁gesetz ▁ - ▁und ▁xxmaj ▁kirche ▁spendet ▁xxmaj ▁bei fall ▁| lbr | ▁xxup ▁der ▁xxup ▁ abschaum ! ▁xxup ▁offense ▁xxup ▁abuse ▁xxmaj ▁vor ▁allem : ▁xxmaj ▁was ▁hat ▁ein ▁deutsche s ▁xxmaj ▁anti dis krimi ner ungs gesetz ▁mit ▁israelische n ▁xxmaj ▁staatsbürger n ▁zu ▁tun ? ▁xxup ▁other ▁xxup ▁other ▁xxmaj ▁zum ▁xxmaj ▁beispiel . ▁xxmaj ▁ein ▁anderes ▁wäre : ▁xxmaj ▁witz e ▁über ▁xxmaj ▁minderheiten . ▁xxmaj ▁es ▁ist ▁ein ▁perfekte s ▁xxmaj ▁ein falls tor ▁für ▁den ▁xxmaj ▁opfer kult . ▁xxup ▁offense ▁xxup ▁insult ▁xxmaj ▁frauen ▁haben ▁bereits ▁zwei ▁xxmaj ▁tage ▁lang ▁niemanden ▁mehr ▁der ▁sexuelle n ▁xxmaj ▁belästigung ▁be zi chtig t . ▁| lbr | ▁xxmaj ▁was ▁ist ▁da ▁los ? ▁xxmaj ▁gibt ▁es ▁xxmaj ▁ schuhe ▁und ▁xxmaj ▁hand tasche n ▁im ▁xxmaj ▁sonder angebot ? ▁| lbr | ▁# ▁metoo</td>\n",
       "      <td>OTHER</td>\n",
       "    </tr>\n",
       "    <tr>\n",
       "      <th>2</th>\n",
       "      <td>▁xxbos ▁xxmaj ▁wir ▁nehmen ▁richtig ▁viel ▁xxmaj ▁rücken wind ▁mit ▁aus ▁dem ▁# ▁xxmaj ▁ reform ations jubiläum . ▁xxmaj ▁das ▁wird ▁die ▁xxmaj ▁zukunft ▁ prä gen .“ ▁ - ▁xxup ▁ ek d - r v ▁be d ford - s tro hm ▁xxup ▁other ▁xxup ▁other ▁xxmaj ▁welche ▁xxmaj ▁rechte ▁vom ▁xxmaj ▁muslim en ▁sind ▁denn ▁in ▁xxmaj ▁europa ▁in ▁xxmaj ▁gefahr ? ▁xxup ▁other ▁xxup ▁other ▁xxmaj ▁im ▁xxmaj ▁koran ▁steht ▁zwar , ▁dass ▁xxmaj ▁moslems ▁xxmaj ▁ungläubige ▁töten ▁sollen , ▁aber ▁das ▁hat ▁nichts ▁damit ▁zu ▁tun , ▁wenn ▁xxmaj ▁moslems ▁xxmaj ▁ungläubige ▁töten . ▁xxup ▁offense ▁xxup ▁abuse ▁xxmaj ▁die ▁xxmaj ▁juden ▁in ▁xxmaj ▁deutschland ▁waren ▁xxmaj ▁deutsche ▁und ▁keine ▁xxmaj ▁anderen . ▁xxmaj ▁deutsche ▁und ▁xxmaj ▁juden ▁zum ▁xxmaj ▁gegensatz pa ar ▁zu ▁machen ▁ist ▁v öl k isch ▁und ▁antisemitisch . ▁xxmaj ▁juden ▁und ▁xxmaj ▁deutsche ▁sind ▁xxmaj ▁identität en ▁mit ▁xxmaj</td>\n",
       "      <td>OTHER</td>\n",
       "    </tr>\n",
       "    <tr>\n",
       "      <th>3</th>\n",
       "      <td>▁xxbos ▁ : ▁xxmaj ▁ich ▁denke , ▁| lbr | ▁wir ▁sind ▁alle ▁noch ▁zu ▁ träg e ▁und ▁| lbr | ▁wahrscheinlich ▁auch ▁noch ▁zu ▁feige . ▁| lbr | ▁xxup ▁steh ▁xxup ▁auf ▁xxup ▁und ▁xxup ▁ kämpf e ! ▁xxup ▁other ▁xxup ▁other ▁xxmaj ▁wir ▁beenden ▁den ▁xxmaj ▁livestream ▁zum ▁# ▁xxmaj ▁friedens licht ▁mit ▁einem ▁xxmaj ▁seg en ▁von ▁xxmaj ▁pat er ▁xxmaj ▁philipp ▁aus ▁xxmaj ▁maria ▁xxmaj ▁la ach . ▁# ▁ein tag im advent ▁xxup ▁other ▁xxup ▁other ▁xxmaj ▁bis ▁~ 19 60 ▁war ▁die ▁xxmaj ▁welt ▁in ▁xxmaj ▁deutschland ▁noch ▁ein iger maßen ▁in ▁xxmaj ▁ordnung . ▁xxmaj ▁werte , ▁xxmaj ▁tradition , ▁xxmaj ▁politik , ▁xxmaj ▁kirche . ▁xxup ▁other ▁xxup ▁other ▁xxmaj ▁genau ▁deshalb ▁wähle ▁immer ▁xxup ▁npd ▁statt ▁euch ▁xxmaj ▁ weich e ier ! ▁xxup ▁offense ▁xxup ▁insult ▁| lbr | ▁xxmaj ▁schalt ▁den ▁xxmaj ▁ e le tro</td>\n",
       "      <td>OTHER</td>\n",
       "    </tr>\n",
       "    <tr>\n",
       "      <th>4</th>\n",
       "      <td>▁xxbos ▁xxmaj ▁achtung ▁xxmaj ▁ e il meldung ▁xxrep ▁3 ▁ ! ▁| lbr | ▁xxmaj ▁what s ▁xxmaj ▁app ▁ s chränkt ▁xxmaj ▁informations freiheit ▁ein , ▁es ▁ist ▁nicht ▁mehr ▁möglich ▁xxmaj ▁nachrichten ▁an ▁mehr ▁als ▁5 ▁xxmaj ▁ user ▁zu ▁senden . ▁– ▁xxmaj ▁das ▁sind ▁xxmaj ▁ maßnahmen ▁wie ▁in ▁xxmaj ▁indien , ▁xxmaj ▁china , ▁xxmaj ▁nord korea ▁usw . ▁xxmaj ▁gratulation , ▁wir ▁haben ▁dieses ▁xxmaj ▁niveau ▁endlich ▁erreicht . ▁&lt; u + ▁xxrep ▁3 ▁0 ▁1 f 44 f &gt; &lt; u + ▁xxrep ▁3 ▁0 ▁1 f 44 f &gt; &lt; u + ▁xxrep ▁3 ▁0 ▁1 f 44 f &gt; &lt; u + ▁xxrep ▁3 ▁0 ▁1 f 44 f &gt; &lt; u + ▁xxrep ▁3 ▁0 ▁1 f 44 f &gt; &lt; u + ▁xxrep ▁3 ▁0 ▁1 f 44 f &gt; &lt; u + ▁xxrep ▁3 ▁0 ▁1 f</td>\n",
       "      <td>OTHER</td>\n",
       "    </tr>\n",
       "    <tr>\n",
       "      <th>5</th>\n",
       "      <td>▁xxbos ▁ : ▁# ▁pegida ▁| lbr | ▁ mutti ▁ multikulti ▁| lbr | ▁stop ▁# ▁eu s s r ▁| lbr | ▁stop ▁| lbr | ▁xxmaj ▁so ▁sieht ▁xxmaj ▁zer setzung ▁aus ! ▁xxup ▁other ▁xxup ▁other ▁xxmaj ▁ botschafter ▁ein be stellen , ausweis en , us - truppe n ▁raus ▁aus ▁xxmaj ▁deutschland ! ▁xxup ▁other ▁xxup ▁other ▁xxmaj ▁wenn ▁xxmaj ▁islam kritiker ▁ zensiert ▁werden ▁und ▁über ▁muslim ische ▁xxmaj ▁feiertage ▁de bat t iert ▁wird , ▁weiß ▁man , ▁was ▁die ▁xxmaj ▁zukunft ▁bringt . ▁xxup ▁offense ▁xxup ▁abuse ▁| lbr | ▁xxmaj ▁sehe ▁mir ▁auch ▁jede ▁xxmaj ▁demo ▁von ▁xxmaj ▁dresden ▁und ▁xxmaj ▁leipzig ▁an . ▁xxmaj ▁kann ▁leider ▁nicht ▁selber ▁hin fahren . ▁xxup ▁other ▁xxup ▁other ▁xxmaj ▁und ▁ich ▁finde ▁xxmaj ▁ihre ▁xxmaj ▁schuld zu schreibung ▁an ▁die ▁xxup ▁spd ▁2013 ▁arg ▁mag er \". ▁xxmaj ▁denn ▁die ▁xxmaj ▁linke</td>\n",
       "      <td>OTHER</td>\n",
       "    </tr>\n",
       "    <tr>\n",
       "      <th>6</th>\n",
       "      <td>▁xxbos ▁xxmaj ▁große ▁xxmaj ▁ sätze , ▁die ▁für ▁immer ▁an ▁ihre ▁xxmaj ▁urheber ▁erinnern ▁werden : ▁| lbr | ▁&lt; u + 25 ab &gt; &lt; u + fe 0 f &gt; m . ▁xxup ▁l . ▁xxmaj ▁ king : ▁\" i ▁have ▁a ▁dream !\" ▁| lbr | ▁&lt; u + 25 ab &gt; &lt; u + fe 0 f &gt; marx : ▁\" das ▁xxmaj ▁sein ▁bestimmt ▁das ▁xxmaj ▁ bewusstsein .\" ▁| lbr | ▁&lt; u + 25 ab &gt; &lt; u + fe 0 f &gt; gan d hi : ▁\" liebe ▁ist ▁die ▁ stärkste ▁xxmaj ▁macht ▁der ▁xxmaj ▁welt .\" ▁| lbr | ▁&lt; u + 25 ab &gt; &lt; u + fe 0 f &gt; ein stein : ▁\" gott ▁ wür fel t ▁nicht .\" ▁| lbr | ▁&lt; u + 25 ab &gt; &lt; u + fe 0 f</td>\n",
       "      <td>OTHER</td>\n",
       "    </tr>\n",
       "    <tr>\n",
       "      <th>7</th>\n",
       "      <td>▁xxbos ▁xxmaj ▁sehr ▁gut ! ▁xxmaj ▁weiter ▁so ! ▁&lt; u + ▁xxrep ▁3 ▁0 ▁1 f 5 a 4&gt; &lt; u +2764&gt; &lt; u + 2 70 a &gt; &lt; u + ▁xxrep ▁3 ▁0 ▁1 f 3 ff &gt; &lt; u +2764&gt; &lt; u + ▁xxrep ▁3 ▁0 ▁1 f 5 a 4&gt; ▁| lbr | ▁... und ▁die ▁.... bitte ▁wieder ▁zurück ▁zu ▁eurem ▁xxmaj ▁kern geschäft : ▁| lbr | ▁xxmaj ▁provinz blatt ▁für ▁provinz i elle ▁xxmaj ▁ bürg is ! ▁| lbr | ▁&lt; u + ▁xxrep ▁3 ▁0 ▁1 f 92 e &gt; &lt; u + ▁xxrep ▁3 ▁0 ▁1 f 92 f &gt; &lt; u + ▁xxrep ▁3 ▁0 ▁1 f 92 e &gt; &lt; u + ▁xxrep ▁3 ▁0 ▁1 f 92 f &gt; &lt; u + ▁xxrep ▁3 ▁0 ▁1 f 92 e &gt; &lt; u + ▁xxrep ▁3 ▁0</td>\n",
       "      <td>OFFENSE</td>\n",
       "    </tr>\n",
       "    <tr>\n",
       "      <th>8</th>\n",
       "      <td>▁xxbos ▁xxmaj ▁heute ▁ist ▁wohl ▁wieder ▁mal ▁welt - arsch loch - tag ! ?! ?!? ▁| lbr | ▁xxmaj ▁es ▁sind ▁gerade ▁wieder ▁extrem ▁viele ▁xxmaj ▁vollpfosten ▁in ▁den ▁kommentar - spalten ▁ein iger ▁xxmaj ▁tweets ▁unterwegs ! ▁&lt; u + ▁xxrep ▁3 ▁0 ▁1 f 92 c &gt; &lt; u + ▁xxrep ▁3 ▁0 ▁1 f 92 c &gt; &lt; u + ▁xxrep ▁3 ▁0 ▁1 f 92 c &gt; &lt; u + ▁xxrep ▁3 ▁0 ▁1 f 92 c &gt; &lt; u + ▁xxrep ▁3 ▁0 ▁1 f 92 c &gt; &lt; u + ▁xxrep ▁3 ▁0 ▁1 f 92 c &gt; ▁| lbr | ▁xxmaj ▁wer ▁heute ▁seine ▁/ ▁ihre ▁xxmaj ▁block listen ▁auf füllen ▁möchte , ▁hat ▁die ▁freie ▁xxmaj ▁wahl ▁... &lt; u + ▁xxrep ▁3 ▁0 ▁1 f 92 f &gt; &lt; u + ▁xxrep ▁3 ▁0 ▁1 f 92 f &gt; &lt;</td>\n",
       "      <td>OFFENSE</td>\n",
       "    </tr>\n",
       "  </tbody>\n",
       "</table>"
      ],
      "text/plain": [
       "<IPython.core.display.HTML object>"
      ]
     },
     "metadata": {},
     "output_type": "display_data"
    }
   ],
   "source": [
    "dls.show_batch()"
   ]
  },
  {
   "cell_type": "code",
   "execution_count": 13,
   "metadata": {},
   "outputs": [
    {
     "data": {
      "text/plain": [
       "['OFFENSE', 'OTHER']"
      ]
     },
     "execution_count": 13,
     "metadata": {},
     "output_type": "execute_result"
    }
   ],
   "source": [
    "dls.vocab[1]"
   ]
  },
  {
   "cell_type": "code",
   "execution_count": 14,
   "metadata": {},
   "outputs": [
    {
     "data": {
      "text/plain": [
       "(96, 24)"
      ]
     },
     "execution_count": 14,
     "metadata": {},
     "output_type": "execute_result"
    }
   ],
   "source": [
    "len(dls.train), len(dls.valid)"
   ]
  },
  {
   "cell_type": "code",
   "execution_count": 15,
   "metadata": {},
   "outputs": [],
   "source": [
    "avg = 'macro'\n",
    "metrics=[accuracy, Precision(average=avg), Recall(average=avg), F1Score(average=avg)]"
   ]
  },
  {
   "cell_type": "code",
   "execution_count": 21,
   "metadata": {},
   "outputs": [],
   "source": [
    "learn = text_classifier_learner(dls, AWD_LSTM, drop_mult=1, pretrained=False, \n",
    "                               metrics=metrics).to_fp16()\n",
    "learn.path = model_path"
   ]
  },
  {
   "cell_type": "code",
   "execution_count": 22,
   "metadata": {},
   "outputs": [
    {
     "data": {
      "text/plain": [
       "<fastai.text.learner.TextLearner at 0x7f516f865910>"
      ]
     },
     "execution_count": 22,
     "metadata": {},
     "output_type": "execute_result"
    }
   ],
   "source": [
    "learn.load_encoder(f'{lm_fns[0].absolute()}_encoder')"
   ]
  },
  {
   "cell_type": "code",
   "execution_count": 23,
   "metadata": {},
   "outputs": [
    {
     "data": {
      "text/html": [],
      "text/plain": [
       "<IPython.core.display.HTML object>"
      ]
     },
     "metadata": {},
     "output_type": "display_data"
    },
    {
     "data": {
      "text/plain": [
       "SuggestedLRs(lr_min=0.03019951581954956, lr_steep=1.0964781722577754e-06)"
      ]
     },
     "execution_count": 23,
     "metadata": {},
     "output_type": "execute_result"
    },
    {
     "data": {
      "image/png": "[encoded data removed]",
      "text/plain": [
       "<Figure size 432x288 with 1 Axes>"
      ]
     },
     "metadata": {
      "needs_background": "light"
     },
     "output_type": "display_data"
    }
   ],
   "source": [
    "learn.lr_find()"
   ]
  },
  {
   "cell_type": "code",
   "execution_count": 24,
   "metadata": {},
   "outputs": [
    {
     "data": {
      "text/plain": [
       "0.07999999999999999"
      ]
     },
     "execution_count": 24,
     "metadata": {},
     "output_type": "execute_result"
    }
   ],
   "source": [
    "lr = 3e-2\n",
    "lr *= bs/48\n",
    "lr"
   ]
  },
  {
   "cell_type": "code",
   "execution_count": 25,
   "metadata": {},
   "outputs": [
    {
     "data": {
      "text/html": [
       "<table border=\"1\" class=\"dataframe\">\n",
       "  <thead>\n",
       "    <tr style=\"text-align: left;\">\n",
       "      <th>epoch</th>\n",
       "      <th>train_loss</th>\n",
       "      <th>valid_loss</th>\n",
       "      <th>accuracy</th>\n",
       "      <th>precision_score</th>\n",
       "      <th>recall_score</th>\n",
       "      <th>f1_score</th>\n",
       "      <th>time</th>\n",
       "    </tr>\n",
       "  </thead>\n",
       "  <tbody>\n",
       "    <tr>\n",
       "      <td>0</td>\n",
       "      <td>0.579711</td>\n",
       "      <td>0.525198</td>\n",
       "      <td>0.730452</td>\n",
       "      <td>0.698462</td>\n",
       "      <td>0.627436</td>\n",
       "      <td>0.634666</td>\n",
       "      <td>00:04</td>\n",
       "    </tr>\n",
       "  </tbody>\n",
       "</table>"
      ],
      "text/plain": [
       "<IPython.core.display.HTML object>"
      ]
     },
     "metadata": {},
     "output_type": "display_data"
    },
    {
     "data": {
      "text/html": [
       "<table border=\"1\" class=\"dataframe\">\n",
       "  <thead>\n",
       "    <tr style=\"text-align: left;\">\n",
       "      <th>epoch</th>\n",
       "      <th>train_loss</th>\n",
       "      <th>valid_loss</th>\n",
       "      <th>accuracy</th>\n",
       "      <th>precision_score</th>\n",
       "      <th>recall_score</th>\n",
       "      <th>f1_score</th>\n",
       "      <th>time</th>\n",
       "    </tr>\n",
       "  </thead>\n",
       "  <tbody>\n",
       "    <tr>\n",
       "      <td>0</td>\n",
       "      <td>0.509739</td>\n",
       "      <td>0.523126</td>\n",
       "      <td>0.746288</td>\n",
       "      <td>0.760170</td>\n",
       "      <td>0.625437</td>\n",
       "      <td>0.629847</td>\n",
       "      <td>00:06</td>\n",
       "    </tr>\n",
       "    <tr>\n",
       "      <td>1</td>\n",
       "      <td>0.471208</td>\n",
       "      <td>0.499858</td>\n",
       "      <td>0.759155</td>\n",
       "      <td>0.770299</td>\n",
       "      <td>0.648269</td>\n",
       "      <td>0.659285</td>\n",
       "      <td>00:06</td>\n",
       "    </tr>\n",
       "    <tr>\n",
       "      <td>2</td>\n",
       "      <td>0.449709</td>\n",
       "      <td>0.501509</td>\n",
       "      <td>0.786539</td>\n",
       "      <td>0.767928</td>\n",
       "      <td>0.716702</td>\n",
       "      <td>0.731732</td>\n",
       "      <td>00:06</td>\n",
       "    </tr>\n",
       "    <tr>\n",
       "      <td>3</td>\n",
       "      <td>0.418851</td>\n",
       "      <td>0.520277</td>\n",
       "      <td>0.768393</td>\n",
       "      <td>0.735638</td>\n",
       "      <td>0.746471</td>\n",
       "      <td>0.740167</td>\n",
       "      <td>00:06</td>\n",
       "    </tr>\n",
       "    <tr>\n",
       "      <td>4</td>\n",
       "      <td>0.382857</td>\n",
       "      <td>0.450454</td>\n",
       "      <td>0.796107</td>\n",
       "      <td>0.768326</td>\n",
       "      <td>0.751296</td>\n",
       "      <td>0.758432</td>\n",
       "      <td>00:06</td>\n",
       "    </tr>\n",
       "    <tr>\n",
       "      <td>5</td>\n",
       "      <td>0.349603</td>\n",
       "      <td>0.480849</td>\n",
       "      <td>0.791818</td>\n",
       "      <td>0.763256</td>\n",
       "      <td>0.745687</td>\n",
       "      <td>0.752968</td>\n",
       "      <td>00:06</td>\n",
       "    </tr>\n",
       "    <tr>\n",
       "      <td>6</td>\n",
       "      <td>0.314310</td>\n",
       "      <td>0.496736</td>\n",
       "      <td>0.795777</td>\n",
       "      <td>0.767801</td>\n",
       "      <td>0.751327</td>\n",
       "      <td>0.758264</td>\n",
       "      <td>00:06</td>\n",
       "    </tr>\n",
       "    <tr>\n",
       "      <td>7</td>\n",
       "      <td>0.302000</td>\n",
       "      <td>0.517614</td>\n",
       "      <td>0.790828</td>\n",
       "      <td>0.760339</td>\n",
       "      <td>0.752599</td>\n",
       "      <td>0.756151</td>\n",
       "      <td>00:06</td>\n",
       "    </tr>\n",
       "  </tbody>\n",
       "</table>"
      ],
      "text/plain": [
       "<IPython.core.display.HTML object>"
      ]
     },
     "metadata": {},
     "output_type": "display_data"
    }
   ],
   "source": [
    "learn.fine_tune(8, lr)"
   ]
  },
  {
   "cell_type": "code",
   "execution_count": 26,
   "metadata": {},
   "outputs": [
    {
     "data": {
      "image/png": "[encoded data removed]",
      "text/plain": [
       "<Figure size 432x288 with 1 Axes>"
      ]
     },
     "metadata": {
      "needs_background": "light"
     },
     "output_type": "display_data"
    }
   ],
   "source": [
    "learn.recorder.plot_loss()"
   ]
  },
  {
   "cell_type": "code",
   "execution_count": 22,
   "metadata": {},
   "outputs": [],
   "source": [
    "learn.export()"
   ]
  },
  {
   "cell_type": "code",
   "execution_count": null,
   "metadata": {},
   "outputs": [],
   "source": []
  }
 ],
 "metadata": {
  "kernelspec": {
   "display_name": "fastai",
   "language": "python",
   "name": "fastai"
  },
  "language_info": {
   "codemirror_mode": {
    "name": "ipython",
    "version": 3
   },
   "file_extension": ".py",
   "mimetype": "text/x-python",
   "name": "python",
   "nbconvert_exporter": "python",
   "pygments_lexer": "ipython3",
   "version": "3.8.5"
  }
 },
 "nbformat": 4,
 "nbformat_minor": 4
}
