{
 "cells": [
  {
   "cell_type": "code",
   "execution_count": null,
   "metadata": {},
   "outputs": [],
   "source": [
    "from fastai.text.all import *"
   ]
  },
  {
   "cell_type": "code",
   "execution_count": null,
   "metadata": {},
   "outputs": [],
   "source": [
    "lang = 'de'\n",
    "backwards = False\n",
    "bs=128\n",
    "vocab_sz = 15000\n",
    "num_workers=18\n",
    "step = 'ft' # fine-tuning"
   ]
  },
  {
   "cell_type": "code",
   "execution_count": null,
   "metadata": {},
   "outputs": [],
   "source": [
    "direction = 'fwd' if backwards == False else 'bwd'"
   ]
  },
  {
   "cell_type": "code",
   "execution_count": null,
   "metadata": {},
   "outputs": [],
   "source": [
    "wiki = f'{lang}wiki'\n",
    "base_path = Path('data')\n",
    "path = base_path/wiki\n",
    "model_base_path = path/'model'\n",
    "model_path = model_base_path/step/direction\n",
    "spm_path = model_base_path/step/'spm'\n",
    "lm_fns = [(model_base_path/'lm'/direction/f'{lang}_wikitext_model').absolute(), \n",
    "          (model_base_path/'lm'/direction/f'{lang}_wikitext_vocab').absolute()]"
   ]
  },
  {
   "cell_type": "code",
   "execution_count": null,
   "metadata": {},
   "outputs": [],
   "source": [
    "data_path = path/'germeval'"
   ]
  },
  {
   "cell_type": "code",
   "execution_count": null,
   "metadata": {},
   "outputs": [
    {
     "data": {
      "text/plain": [
       "([Path('/data/projects/git/fastai_ulmfit/data/dewiki/model/lm/bwd/de_wikitext_model'),\n",
       "  Path('/data/projects/git/fastai_ulmfit/data/dewiki/model/lm/bwd/de_wikitext_vocab')],\n",
       " Path('data/dewiki/model/ft/spm'),\n",
       " 'bwd',\n",
       " True)"
      ]
     },
     "execution_count": null,
     "metadata": {},
     "output_type": "execute_result"
    }
   ],
   "source": [
    "lm_fns, spm_path, direction, backwards"
   ]
  },
  {
   "cell_type": "markdown",
   "metadata": {},
   "source": [
    "## Prepare corpus for fine tuning"
   ]
  },
  {
   "cell_type": "markdown",
   "metadata": {},
   "source": [
    "Prepare a .csv-file with a 'text' column to use this notebook for the language model fine-tuning. Otherwise you'll have to adjust the DataBlock / Dataloaders creation."
   ]
  },
  {
   "cell_type": "code",
   "execution_count": null,
   "metadata": {},
   "outputs": [],
   "source": [
    "df = pd.read_csv(data_path/'data_lm.csv')"
   ]
  },
  {
   "cell_type": "code",
   "execution_count": null,
   "metadata": {},
   "outputs": [
    {
     "data": {
      "text/html": [
       "<div>\n",
       "<style scoped>\n",
       "    .dataframe tbody tr th:only-of-type {\n",
       "        vertical-align: middle;\n",
       "    }\n",
       "\n",
       "    .dataframe tbody tr th {\n",
       "        vertical-align: top;\n",
       "    }\n",
       "\n",
       "    .dataframe thead th {\n",
       "        text-align: right;\n",
       "    }\n",
       "</style>\n",
       "<table border=\"1\" class=\"dataframe\">\n",
       "  <thead>\n",
       "    <tr style=\"text-align: right;\">\n",
       "      <th></th>\n",
       "      <th>text</th>\n",
       "    </tr>\n",
       "  </thead>\n",
       "  <tbody>\n",
       "    <tr>\n",
       "      <th>0</th>\n",
       "      <td>Meine Mutter hat mir erzählt, dass mein Vater einen Wahlkreiskandidaten nicht gewählt hat, weil der gegen die Homo-Ehe ist ☺</td>\n",
       "    </tr>\n",
       "    <tr>\n",
       "      <th>1</th>\n",
       "      <td>Meine Reaktion; Nicht jeder Moslem ist ein Terrorist. Aber jeder Moslem glaubt an Überlieferungen, die Gewalt und Terror begünstigen.</td>\n",
       "    </tr>\n",
       "    <tr>\n",
       "      <th>2</th>\n",
       "      <td>#Merkel rollt dem Emir von #Katar, der islamistischen Terror unterstützt, den roten Teppich aus.Wir brauchen einen sofortigen #Waffenstopp!</td>\n",
       "    </tr>\n",
       "    <tr>\n",
       "      <th>3</th>\n",
       "      <td>„Merle ist kein junges unschuldiges Mädchen“ Kch....... 😱 #tatort</td>\n",
       "    </tr>\n",
       "    <tr>\n",
       "      <th>4</th>\n",
       "      <td>Asylantenflut bringt eben nur negatives für Deutschland. Drum Asylanenstop und Rückführung der Mehrzahl.</td>\n",
       "    </tr>\n",
       "    <tr>\n",
       "      <th>...</th>\n",
       "      <td>...</td>\n",
       "    </tr>\n",
       "    <tr>\n",
       "      <th>512531</th>\n",
       "      <td>🇪🇺 Keine Lust auf #Europa? Zurück zu nationalen Grenzen? Drei junge #Europäer wollten dabei nicht länger zusehen. Und gründeten #Volt. Eine Partei, die Europa einen soll. ⏩ #Europawahl2019</td>\n",
       "    </tr>\n",
       "    <tr>\n",
       "      <th>512532</th>\n",
       "      <td>Morgen um 11 Uhr geht die große Sprayer-Aktion an der Bahnunterführung in #Langen los. Wir sind total gespannt auf die Kunstwerke, die dort entstehen und verabschieden uns schon mal von den alten Schmierereien. Mehr Infos: #Graffiti #StreetArt</td>\n",
       "    </tr>\n",
       "    <tr>\n",
       "      <th>512533</th>\n",
       "      <td>Neuigkeit: Gesundheitsgefahr: Krebshilfe fordert Werbeverbot für E-Zigaretten #news</td>\n",
       "    </tr>\n",
       "    <tr>\n",
       "      <th>512534</th>\n",
       "      <td>Hundeanhänger 925 Silber und recyceltes Holz sabina #Tchotchke #kreativerTchotchke #handgefertigt Cane ciondolo in argento 925 e sabina legno riciclato #gioielli #gioiellicreativi #fattoamano</td>\n",
       "    </tr>\n",
       "    <tr>\n",
       "      <th>512535</th>\n",
       "      <td>Nein! Nichts hat was mit Irgendwas zu tun! Zu den Attentaten in Christchurch und SriLanka hören wir bei #maybritillner von friedliebenden Radikal-Muslimen - bis Wolfgang Bosbach die Blutgrätsche macht.</td>\n",
       "    </tr>\n",
       "  </tbody>\n",
       "</table>\n",
       "<p>512536 rows × 1 columns</p>\n",
       "</div>"
      ],
      "text/plain": [
       "                                                                                                                                                                                                                                                       text\n",
       "0                                                                                                                              Meine Mutter hat mir erzählt, dass mein Vater einen Wahlkreiskandidaten nicht gewählt hat, weil der gegen die Homo-Ehe ist ☺\n",
       "1                                                                                                                     Meine Reaktion; Nicht jeder Moslem ist ein Terrorist. Aber jeder Moslem glaubt an Überlieferungen, die Gewalt und Terror begünstigen.\n",
       "2                                                                                                               #Merkel rollt dem Emir von #Katar, der islamistischen Terror unterstützt, den roten Teppich aus.Wir brauchen einen sofortigen #Waffenstopp!\n",
       "3                                                                                                                                                                                         „Merle ist kein junges unschuldiges Mädchen“ Kch....... 😱 #tatort\n",
       "4                                                                                                                                                  Asylantenflut bringt eben nur negatives für Deutschland. Drum Asylanenstop und Rückführung der Mehrzahl.\n",
       "...                                                                                                                                                                                                                                                     ...\n",
       "512531                                                         🇪🇺 Keine Lust auf #Europa? Zurück zu nationalen Grenzen? Drei junge #Europäer wollten dabei nicht länger zusehen. Und gründeten #Volt. Eine Partei, die Europa einen soll. ⏩ #Europawahl2019\n",
       "512532  Morgen um 11 Uhr geht die große Sprayer-Aktion an der Bahnunterführung in #Langen los. Wir sind total gespannt auf die Kunstwerke, die dort entstehen und verabschieden uns schon mal von den alten Schmierereien. Mehr Infos: #Graffiti #StreetArt\n",
       "512533                                                                                                                                                                  Neuigkeit: Gesundheitsgefahr: Krebshilfe fordert Werbeverbot für E-Zigaretten #news\n",
       "512534                                                      Hundeanhänger 925 Silber und recyceltes Holz sabina #Tchotchke #kreativerTchotchke #handgefertigt Cane ciondolo in argento 925 e sabina legno riciclato #gioielli #gioiellicreativi #fattoamano\n",
       "512535                                            Nein! Nichts hat was mit Irgendwas zu tun! Zu den Attentaten in Christchurch und SriLanka hören wir bei #maybritillner von friedliebenden Radikal-Muslimen - bis Wolfgang Bosbach die Blutgrätsche macht.\n",
       "\n",
       "[512536 rows x 1 columns]"
      ]
     },
     "execution_count": null,
     "metadata": {},
     "output_type": "execute_result"
    }
   ],
   "source": [
    "df"
   ]
  },
  {
   "cell_type": "markdown",
   "metadata": {},
   "source": [
    "## Fine tune model"
   ]
  },
  {
   "cell_type": "markdown",
   "metadata": {},
   "source": [
    "We **don't reuse** the SentencePiece model trained on the Wikipedia corpus during fine-tuning. That might lead to slightly different tokenization, but fast.ai's language model learner takes care about adjusting the old / new vocabs. The language model fine-tuning will learn meaningful embeddings for the new tokens.\n",
    "\n",
    "For the **forward / backard model** we'll use the same SentencePiece model."
   ]
  },
  {
   "cell_type": "code",
   "execution_count": null,
   "metadata": {},
   "outputs": [
    {
     "name": "stdout",
     "output_type": "stream",
     "text": [
      "SentencePiece Model exists - using data/dewiki/model/ft/spm\n"
     ]
    }
   ],
   "source": [
    "if spm_path.exists():\n",
    "    tok = SentencePieceTokenizer(lang=lang, max_vocab_sz=vocab_sz, sp_model=spm_path/'spm.model')\n",
    "    print(f'SentencePiece Model exists - using {spm_path}')\n",
    "else:\n",
    "    tok = SentencePieceTokenizer(lang=lang, max_vocab_sz=vocab_sz, cache_dir=spm_path)"
   ]
  },
  {
   "cell_type": "code",
   "execution_count": null,
   "metadata": {},
   "outputs": [
    {
     "data": {
      "text/html": [],
      "text/plain": [
       "<IPython.core.display.HTML object>"
      ]
     },
     "metadata": {},
     "output_type": "display_data"
    },
    {
     "name": "stderr",
     "output_type": "stream",
     "text": [
      "/home/florian/miniconda3/envs/fastai/lib/python3.8/site-packages/numpy/core/_asarray.py:83: VisibleDeprecationWarning: Creating an ndarray from ragged nested sequences (which is a list-or-tuple of lists-or-tuples-or ndarrays with different lengths or shapes) is deprecated. If you meant to do this, you must specify 'dtype=object' when creating the ndarray\n",
      "  return array(a, dtype, copy=False, order=order)\n"
     ]
    }
   ],
   "source": [
    "dblocks = DataBlock(blocks=(TextBlock.from_df('text', tok=tok, is_lm=True, backwards=backwards)),\n",
    "                    get_x=ColReader('text'), \n",
    "                    splitter=RandomSplitter(valid_pct=0.1, seed=42))\n",
    "dls = dblocks.dataloaders(df, bs=bs, num_workers=num_workers)"
   ]
  },
  {
   "cell_type": "code",
   "execution_count": null,
   "metadata": {},
   "outputs": [
    {
     "data": {
      "text/html": [
       "<table border=\"1\" class=\"dataframe\">\n",
       "  <thead>\n",
       "    <tr style=\"text-align: right;\">\n",
       "      <th></th>\n",
       "      <th>text</th>\n",
       "      <th>text_</th>\n",
       "    </tr>\n",
       "  </thead>\n",
       "  <tbody>\n",
       "    <tr>\n",
       "      <th>0</th>\n",
       "      <td>id str a ▁help ▁# mix my ▁match ▁# : ▁hier ▁dazu ▁infos ▁xxmaj ▁mehr ▁xxmaj ). ▁ländern ▁xxmaj ischen n afrika ▁west ▁anderen ▁aus ▁auch ▁aber ne ger ▁( nigeria ▁ ▁xxmaj ▁aus ▁einem ▁und ▁europa ▁xxmaj ▁aus teil ▁eltern ▁xxmaj ▁einem ▁je ▁mit erweise ▁ideal ▁xxmaj ! in * r spende n zelle stamm ▁ ▁xxmaj r * deutsche ro af ▁ e * ▁ein ▁wird ▁gesucht ▁xxmaj ️ !!</td>\n",
       "      <td>str a ▁help ▁# mix my ▁match ▁# : ▁hier ▁dazu ▁infos ▁xxmaj ▁mehr ▁xxmaj ). ▁ländern ▁xxmaj ischen n afrika ▁west ▁anderen ▁aus ▁auch ▁aber ne ger ▁( nigeria ▁ ▁xxmaj ▁aus ▁einem ▁und ▁europa ▁xxmaj ▁aus teil ▁eltern ▁xxmaj ▁einem ▁je ▁mit erweise ▁ideal ▁xxmaj ! in * r spende n zelle stamm ▁ ▁xxmaj r * deutsche ro af ▁ e * ▁ein ▁wird ▁gesucht ▁xxmaj ️ !! ▁</td>\n",
       "    </tr>\n",
       "    <tr>\n",
       "      <th>1</th>\n",
       "      <td>▁xxmaj , kommen ▁an ▁xxmaj : ▁ich ▁finde ▁wichtig ▁xxmaj . ▁unnötig ▁für ▁ich ▁halte ziel ▁zeit ▁xxmaj ▁ein ▁durch ▁druck ▁xxmaj er ▁zusätzlich ▁xxmaj . ▁erfahrungen ▁xxmaj ▁und ▁eindrücke ▁xxmaj ▁neue ▁viele ▁so ▁es ▁gibt kampf ett ▁w ▁xxmaj ▁ersten ▁beim ▁gerade ▁xxmaj ▁xxbos ▁fort ▁griechenland ▁xxmaj ▁in a . ▁u ▁sich e ▁setzt ▁und ▁an ▁araber ▁xxmaj ▁die ▁durch ung ober er ▁ ▁xxmaj ▁der ▁nach tern p gy ä</td>\n",
       "      <td>, kommen ▁an ▁xxmaj : ▁ich ▁finde ▁wichtig ▁xxmaj . ▁unnötig ▁für ▁ich ▁halte ziel ▁zeit ▁xxmaj ▁ein ▁durch ▁druck ▁xxmaj er ▁zusätzlich ▁xxmaj . ▁erfahrungen ▁xxmaj ▁und ▁eindrücke ▁xxmaj ▁neue ▁viele ▁so ▁es ▁gibt kampf ett ▁w ▁xxmaj ▁ersten ▁beim ▁gerade ▁xxmaj ▁xxbos ▁fort ▁griechenland ▁xxmaj ▁in a . ▁u ▁sich e ▁setzt ▁und ▁an ▁araber ▁xxmaj ▁die ▁durch ung ober er ▁ ▁xxmaj ▁der ▁nach tern p gy ä ▁</td>\n",
       "    </tr>\n",
       "    <tr>\n",
       "      <th>2</th>\n",
       "      <td>▁schon ▁geht ▁xxmaj . gs son ▁lieblings ▁xxmaj ▁disney ▁xxmaj ▁meiner ▁einer ▁ist ▁world ▁new ▁whole ▁a ▁xxbos ▁stellen es ▁fall ▁xxmaj ▁des en ation lik p ▁im ▁xxmaj rechtlichen ▁menschen ▁den ▁aber ▁sich ▁muss r m eg ▁ ▁xxup ▁der ▁wurde en tritt s ▁be a vis ▁ ▁xxup humanitäre ▁ ▁für ständigkeit ▁zu ▁xxmaj ▁die erweise ios ▁kur ▁indem , gezogen ▁ affäre ▁ ▁xxmaj ▁der ▁aus ▁2017 ▁sich ▁hat</td>\n",
       "      <td>▁geht ▁xxmaj . gs son ▁lieblings ▁xxmaj ▁disney ▁xxmaj ▁meiner ▁einer ▁ist ▁world ▁new ▁whole ▁a ▁xxbos ▁stellen es ▁fall ▁xxmaj ▁des en ation lik p ▁im ▁xxmaj rechtlichen ▁menschen ▁den ▁aber ▁sich ▁muss r m eg ▁ ▁xxup ▁der ▁wurde en tritt s ▁be a vis ▁ ▁xxup humanitäre ▁ ▁für ständigkeit ▁zu ▁xxmaj ▁die erweise ios ▁kur ▁indem , gezogen ▁ affäre ▁ ▁xxmaj ▁der ▁aus ▁2017 ▁sich ▁hat ugh</td>\n",
       "    </tr>\n",
       "    <tr>\n",
       "      <th>3</th>\n",
       "      <td>▁anderer ▁mit ▁menschen ▁xxmaj ▁wenn ▁xxmaj . ▁klar ▁is , ▁ne ▁ja ▁xxmaj . ▁genauso ▁leuten ▁xxmaj ▁vielen ▁bei ▁ist ▁das ▁und ▁xxmaj . ▁so ▁ist ▁das ▁xxmaj . ▁schlecht ▁oder ▁gut ▁nicht ▁ist ▁das ▁xxmaj . ▁weiße ▁xxmaj ▁prozent ▁xxmaj ▁90 ▁über ▁zu ▁sitzen ▁bahn ▁xxmaj ▁meiner ▁in ▁xxmaj ▁xxbos rbl ▁hsv ▁xxup ▁# ▁dfbpokal ▁# ▁müssen ▁zu ▁machen ticket platz ▁steh ▁xxmaj ▁sein ▁um ▁sorgen ▁xxmaj ▁keine ▁sich ▁und ▁sein</td>\n",
       "      <td>▁mit ▁menschen ▁xxmaj ▁wenn ▁xxmaj . ▁klar ▁is , ▁ne ▁ja ▁xxmaj . ▁genauso ▁leuten ▁xxmaj ▁vielen ▁bei ▁ist ▁das ▁und ▁xxmaj . ▁so ▁ist ▁das ▁xxmaj . ▁schlecht ▁oder ▁gut ▁nicht ▁ist ▁das ▁xxmaj . ▁weiße ▁xxmaj ▁prozent ▁xxmaj ▁90 ▁über ▁zu ▁sitzen ▁bahn ▁xxmaj ▁meiner ▁in ▁xxmaj ▁xxbos rbl ▁hsv ▁xxup ▁# ▁dfbpokal ▁# ▁müssen ▁zu ▁machen ticket platz ▁steh ▁xxmaj ▁sein ▁um ▁sorgen ▁xxmaj ▁keine ▁sich ▁und ▁sein ▁zu</td>\n",
       "    </tr>\n",
       "    <tr>\n",
       "      <th>4</th>\n",
       "      <td>▁xxup ▁wieso ▁xxup ▁xxbos ▁... ▁zeitung ▁xxmaj ▁keine ▁auch ▁vermutlich ▁lesen ▁die ▁aber ▁xxmaj . ▁nötig ▁bitter s tipp s ▁alltag ▁xxmaj ▁solche ▁hätten menschen ▁mit ▁xxmaj ▁viele ▁xxmaj : räumen ▁ein ▁man ▁muss ▁andererseits ▁xxmaj ▁xxbos monster zel t ▁kri ▁xxmaj ▁# . t leuchte ▁ ▁zunge ▁xxmaj ▁zu ▁schön ▁so ▁immer ▁danach ▁weil ▁xxmaj . cken mü os mo ▁leucht ▁xxmaj ▁liebsten ▁am st ▁is ▁und ge bir ▁ge ▁xxmaj</td>\n",
       "      <td>▁wieso ▁xxup ▁xxbos ▁... ▁zeitung ▁xxmaj ▁keine ▁auch ▁vermutlich ▁lesen ▁die ▁aber ▁xxmaj . ▁nötig ▁bitter s tipp s ▁alltag ▁xxmaj ▁solche ▁hätten menschen ▁mit ▁xxmaj ▁viele ▁xxmaj : räumen ▁ein ▁man ▁muss ▁andererseits ▁xxmaj ▁xxbos monster zel t ▁kri ▁xxmaj ▁# . t leuchte ▁ ▁zunge ▁xxmaj ▁zu ▁schön ▁so ▁immer ▁danach ▁weil ▁xxmaj . cken mü os mo ▁leucht ▁xxmaj ▁liebsten ▁am st ▁is ▁und ge bir ▁ge ▁xxmaj ▁im</td>\n",
       "    </tr>\n",
       "    <tr>\n",
       "      <th>5</th>\n",
       "      <td>s ziehung er ▁ ▁ohne zeit . z er ▁ . ▁wg ▁nicht ▁frauen ▁xxmaj ▁recht ▁erst , en ▁bild ▁nicht ▁xxup ell i finanz ) ▁b lich zeit ) ▁a rente ▁ ▁xxmaj ▁für . gen ▁ ▁xxmaj ▁meine ▁konnte ▁/ ▁kann lagen ▁rück ▁xxmaj . l er ford er ) ▁3 ▁xxbos ▁de , ▁berlin ▁xxmaj - ▁ 27 - ▁24 straße ▁ritter ▁xxmaj - ▁ berg kreuz - ▁berlin</td>\n",
       "      <td>ziehung er ▁ ▁ohne zeit . z er ▁ . ▁wg ▁nicht ▁frauen ▁xxmaj ▁recht ▁erst , en ▁bild ▁nicht ▁xxup ell i finanz ) ▁b lich zeit ) ▁a rente ▁ ▁xxmaj ▁für . gen ▁ ▁xxmaj ▁meine ▁konnte ▁/ ▁kann lagen ▁rück ▁xxmaj . l er ford er ) ▁3 ▁xxbos ▁de , ▁berlin ▁xxmaj - ▁ 27 - ▁24 straße ▁ritter ▁xxmaj - ▁ berg kreuz - ▁berlin space</td>\n",
       "    </tr>\n",
       "    <tr>\n",
       "      <th>6</th>\n",
       "      <td>▁köln ▁xxmaj ▁düsseldorf ▁xxmaj ▁dortmund ▁xxmaj ▁bielefeld ▁xxmaj ▁hannover ▁xxmaj ▁bremen ▁xxmaj ▁dresden ▁xxmaj ▁leipzig ▁xxmaj ▁nürnberg ▁xxmaj ▁regensburg ▁xxmaj : ▁melden ▁gerne ▁sich ▁können ▁da ▁von ▁spieler ▁xxmaj e ▁aktiv ▁städten ▁xxmaj n ▁folgende ▁in ions connect ▁ ▁xxmaj ▁suche ▁ich da ▁eu ▁xxbos ch f ▁fcb ▁xxup ▁# ? ▁werden ▁sitzen ▁bank ▁xxmaj ▁der ▁auf ▁bayern ▁xxmaj ▁bei ▁saison ▁xxmaj ▁nächsten ▁der ▁in zel t gla ▁ ▁xxmaj ▁und er</td>\n",
       "      <td>▁xxmaj ▁düsseldorf ▁xxmaj ▁dortmund ▁xxmaj ▁bielefeld ▁xxmaj ▁hannover ▁xxmaj ▁bremen ▁xxmaj ▁dresden ▁xxmaj ▁leipzig ▁xxmaj ▁nürnberg ▁xxmaj ▁regensburg ▁xxmaj : ▁melden ▁gerne ▁sich ▁können ▁da ▁von ▁spieler ▁xxmaj e ▁aktiv ▁städten ▁xxmaj n ▁folgende ▁in ions connect ▁ ▁xxmaj ▁suche ▁ich da ▁eu ▁xxbos ch f ▁fcb ▁xxup ▁# ? ▁werden ▁sitzen ▁bank ▁xxmaj ▁der ▁auf ▁bayern ▁xxmaj ▁bei ▁saison ▁xxmaj ▁nächsten ▁der ▁in zel t gla ▁ ▁xxmaj ▁und er atter</td>\n",
       "    </tr>\n",
       "    <tr>\n",
       "      <th>7</th>\n",
       "      <td>▁fordert ling ster ▁ ▁xxmaj em he ra ▁ ▁xxmaj spieler ▁national ▁xxmaj s ▁england ▁xxmaj ▁xxbos ▁... ▁eigentlich ▁aber , elt äch bel ▁ ▁nett treffen s vorstand - ▁spd ▁nächsten ▁im ▁wieder ▁nicht ▁und ▁werden ▁zu ▁gehört ▁geben ▁gefühl ▁xxmaj ▁das ▁generation ▁xxmaj ▁unserer ▁würde ung hör ▁an ▁xxmaj ▁eine ▁xxmaj . ▁generation ▁xxmaj ▁meiner ▁viele ▁für ▁vorbild ▁xxmaj ▁ein ▁aber , abgeordnete ▁ ▁xxmaj ▁keine ▁ist ▁sie , ▁nein</td>\n",
       "      <td>ling ster ▁ ▁xxmaj em he ra ▁ ▁xxmaj spieler ▁national ▁xxmaj s ▁england ▁xxmaj ▁xxbos ▁... ▁eigentlich ▁aber , elt äch bel ▁ ▁nett treffen s vorstand - ▁spd ▁nächsten ▁im ▁wieder ▁nicht ▁und ▁werden ▁zu ▁gehört ▁geben ▁gefühl ▁xxmaj ▁das ▁generation ▁xxmaj ▁unserer ▁würde ung hör ▁an ▁xxmaj ▁eine ▁xxmaj . ▁generation ▁xxmaj ▁meiner ▁viele ▁für ▁vorbild ▁xxmaj ▁ein ▁aber , abgeordnete ▁ ▁xxmaj ▁keine ▁ist ▁sie , ▁nein ▁xxmaj</td>\n",
       "    </tr>\n",
       "    <tr>\n",
       "      <th>8</th>\n",
       "      <td>▁min ▁xxup ▁# s pier m ▁po ▁# s our sec de s ▁service ▁# dis cg ▁ ▁xxup ▁# ▁sinn et ▁ ▁soll ou es - ▁ n anne ab ▁mat e un io reflex ’ d ▁ ▁an ▁aktiv rain ter ▁ ▁xxmaj um ▁v t lei ▁ ▁xxmaj 👍 ! n hun ▁ schafft ge ▁mat gruppe s echt b ar ▁a ▁xxmaj ▁den ▁an ▁intensiv ▁+ ach ma</td>\n",
       "      <td>▁xxup ▁# s pier m ▁po ▁# s our sec de s ▁service ▁# dis cg ▁ ▁xxup ▁# ▁sinn et ▁ ▁soll ou es - ▁ n anne ab ▁mat e un io reflex ’ d ▁ ▁an ▁aktiv rain ter ▁ ▁xxmaj um ▁v t lei ▁ ▁xxmaj 👍 ! n hun ▁ schafft ge ▁mat gruppe s echt b ar ▁a ▁xxmaj ▁den ▁an ▁intensiv ▁+ ach ma ge</td>\n",
       "    </tr>\n",
       "  </tbody>\n",
       "</table>"
      ],
      "text/plain": [
       "<IPython.core.display.HTML object>"
      ]
     },
     "metadata": {},
     "output_type": "display_data"
    }
   ],
   "source": [
    "dls.show_batch()"
   ]
  },
  {
   "cell_type": "code",
   "execution_count": null,
   "metadata": {},
   "outputs": [],
   "source": [
    "learn = language_model_learner(dls, AWD_LSTM, drop_mult=0.5, pretrained=True, pretrained_fnames=lm_fns, \n",
    "                               metrics=[accuracy, Perplexity()]).to_fp16()\n",
    "learn.path = model_path"
   ]
  },
  {
   "cell_type": "code",
   "execution_count": null,
   "metadata": {},
   "outputs": [
    {
     "data": {
      "text/html": [],
      "text/plain": [
       "<IPython.core.display.HTML object>"
      ]
     },
     "metadata": {},
     "output_type": "display_data"
    },
    {
     "data": {
      "text/plain": [
       "SuggestedLRs(lr_min=0.03019951581954956, lr_steep=0.04786301031708717)"
      ]
     },
     "execution_count": null,
     "metadata": {},
     "output_type": "execute_result"
    },
    {
     "data": {
      "image/png": "[encoded data removed]",
      "text/plain": [
       "<Figure size 432x288 with 1 Axes>"
      ]
     },
     "metadata": {
      "needs_background": "light"
     },
     "output_type": "display_data"
    }
   ],
   "source": [
    "learn.lr_find()"
   ]
  },
  {
   "cell_type": "code",
   "execution_count": null,
   "metadata": {},
   "outputs": [],
   "source": [
    "lr = 3e-2"
   ]
  },
  {
   "cell_type": "code",
   "execution_count": null,
   "metadata": {},
   "outputs": [
    {
     "data": {
      "text/html": [
       "<table border=\"1\" class=\"dataframe\">\n",
       "  <thead>\n",
       "    <tr style=\"text-align: left;\">\n",
       "      <th>epoch</th>\n",
       "      <th>train_loss</th>\n",
       "      <th>valid_loss</th>\n",
       "      <th>accuracy</th>\n",
       "      <th>perplexity</th>\n",
       "      <th>time</th>\n",
       "    </tr>\n",
       "  </thead>\n",
       "  <tbody>\n",
       "    <tr>\n",
       "      <td>0</td>\n",
       "      <td>4.274698</td>\n",
       "      <td>4.093458</td>\n",
       "      <td>0.340817</td>\n",
       "      <td>59.946812</td>\n",
       "      <td>02:15</td>\n",
       "    </tr>\n",
       "  </tbody>\n",
       "</table>"
      ],
      "text/plain": [
       "<IPython.core.display.HTML object>"
      ]
     },
     "metadata": {},
     "output_type": "display_data"
    }
   ],
   "source": [
    "learn.fit_one_cycle(1, lr, moms=(0.8,0.7,0.8))"
   ]
  },
  {
   "cell_type": "code",
   "execution_count": null,
   "metadata": {},
   "outputs": [
    {
     "data": {
      "text/html": [
       "<table border=\"1\" class=\"dataframe\">\n",
       "  <thead>\n",
       "    <tr style=\"text-align: left;\">\n",
       "      <th>epoch</th>\n",
       "      <th>train_loss</th>\n",
       "      <th>valid_loss</th>\n",
       "      <th>accuracy</th>\n",
       "      <th>perplexity</th>\n",
       "      <th>time</th>\n",
       "    </tr>\n",
       "  </thead>\n",
       "  <tbody>\n",
       "    <tr>\n",
       "      <td>0</td>\n",
       "      <td>4.068278</td>\n",
       "      <td>3.932473</td>\n",
       "      <td>0.359489</td>\n",
       "      <td>51.033012</td>\n",
       "      <td>02:42</td>\n",
       "    </tr>\n",
       "    <tr>\n",
       "      <td>1</td>\n",
       "      <td>4.014465</td>\n",
       "      <td>3.883495</td>\n",
       "      <td>0.366970</td>\n",
       "      <td>48.593758</td>\n",
       "      <td>02:41</td>\n",
       "    </tr>\n",
       "    <tr>\n",
       "      <td>2</td>\n",
       "      <td>3.915109</td>\n",
       "      <td>3.793149</td>\n",
       "      <td>0.379014</td>\n",
       "      <td>44.395962</td>\n",
       "      <td>02:42</td>\n",
       "    </tr>\n",
       "    <tr>\n",
       "      <td>3</td>\n",
       "      <td>3.824833</td>\n",
       "      <td>3.725914</td>\n",
       "      <td>0.387506</td>\n",
       "      <td>41.509136</td>\n",
       "      <td>02:42</td>\n",
       "    </tr>\n",
       "    <tr>\n",
       "      <td>4</td>\n",
       "      <td>3.774954</td>\n",
       "      <td>3.664786</td>\n",
       "      <td>0.394962</td>\n",
       "      <td>39.047775</td>\n",
       "      <td>02:42</td>\n",
       "    </tr>\n",
       "    <tr>\n",
       "      <td>5</td>\n",
       "      <td>3.695723</td>\n",
       "      <td>3.600970</td>\n",
       "      <td>0.402666</td>\n",
       "      <td>36.633743</td>\n",
       "      <td>02:42</td>\n",
       "    </tr>\n",
       "    <tr>\n",
       "      <td>6</td>\n",
       "      <td>3.624130</td>\n",
       "      <td>3.542982</td>\n",
       "      <td>0.409899</td>\n",
       "      <td>34.569855</td>\n",
       "      <td>02:42</td>\n",
       "    </tr>\n",
       "    <tr>\n",
       "      <td>7</td>\n",
       "      <td>3.544222</td>\n",
       "      <td>3.495561</td>\n",
       "      <td>0.416163</td>\n",
       "      <td>32.968765</td>\n",
       "      <td>02:42</td>\n",
       "    </tr>\n",
       "    <tr>\n",
       "      <td>8</td>\n",
       "      <td>3.493506</td>\n",
       "      <td>3.467265</td>\n",
       "      <td>0.420178</td>\n",
       "      <td>32.048973</td>\n",
       "      <td>02:42</td>\n",
       "    </tr>\n",
       "    <tr>\n",
       "      <td>9</td>\n",
       "      <td>3.435243</td>\n",
       "      <td>3.462677</td>\n",
       "      <td>0.421081</td>\n",
       "      <td>31.902250</td>\n",
       "      <td>02:42</td>\n",
       "    </tr>\n",
       "  </tbody>\n",
       "</table>"
      ],
      "text/plain": [
       "<IPython.core.display.HTML object>"
      ]
     },
     "metadata": {},
     "output_type": "display_data"
    }
   ],
   "source": [
    "learn.unfreeze()\n",
    "learn.fit_one_cycle(10, slice(lr/100,lr), moms=(0.8,0.7,0.8))"
   ]
  },
  {
   "cell_type": "markdown",
   "metadata": {},
   "source": [
    "## Saving fine tuned model, encoder and vocab"
   ]
  },
  {
   "cell_type": "code",
   "execution_count": null,
   "metadata": {},
   "outputs": [],
   "source": [
    "lm_ft_fns = [(model_path/f'{lang}_{step}_model').absolute(), \n",
    "             (model_path/f'{lang}_{step}_vocab.pkl').absolute()]"
   ]
  },
  {
   "cell_type": "code",
   "execution_count": null,
   "metadata": {},
   "outputs": [
    {
     "data": {
      "text/plain": [
       "<fastai.text.learner.LMLearner at 0x7f67502beca0>"
      ]
     },
     "execution_count": null,
     "metadata": {},
     "output_type": "execute_result"
    }
   ],
   "source": [
    "learn.to_fp32()"
   ]
  },
  {
   "cell_type": "code",
   "execution_count": null,
   "metadata": {},
   "outputs": [
    {
     "data": {
      "text/plain": [
       "Path('/data/projects/git/fastai_ulmfit/data/dewiki/model/ft/bwd/de_ft_model.pth')"
      ]
     },
     "execution_count": null,
     "metadata": {},
     "output_type": "execute_result"
    }
   ],
   "source": [
    "learn.save(lm_ft_fns[0], with_opt=False)"
   ]
  },
  {
   "cell_type": "code",
   "execution_count": null,
   "metadata": {},
   "outputs": [],
   "source": [
    "learn.save_encoder((model_path/f'{lang}_{step}_encoder').absolute())"
   ]
  },
  {
   "cell_type": "code",
   "execution_count": null,
   "metadata": {},
   "outputs": [],
   "source": [
    "with open(lm_ft_fns[1], 'wb') as f:\n",
    "      pickle.dump(learn.dls.vocab, f)"
   ]
  },
  {
   "cell_type": "code",
   "execution_count": null,
   "metadata": {},
   "outputs": [],
   "source": []
  },
  {
   "cell_type": "code",
   "execution_count": null,
   "metadata": {},
   "outputs": [],
   "source": []
  }
 ],
 "metadata": {
  "kernelspec": {
   "display_name": "fastai",
   "language": "python",
   "name": "fastai"
  }
 },
 "nbformat": 4,
 "nbformat_minor": 4
}
