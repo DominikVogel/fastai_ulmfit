{
 "cells": [
  {
   "cell_type": "code",
   "execution_count": 1,
   "metadata": {},
   "outputs": [],
   "source": [
    "from fastai.text.all import *"
   ]
  },
  {
   "cell_type": "code",
   "execution_count": 2,
   "metadata": {},
   "outputs": [],
   "source": [
    "lang = 'de'\n",
    "backwards = False\n",
    "bs=128\n",
    "vocab_sz = 15000\n",
    "num_workers=18\n",
    "step = 'ft' # fine-tuning"
   ]
  },
  {
   "cell_type": "code",
   "execution_count": 3,
   "metadata": {},
   "outputs": [],
   "source": [
    "direction = 'fwd' if backwards == False else 'bwd'"
   ]
  },
  {
   "cell_type": "code",
   "execution_count": 4,
   "metadata": {},
   "outputs": [],
   "source": [
    "wiki = f'{lang}wiki'\n",
    "base_path = Path('data')\n",
    "path = base_path/wiki\n",
    "model_base_path = path/'model'\n",
    "model_path = model_base_path/step/direction\n",
    "spm_path = model_base_path/step/'spm'\n",
    "lm_fns = [(model_base_path/'lm'/direction/f'{lang}_wikitext').absolute(), \n",
    "          (model_base_path/'lm'/direction/f'{lang}_wikitext_vocab').absolute()]"
   ]
  },
  {
   "cell_type": "code",
   "execution_count": 5,
   "metadata": {},
   "outputs": [],
   "source": [
    "data_path = path/'germeval'"
   ]
  },
  {
   "cell_type": "code",
   "execution_count": 6,
   "metadata": {},
   "outputs": [
    {
     "data": {
      "text/plain": [
       "([Path('/data/projects/git/fastai_ulmfit_german/data/dewiki/model/lm/bwd/de_wikitext'),\n",
       "  Path('/data/projects/git/fastai_ulmfit_german/data/dewiki/model/lm/bwd/de_wikitext_vocab')],\n",
       " Path('data/dewiki/model/ft/spm'),\n",
       " 'bwd',\n",
       " True)"
      ]
     },
     "execution_count": 6,
     "metadata": {},
     "output_type": "execute_result"
    }
   ],
   "source": [
    "lm_fns, spm_path, direction, backwards"
   ]
  },
  {
   "cell_type": "markdown",
   "metadata": {},
   "source": [
    "## Prepare corpus for fine tuning"
   ]
  },
  {
   "cell_type": "code",
   "execution_count": 7,
   "metadata": {},
   "outputs": [],
   "source": [
    "df = pd.read_csv(data_path/'data_lm.csv')"
   ]
  },
  {
   "cell_type": "code",
   "execution_count": 8,
   "metadata": {},
   "outputs": [
    {
     "data": {
      "text/html": [
       "<div>\n",
       "<style scoped>\n",
       "    .dataframe tbody tr th:only-of-type {\n",
       "        vertical-align: middle;\n",
       "    }\n",
       "\n",
       "    .dataframe tbody tr th {\n",
       "        vertical-align: top;\n",
       "    }\n",
       "\n",
       "    .dataframe thead th {\n",
       "        text-align: right;\n",
       "    }\n",
       "</style>\n",
       "<table border=\"1\" class=\"dataframe\">\n",
       "  <thead>\n",
       "    <tr style=\"text-align: right;\">\n",
       "      <th></th>\n",
       "      <th>text</th>\n",
       "    </tr>\n",
       "  </thead>\n",
       "  <tbody>\n",
       "    <tr>\n",
       "      <th>0</th>\n",
       "      <td>Meine Mutter hat mir erzählt, dass mein Vater einen Wahlkreiskandidaten nicht gewählt hat, weil der gegen die Homo-Ehe ist ☺</td>\n",
       "    </tr>\n",
       "    <tr>\n",
       "      <th>1</th>\n",
       "      <td>Meine Reaktion; |LBR| Nicht jeder Moslem ist ein Terrorist. Aber jeder Moslem glaubt an Überlieferungen, die Gewalt und Terror begünstigen.</td>\n",
       "    </tr>\n",
       "    <tr>\n",
       "      <th>2</th>\n",
       "      <td>#Merkel rollt dem Emir von #Katar, der islamistischen Terror unterstützt, den roten Teppich aus.Wir brauchen einen sofortigen #Waffenstopp!</td>\n",
       "    </tr>\n",
       "    <tr>\n",
       "      <th>3</th>\n",
       "      <td>„Merle ist kein junges unschuldiges Mädchen“ Kch....... 😱 #tatort</td>\n",
       "    </tr>\n",
       "    <tr>\n",
       "      <th>4</th>\n",
       "      <td>Asylantenflut bringt eben nur negatives für Deutschland. Drum Asylanenstop und Rückführung der Mehrzahl.</td>\n",
       "    </tr>\n",
       "    <tr>\n",
       "      <th>...</th>\n",
       "      <td>...</td>\n",
       "    </tr>\n",
       "    <tr>\n",
       "      <th>512382</th>\n",
       "      <td>🇪🇺 Keine Lust auf #Europa? Zurück zu nationalen Grenzen? Drei junge #Europäer wollten dabei nicht länger zusehen. Und gründeten #Volt. Eine Partei, die Europa einen soll. ⏩ #Europawahl2019</td>\n",
       "    </tr>\n",
       "    <tr>\n",
       "      <th>512383</th>\n",
       "      <td>Morgen um 11 Uhr geht die große Sprayer-Aktion an der Bahnunterführung in #Langen los. Wir sind total gespannt auf die Kunstwerke, die dort entstehen und verabschieden uns schon mal von den alten Schmierereien. Mehr Infos: #Graffiti #StreetArt</td>\n",
       "    </tr>\n",
       "    <tr>\n",
       "      <th>512384</th>\n",
       "      <td>Neuigkeit: Gesundheitsgefahr: Krebshilfe fordert Werbeverbot für E-Zigaretten #news</td>\n",
       "    </tr>\n",
       "    <tr>\n",
       "      <th>512385</th>\n",
       "      <td>Hundeanhänger 925 Silber und recyceltes Holz sabina #Tchotchke #kreativerTchotchke #handgefertigt Cane ciondolo in argento 925 e sabina legno riciclato #gioielli #gioiellicreativi #fattoamano</td>\n",
       "    </tr>\n",
       "    <tr>\n",
       "      <th>512386</th>\n",
       "      <td>Nein! Nichts hat was mit Irgendwas zu tun! Zu den Attentaten in Christchurch und SriLanka hören wir bei #maybritillner von friedliebenden Radikal-Muslimen - bis Wolfgang Bosbach die Blutgrätsche macht.</td>\n",
       "    </tr>\n",
       "  </tbody>\n",
       "</table>\n",
       "<p>512387 rows × 1 columns</p>\n",
       "</div>"
      ],
      "text/plain": [
       "                                                                                                                                                                                                                                                       text\n",
       "0                                                                                                                              Meine Mutter hat mir erzählt, dass mein Vater einen Wahlkreiskandidaten nicht gewählt hat, weil der gegen die Homo-Ehe ist ☺\n",
       "1                                                                                                               Meine Reaktion; |LBR| Nicht jeder Moslem ist ein Terrorist. Aber jeder Moslem glaubt an Überlieferungen, die Gewalt und Terror begünstigen.\n",
       "2                                                                                                               #Merkel rollt dem Emir von #Katar, der islamistischen Terror unterstützt, den roten Teppich aus.Wir brauchen einen sofortigen #Waffenstopp!\n",
       "3                                                                                                                                                                                         „Merle ist kein junges unschuldiges Mädchen“ Kch....... 😱 #tatort\n",
       "4                                                                                                                                                  Asylantenflut bringt eben nur negatives für Deutschland. Drum Asylanenstop und Rückführung der Mehrzahl.\n",
       "...                                                                                                                                                                                                                                                     ...\n",
       "512382                                                         🇪🇺 Keine Lust auf #Europa? Zurück zu nationalen Grenzen? Drei junge #Europäer wollten dabei nicht länger zusehen. Und gründeten #Volt. Eine Partei, die Europa einen soll. ⏩ #Europawahl2019\n",
       "512383  Morgen um 11 Uhr geht die große Sprayer-Aktion an der Bahnunterführung in #Langen los. Wir sind total gespannt auf die Kunstwerke, die dort entstehen und verabschieden uns schon mal von den alten Schmierereien. Mehr Infos: #Graffiti #StreetArt\n",
       "512384                                                                                                                                                                  Neuigkeit: Gesundheitsgefahr: Krebshilfe fordert Werbeverbot für E-Zigaretten #news\n",
       "512385                                                      Hundeanhänger 925 Silber und recyceltes Holz sabina #Tchotchke #kreativerTchotchke #handgefertigt Cane ciondolo in argento 925 e sabina legno riciclato #gioielli #gioiellicreativi #fattoamano\n",
       "512386                                            Nein! Nichts hat was mit Irgendwas zu tun! Zu den Attentaten in Christchurch und SriLanka hören wir bei #maybritillner von friedliebenden Radikal-Muslimen - bis Wolfgang Bosbach die Blutgrätsche macht.\n",
       "\n",
       "[512387 rows x 1 columns]"
      ]
     },
     "execution_count": 8,
     "metadata": {},
     "output_type": "execute_result"
    }
   ],
   "source": [
    "df"
   ]
  },
  {
   "cell_type": "markdown",
   "metadata": {},
   "source": [
    "## Fine tune model"
   ]
  },
  {
   "cell_type": "code",
   "execution_count": 9,
   "metadata": {},
   "outputs": [
    {
     "name": "stdout",
     "output_type": "stream",
     "text": [
      "SentencePiece Model exists - using data/dewiki/model/ft/spm\n"
     ]
    }
   ],
   "source": [
    "if spm_path.exists():\n",
    "    tok = SentencePieceTokenizer(lang=lang, max_vocab_sz=vocab_sz, sp_model=spm_path/'spm.model')\n",
    "    print(f'SentencePiece Model exists - using {spm_path}')\n",
    "else:\n",
    "    tok = SentencePieceTokenizer(lang=lang, max_vocab_sz=vocab_sz, cache_dir=spm_path)"
   ]
  },
  {
   "cell_type": "code",
   "execution_count": 10,
   "metadata": {},
   "outputs": [
    {
     "data": {
      "text/html": [],
      "text/plain": [
       "<IPython.core.display.HTML object>"
      ]
     },
     "metadata": {},
     "output_type": "display_data"
    },
    {
     "name": "stderr",
     "output_type": "stream",
     "text": [
      "/home/florian/miniconda3/envs/fastai/lib/python3.8/site-packages/numpy/core/_asarray.py:83: VisibleDeprecationWarning: Creating an ndarray from ragged nested sequences (which is a list-or-tuple of lists-or-tuples-or ndarrays with different lengths or shapes) is deprecated. If you meant to do this, you must specify 'dtype=object' when creating the ndarray\n",
      "  return array(a, dtype, copy=False, order=order)\n"
     ]
    }
   ],
   "source": [
    "dblocks = DataBlock(blocks=(TextBlock.from_df('text', tok=tok, is_lm=True, backwards=backwards)),\n",
    "                    get_x=ColReader('text'), \n",
    "                    splitter=RandomSplitter(valid_pct=0.1, seed=42))\n",
    "dls = dblocks.dataloaders(df, bs=bs, num_workers=num_workers)"
   ]
  },
  {
   "cell_type": "code",
   "execution_count": 11,
   "metadata": {},
   "outputs": [
    {
     "data": {
      "text/html": [
       "<table border=\"1\" class=\"dataframe\">\n",
       "  <thead>\n",
       "    <tr style=\"text-align: right;\">\n",
       "      <th></th>\n",
       "      <th>text</th>\n",
       "      <th>text_</th>\n",
       "    </tr>\n",
       "  </thead>\n",
       "  <tbody>\n",
       "    <tr>\n",
       "      <th>0</th>\n",
       "      <td>️ ⚪ ▁ ▁hahohe ▁# berlin gehört zukunft ▁die ▁# : ▁ ▁der ▁von ▁präsentiert , rückblick - end ▁wochen ▁unser ▁xxmaj - ▁ t ute lä ▁einge ▁ist phase ▁ ▁xxmaj ▁heiße ▁die ▁xxmaj 🔵 ▁ ▁xxbos 🙃 ▁... sprüche ▁ ▁xxmaj \" race g ▁dis ▁a ▁/ ▁everything ing ▁ruin s ' ▁it , rek t ▁ ▁xxmaj ▁star ▁xxmaj t ' n ▁is this ▁\" ▁gleichen ▁die ▁ich ▁höre</td>\n",
       "      <td>⚪ ▁ ▁hahohe ▁# berlin gehört zukunft ▁die ▁# : ▁ ▁der ▁von ▁präsentiert , rückblick - end ▁wochen ▁unser ▁xxmaj - ▁ t ute lä ▁einge ▁ist phase ▁ ▁xxmaj ▁heiße ▁die ▁xxmaj 🔵 ▁ ▁xxbos 🙃 ▁... sprüche ▁ ▁xxmaj \" race g ▁dis ▁a ▁/ ▁everything ing ▁ruin s ' ▁it , rek t ▁ ▁xxmaj ▁star ▁xxmaj t ' n ▁is this ▁\" ▁gleichen ▁die ▁ich ▁höre ng</td>\n",
       "    </tr>\n",
       "    <tr>\n",
       "      <th>1</th>\n",
       "      <td>▁mittel ▁xxmaj ▁der , ▁gefahr ▁xxmaj ▁möglicherweise ▁läuft , ▁ist gen wo ▁ausge ▁zu wer ▁( ▁🤔 . ▁sein gen wo ▁ausge ▁und t il fe ▁ausge ▁letzte ▁xxmaj ▁ins ▁bis ▁alles ▁nicht ▁ja ▁muss ▁es ▁xxmaj 💐 ▁ . ▁lesen ▁zu ▁dich ▁xxmaj , ▁schön ▁xxmaj ! ▁nicht ▁gar ▁xxmaj ? ▁müll ▁xxmaj ▁aber ▁xxmaj - ▁ ! ▁ja ▁definitiv - ▁ ▁gedanken ▁xxmaj ▁xxbos ▁germany ▁xxmaj - ▁ ingen z</td>\n",
       "      <td>▁xxmaj ▁der , ▁gefahr ▁xxmaj ▁möglicherweise ▁läuft , ▁ist gen wo ▁ausge ▁zu wer ▁( ▁🤔 . ▁sein gen wo ▁ausge ▁und t il fe ▁ausge ▁letzte ▁xxmaj ▁ins ▁bis ▁alles ▁nicht ▁ja ▁muss ▁es ▁xxmaj 💐 ▁ . ▁lesen ▁zu ▁dich ▁xxmaj , ▁schön ▁xxmaj ! ▁nicht ▁gar ▁xxmaj ? ▁müll ▁xxmaj ▁aber ▁xxmaj - ▁ ! ▁ja ▁definitiv - ▁ ▁gedanken ▁xxmaj ▁xxbos ▁germany ▁xxmaj - ▁ ingen z ▁kit</td>\n",
       "    </tr>\n",
       "    <tr>\n",
       "      <th>2</th>\n",
       "      <td>ve ’ ▁i ▁xxmaj ▁and , er ▁care ing ▁model ▁a ing su ▁pur , 37 ▁ ▁is d ▁da ▁my ▁xxbos 🐰 ▁ ! ▁herzen ▁xxmaj ▁im ▁sonne ▁xxmaj ▁und tage ▁fest ▁xxmaj ▁frohe ▁xxmaj 💫 ▁ ! ▁machen ▁aufmerksam ▁podcast ▁xxmaj ▁meinen ▁auf ▁mal ▁alle ▁bitte ▁xxmaj ? ▁team ▁xxmaj ▁im ▁ladies ▁xxmaj ▁euch ▁bei ▁ihr ▁habt ▁xxmaj ! ▁seid ▁dabei ▁ihr ▁dass , ▁mich ▁freue ▁ich ▁xxmaj * ende</td>\n",
       "      <td>’ ▁i ▁xxmaj ▁and , er ▁care ing ▁model ▁a ing su ▁pur , 37 ▁ ▁is d ▁da ▁my ▁xxbos 🐰 ▁ ! ▁herzen ▁xxmaj ▁im ▁sonne ▁xxmaj ▁und tage ▁fest ▁xxmaj ▁frohe ▁xxmaj 💫 ▁ ! ▁machen ▁aufmerksam ▁podcast ▁xxmaj ▁meinen ▁auf ▁mal ▁alle ▁bitte ▁xxmaj ? ▁team ▁xxmaj ▁im ▁ladies ▁xxmaj ▁euch ▁bei ▁ihr ▁habt ▁xxmaj ! ▁seid ▁dabei ▁ihr ▁dass , ▁mich ▁freue ▁ich ▁xxmaj * ende spoiler</td>\n",
       "    </tr>\n",
       "    <tr>\n",
       "      <th>3</th>\n",
       "      <td>▁geheim ▁seine ▁deshalb ▁hat ▁kollege ▁xxmaj . ▁beleidigt ▁einmal ▁nur ▁jeden ▁habe ▁und ▁call ▁xxmaj ▁con ▁xxmaj ▁im ▁brav ▁war ▁ich ▁xxmaj ▁xxbos sz ▁ ▁# ▁ard ▁xxup ▁# pa d ▁ ▁# dr n ▁ ▁# ▁linke ▁# ▁faz ▁# ▁csu ▁# ▁spd ▁# ▁cdu ▁xxup ▁# ! gemacht ▁vor ▁haben ▁bayern ▁xxmaj ▁# ▁und ▁hessen ▁xxmaj ▁# ! wünscht ▁ ▁koalition ▁xxmaj ▁große ▁xxmaj ▁keine ▁land ▁xxmaj ▁dieses ▁dass ▁lernen</td>\n",
       "      <td>▁seine ▁deshalb ▁hat ▁kollege ▁xxmaj . ▁beleidigt ▁einmal ▁nur ▁jeden ▁habe ▁und ▁call ▁xxmaj ▁con ▁xxmaj ▁im ▁brav ▁war ▁ich ▁xxmaj ▁xxbos sz ▁ ▁# ▁ard ▁xxup ▁# pa d ▁ ▁# dr n ▁ ▁# ▁linke ▁# ▁faz ▁# ▁csu ▁# ▁spd ▁# ▁cdu ▁xxup ▁# ! gemacht ▁vor ▁haben ▁bayern ▁xxmaj ▁# ▁und ▁hessen ▁xxmaj ▁# ! wünscht ▁ ▁koalition ▁xxmaj ▁große ▁xxmaj ▁keine ▁land ▁xxmaj ▁dieses ▁dass ▁lernen ▁sollte</td>\n",
       "    </tr>\n",
       "    <tr>\n",
       "      <th>4</th>\n",
       "      <td>▁ ▁xxup ▁xxbos s ▁gut ▁xxmaj ▁xxbos ! ▁bericht ▁xxmaj ▁zum s ' ▁geht ▁hier ▁xxmaj . gang ▁werde ▁xxmaj ▁seinen ▁über ▁berichtet ) ▁gruppe ▁xxmaj ▁o &amp; b ▁( hm bö ▁ ▁xxmaj ▁ernst ▁xxmaj . ▁dr ▁xxmaj : er nehm ▁unter ▁xxmaj en ▁beeindruckend ▁einem ▁mit ▁veranstaltung ▁xxmaj e ▁genial ▁xxmaj - ▁ : ▁münchen ▁xxmaj werk s förderung ▁berufs ▁xxmaj ▁von ▁neues ▁xxmaj ▁xxbos ▁teuer ▁# ment invest ▁</td>\n",
       "      <td>▁xxup ▁xxbos s ▁gut ▁xxmaj ▁xxbos ! ▁bericht ▁xxmaj ▁zum s ' ▁geht ▁hier ▁xxmaj . gang ▁werde ▁xxmaj ▁seinen ▁über ▁berichtet ) ▁gruppe ▁xxmaj ▁o &amp; b ▁( hm bö ▁ ▁xxmaj ▁ernst ▁xxmaj . ▁dr ▁xxmaj : er nehm ▁unter ▁xxmaj en ▁beeindruckend ▁einem ▁mit ▁veranstaltung ▁xxmaj e ▁genial ▁xxmaj - ▁ : ▁münchen ▁xxmaj werk s förderung ▁berufs ▁xxmaj ▁von ▁neues ▁xxmaj ▁xxbos ▁teuer ▁# ment invest ▁ ▁#</td>\n",
       "    </tr>\n",
       "    <tr>\n",
       "      <th>5</th>\n",
       "      <td>ing und so - ic ▁german ▁with ▁them place ▁re ▁and ▁language english ▁ ▁the ▁from ots ro ▁ ic man ger - ▁non ▁with s word ▁ ▁all ve mo ▁re ▁to ▁attempt ▁an ▁is ▁which , ish gl ▁an ▁about ed ▁learn ▁i ▁today ▁xxbos . ▁donnerstag ▁xxmaj ▁bis ▁xxmaj . ▁nähe ▁xxmaj ▁der ▁in ▁parkplatz ▁xxmaj ▁einen ▁euch ▁xxmaj ▁sucht ▁oder ▁kommen ▁zu ▁fahrrad ▁xxmaj . ▁bzw ▁straßenbahn ▁xxmaj</td>\n",
       "      <td>und so - ic ▁german ▁with ▁them place ▁re ▁and ▁language english ▁ ▁the ▁from ots ro ▁ ic man ger - ▁non ▁with s word ▁ ▁all ve mo ▁re ▁to ▁attempt ▁an ▁is ▁which , ish gl ▁an ▁about ed ▁learn ▁i ▁today ▁xxbos . ▁donnerstag ▁xxmaj ▁bis ▁xxmaj . ▁nähe ▁xxmaj ▁der ▁in ▁parkplatz ▁xxmaj ▁einen ▁euch ▁xxmaj ▁sucht ▁oder ▁kommen ▁zu ▁fahrrad ▁xxmaj . ▁bzw ▁straßenbahn ▁xxmaj ▁mit</td>\n",
       "    </tr>\n",
       "    <tr>\n",
       "      <th>6</th>\n",
       "      <td>▁über ▁komplett ▁die ▁in ▁mit ▁rad ▁ihr ▁früh ▁der ▁in ▁die ▁leute ▁für ▁hell ▁in ▁place special ▁ ▁a s ‘ ▁there ▁xxbos ! ▁unverschämt ▁schön ▁ganz ▁schon ▁ist ▁daß , ▁aber ▁xxmaj ! ▁nicht ▁sicher ▁ganz ▁xxmaj ▁xxbos ▁fire ▁xxmaj ▁&amp; e hir ▁ ▁xxmaj . geschäft - ▁fußball ▁aktuellen ▁dem ▁zu , ▁aus ▁viel ▁sagt ▁xxmaj . ▁sucht ▁saison ▁xxmaj ▁neuen ▁zur ▁trainer ▁xxmaj ▁neuen ▁einen ▁liga ▁xxmaj ▁halbe ▁die</td>\n",
       "      <td>▁komplett ▁die ▁in ▁mit ▁rad ▁ihr ▁früh ▁der ▁in ▁die ▁leute ▁für ▁hell ▁in ▁place special ▁ ▁a s ‘ ▁there ▁xxbos ! ▁unverschämt ▁schön ▁ganz ▁schon ▁ist ▁daß , ▁aber ▁xxmaj ! ▁nicht ▁sicher ▁ganz ▁xxmaj ▁xxbos ▁fire ▁xxmaj ▁&amp; e hir ▁ ▁xxmaj . geschäft - ▁fußball ▁aktuellen ▁dem ▁zu , ▁aus ▁viel ▁sagt ▁xxmaj . ▁sucht ▁saison ▁xxmaj ▁neuen ▁zur ▁trainer ▁xxmaj ▁neuen ▁einen ▁liga ▁xxmaj ▁halbe ▁die ▁gefühlt</td>\n",
       "    </tr>\n",
       "    <tr>\n",
       "      <th>7</th>\n",
       "      <td>er ▁ , ▁frau ▁eine ▁nie er ▁ ▁war ▁dann ▁ist ▁trans ▁auch ▁wirklich er ▁ ▁wenn ▁aber , ▁schön ▁xxmaj ▁xxbos 😊 ☕ 😬 ▁ ? räumen ▁ ▁weg ▁xxmaj ▁dem ▁aus en praktikant ▁ ▁xxmaj ▁oder linge ▁lehr ▁xxmaj ? ▁du ▁xxmaj ▁und ▁xxmaj ! ▁schön ▁mal ▁auch ▁xxmaj ! ▁aus pp tru ▁turn ▁xxmaj ▁der ▁abend ▁xxmaj ▁heute ▁fällt ▁dafür , ▁ja technisch ▁arbeits ▁xxmaj ▁xxbos ▁... . ▁statt</td>\n",
       "      <td>▁ , ▁frau ▁eine ▁nie er ▁ ▁war ▁dann ▁ist ▁trans ▁auch ▁wirklich er ▁ ▁wenn ▁aber , ▁schön ▁xxmaj ▁xxbos 😊 ☕ 😬 ▁ ? räumen ▁ ▁weg ▁xxmaj ▁dem ▁aus en praktikant ▁ ▁xxmaj ▁oder linge ▁lehr ▁xxmaj ? ▁du ▁xxmaj ▁und ▁xxmaj ! ▁schön ▁mal ▁auch ▁xxmaj ! ▁aus pp tru ▁turn ▁xxmaj ▁der ▁abend ▁xxmaj ▁heute ▁fällt ▁dafür , ▁ja technisch ▁arbeits ▁xxmaj ▁xxbos ▁... . ▁statt ▁hierzulande</td>\n",
       "    </tr>\n",
       "    <tr>\n",
       "      <th>8</th>\n",
       "      <td>▁xxmaj ▁durch d gen fe ▁durch ▁xxmaj . fang an ▁neu ▁xxmaj ▁der ▁beginnt s turm s ▁ ▁xxmaj baren sicht ▁un ▁des ▁auge ▁xxmaj ▁im d ▁stehen ▁xxmaj ▁xxbos . führung zusammen ▁familien ▁xxmaj ▁auf ▁einen ▁mache ▁und ▁dort ▁gleich ▁bleib bli ä ▁sch ▁xxmaj ▁also ▁xxmaj . ▁dort ▁sein ▁schön ▁es ▁soll ▁sonst ▁auch , ▁erleben ▁dort ▁man ▁soll n ▁geschichte ▁xxmaj ▁schöne ▁nur ▁nicht ▁xxmaj ▁xxbos ▁suche ▁xxmaj ▁#</td>\n",
       "      <td>▁durch d gen fe ▁durch ▁xxmaj . fang an ▁neu ▁xxmaj ▁der ▁beginnt s turm s ▁ ▁xxmaj baren sicht ▁un ▁des ▁auge ▁xxmaj ▁im d ▁stehen ▁xxmaj ▁xxbos . führung zusammen ▁familien ▁xxmaj ▁auf ▁einen ▁mache ▁und ▁dort ▁gleich ▁bleib bli ä ▁sch ▁xxmaj ▁also ▁xxmaj . ▁dort ▁sein ▁schön ▁es ▁soll ▁sonst ▁auch , ▁erleben ▁dort ▁man ▁soll n ▁geschichte ▁xxmaj ▁schöne ▁nur ▁nicht ▁xxmaj ▁xxbos ▁suche ▁xxmaj ▁# ▁schweiz</td>\n",
       "    </tr>\n",
       "  </tbody>\n",
       "</table>"
      ],
      "text/plain": [
       "<IPython.core.display.HTML object>"
      ]
     },
     "metadata": {},
     "output_type": "display_data"
    }
   ],
   "source": [
    "dls.show_batch()"
   ]
  },
  {
   "cell_type": "code",
   "execution_count": 12,
   "metadata": {},
   "outputs": [],
   "source": [
    "learn = language_model_learner(dls, AWD_LSTM, drop_mult=0.5, pretrained=True, pretrained_fnames=lm_fns, \n",
    "                               metrics=[accuracy, Perplexity()]).to_fp16()\n",
    "learn.path = model_path"
   ]
  },
  {
   "cell_type": "code",
   "execution_count": 13,
   "metadata": {},
   "outputs": [
    {
     "data": {
      "text/html": [],
      "text/plain": [
       "<IPython.core.display.HTML object>"
      ]
     },
     "metadata": {},
     "output_type": "display_data"
    },
    {
     "data": {
      "text/plain": [
       "SuggestedLRs(lr_min=0.03019951581954956, lr_steep=0.03981071710586548)"
      ]
     },
     "execution_count": 13,
     "metadata": {},
     "output_type": "execute_result"
    },
    {
     "data": {
      "image/png": "[encoded data removed]",
      "text/plain": [
       "<Figure size 432x288 with 1 Axes>"
      ]
     },
     "metadata": {
      "needs_background": "light"
     },
     "output_type": "display_data"
    }
   ],
   "source": [
    "learn.lr_find()"
   ]
  },
  {
   "cell_type": "code",
   "execution_count": 14,
   "metadata": {},
   "outputs": [],
   "source": [
    "lr = 3e-2"
   ]
  },
  {
   "cell_type": "code",
   "execution_count": 15,
   "metadata": {},
   "outputs": [
    {
     "data": {
      "text/html": [
       "<table border=\"1\" class=\"dataframe\">\n",
       "  <thead>\n",
       "    <tr style=\"text-align: left;\">\n",
       "      <th>epoch</th>\n",
       "      <th>train_loss</th>\n",
       "      <th>valid_loss</th>\n",
       "      <th>accuracy</th>\n",
       "      <th>perplexity</th>\n",
       "      <th>time</th>\n",
       "    </tr>\n",
       "  </thead>\n",
       "  <tbody>\n",
       "    <tr>\n",
       "      <td>0</td>\n",
       "      <td>4.279651</td>\n",
       "      <td>4.108228</td>\n",
       "      <td>0.338827</td>\n",
       "      <td>60.838799</td>\n",
       "      <td>02:11</td>\n",
       "    </tr>\n",
       "  </tbody>\n",
       "</table>"
      ],
      "text/plain": [
       "<IPython.core.display.HTML object>"
      ]
     },
     "metadata": {},
     "output_type": "display_data"
    }
   ],
   "source": [
    "learn.fit_one_cycle(1, lr, moms=(0.8,0.7,0.8))"
   ]
  },
  {
   "cell_type": "code",
   "execution_count": 16,
   "metadata": {},
   "outputs": [
    {
     "data": {
      "text/html": [
       "<table border=\"1\" class=\"dataframe\">\n",
       "  <thead>\n",
       "    <tr style=\"text-align: left;\">\n",
       "      <th>epoch</th>\n",
       "      <th>train_loss</th>\n",
       "      <th>valid_loss</th>\n",
       "      <th>accuracy</th>\n",
       "      <th>perplexity</th>\n",
       "      <th>time</th>\n",
       "    </tr>\n",
       "  </thead>\n",
       "  <tbody>\n",
       "    <tr>\n",
       "      <td>0</td>\n",
       "      <td>4.064413</td>\n",
       "      <td>3.944313</td>\n",
       "      <td>0.357794</td>\n",
       "      <td>51.640865</td>\n",
       "      <td>02:39</td>\n",
       "    </tr>\n",
       "    <tr>\n",
       "      <td>1</td>\n",
       "      <td>4.004095</td>\n",
       "      <td>3.892355</td>\n",
       "      <td>0.365815</td>\n",
       "      <td>49.026230</td>\n",
       "      <td>02:39</td>\n",
       "    </tr>\n",
       "    <tr>\n",
       "      <td>2</td>\n",
       "      <td>3.931869</td>\n",
       "      <td>3.803417</td>\n",
       "      <td>0.377284</td>\n",
       "      <td>44.854179</td>\n",
       "      <td>02:39</td>\n",
       "    </tr>\n",
       "    <tr>\n",
       "      <td>3</td>\n",
       "      <td>3.838235</td>\n",
       "      <td>3.734735</td>\n",
       "      <td>0.385741</td>\n",
       "      <td>41.876938</td>\n",
       "      <td>02:38</td>\n",
       "    </tr>\n",
       "    <tr>\n",
       "      <td>4</td>\n",
       "      <td>3.765229</td>\n",
       "      <td>3.671536</td>\n",
       "      <td>0.393115</td>\n",
       "      <td>39.312233</td>\n",
       "      <td>02:39</td>\n",
       "    </tr>\n",
       "    <tr>\n",
       "      <td>5</td>\n",
       "      <td>3.680556</td>\n",
       "      <td>3.611330</td>\n",
       "      <td>0.400901</td>\n",
       "      <td>37.015244</td>\n",
       "      <td>02:40</td>\n",
       "    </tr>\n",
       "    <tr>\n",
       "      <td>6</td>\n",
       "      <td>3.626554</td>\n",
       "      <td>3.551534</td>\n",
       "      <td>0.408415</td>\n",
       "      <td>34.866768</td>\n",
       "      <td>02:40</td>\n",
       "    </tr>\n",
       "    <tr>\n",
       "      <td>7</td>\n",
       "      <td>3.553681</td>\n",
       "      <td>3.502916</td>\n",
       "      <td>0.414827</td>\n",
       "      <td>33.212170</td>\n",
       "      <td>02:42</td>\n",
       "    </tr>\n",
       "    <tr>\n",
       "      <td>8</td>\n",
       "      <td>3.488462</td>\n",
       "      <td>3.474455</td>\n",
       "      <td>0.418645</td>\n",
       "      <td>32.280220</td>\n",
       "      <td>02:42</td>\n",
       "    </tr>\n",
       "    <tr>\n",
       "      <td>9</td>\n",
       "      <td>3.439993</td>\n",
       "      <td>3.469495</td>\n",
       "      <td>0.419560</td>\n",
       "      <td>32.120518</td>\n",
       "      <td>02:40</td>\n",
       "    </tr>\n",
       "  </tbody>\n",
       "</table>"
      ],
      "text/plain": [
       "<IPython.core.display.HTML object>"
      ]
     },
     "metadata": {},
     "output_type": "display_data"
    }
   ],
   "source": [
    "learn.unfreeze()\n",
    "learn.fit_one_cycle(10, slice(lr/100,lr), moms=(0.8,0.7,0.8))"
   ]
  },
  {
   "cell_type": "markdown",
   "metadata": {},
   "source": [
    "## Saving fine tuned model, encoder and vocab"
   ]
  },
  {
   "cell_type": "code",
   "execution_count": 17,
   "metadata": {},
   "outputs": [],
   "source": [
    "lm_ft_fns = [(model_path/f'{lang}_ft').absolute(), \n",
    "             (model_path/f'{lang}_ft_vocab.pkl').absolute()]"
   ]
  },
  {
   "cell_type": "code",
   "execution_count": 18,
   "metadata": {},
   "outputs": [
    {
     "data": {
      "text/plain": [
       "<fastai.text.learner.LMLearner at 0x7fda89088550>"
      ]
     },
     "execution_count": 18,
     "metadata": {},
     "output_type": "execute_result"
    }
   ],
   "source": [
    "learn.to_fp32()"
   ]
  },
  {
   "cell_type": "code",
   "execution_count": 19,
   "metadata": {},
   "outputs": [
    {
     "data": {
      "text/plain": [
       "Path('/data/projects/git/fastai_ulmfit_german/data/dewiki/model/ft/bwd/de_ft.pth')"
      ]
     },
     "execution_count": 19,
     "metadata": {},
     "output_type": "execute_result"
    }
   ],
   "source": [
    "learn.save(lm_ft_fns[0], with_opt=False)"
   ]
  },
  {
   "cell_type": "code",
   "execution_count": 20,
   "metadata": {},
   "outputs": [],
   "source": [
    "learn.save_encoder(f'{lm_ft_fns[0]}_encoder')"
   ]
  },
  {
   "cell_type": "code",
   "execution_count": 21,
   "metadata": {},
   "outputs": [],
   "source": [
    "with open(lm_ft_fns[1], 'wb') as f:\n",
    "      pickle.dump(learn.dls.vocab, f)"
   ]
  },
  {
   "cell_type": "code",
   "execution_count": null,
   "metadata": {},
   "outputs": [],
   "source": []
  },
  {
   "cell_type": "code",
   "execution_count": null,
   "metadata": {},
   "outputs": [],
   "source": []
  }
 ],
 "metadata": {
  "kernelspec": {
   "display_name": "fastai",
   "language": "python",
   "name": "fastai"
  },
  "language_info": {
   "codemirror_mode": {
    "name": "ipython",
    "version": 3
   },
   "file_extension": ".py",
   "mimetype": "text/x-python",
   "name": "python",
   "nbconvert_exporter": "python",
   "pygments_lexer": "ipython3",
   "version": "3.8.5"
  }
 },
 "nbformat": 4,
 "nbformat_minor": 4
}
