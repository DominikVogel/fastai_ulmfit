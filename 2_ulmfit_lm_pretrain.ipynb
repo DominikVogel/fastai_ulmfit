{
 "cells": [
  {
   "cell_type": "markdown",
   "metadata": {},
   "source": [
    "# Pretrain Language Model on Wikipedia"
   ]
  },
  {
   "cell_type": "code",
   "execution_count": 1,
   "metadata": {},
   "outputs": [],
   "source": [
    "from fastai.text.all import *\n",
    "from fastai.callback.progress import CSVLogger"
   ]
  },
  {
   "cell_type": "code",
   "execution_count": 2,
   "metadata": {},
   "outputs": [],
   "source": [
    "lang = 'de'\n",
    "backwards = False\n",
    "bs=128\n",
    "vocab_sz = 15000\n",
    "drop_mult = 0.5\n",
    "num_workers=18\n",
    "step = 'lm' # language model"
   ]
  },
  {
   "cell_type": "code",
   "execution_count": 3,
   "metadata": {},
   "outputs": [],
   "source": [
    "direction = 'fwd' if backwards == False else 'bwd'"
   ]
  },
  {
   "cell_type": "code",
   "execution_count": 4,
   "metadata": {},
   "outputs": [],
   "source": [
    "wiki = f'{lang}wiki'\n",
    "path = Path(f'data/{wiki}')\n",
    "data_path = path/'docs'/'sampled'\n",
    "model_path = path/'model'/step/direction\n",
    "spm_path = path/'model'/step/'spm'\n",
    "lm_fns = [model_path/f'{lang}_wikitext', model_path/f'{lang}_wikitext_vocab.pkl']"
   ]
  },
  {
   "cell_type": "markdown",
   "metadata": {},
   "source": [
    "# Create Dataloaders"
   ]
  },
  {
   "cell_type": "code",
   "execution_count": 11,
   "metadata": {},
   "outputs": [
    {
     "name": "stdout",
     "output_type": "stream",
     "text": [
      "SentencePiece Model exists - using data/dewiki/model/lm/spm\n"
     ]
    }
   ],
   "source": [
    "if spm_path.exists():\n",
    "    tok = SentencePieceTokenizer(lang=lang, max_vocab_sz=vocab_sz, sp_model=spm_path/'spm.model')\n",
    "    print(f'SentencePiece Model exists - using {spm_path}')\n",
    "else:\n",
    "    tok = SentencePieceTokenizer(lang=lang, max_vocab_sz=vocab_sz, cache_dir=spm_path)"
   ]
  },
  {
   "cell_type": "markdown",
   "metadata": {},
   "source": [
    "If you get `PermissionError: [Errno 13] Permission denied: 'data/dewiki/docs/sampled_tok'` when executing the following cell, make sure the current user has the permissions to read the extracted Wikipedia dump."
   ]
  },
  {
   "cell_type": "code",
   "execution_count": 12,
   "metadata": {
    "scrolled": true
   },
   "outputs": [],
   "source": [
    "dblock = DataBlock(blocks=TextBlock.from_folder(data_path, is_lm=True, tok=tok, backwards=backwards),\n",
    "                   get_items=get_files,\n",
    "                   splitter=RandomSplitter(valid_pct=0.1, seed=42),\n",
    "                  )\n",
    "\n",
    "dls = dblock.dataloaders(data_path, path=data_path, bs=bs, num_workers=num_workers)"
   ]
  },
  {
   "cell_type": "code",
   "execution_count": 13,
   "metadata": {},
   "outputs": [
    {
     "data": {
      "text/html": [
       "<table border=\"1\" class=\"dataframe\">\n",
       "  <thead>\n",
       "    <tr style=\"text-align: right;\">\n",
       "      <th></th>\n",
       "      <th>text</th>\n",
       "      <th>text_</th>\n",
       "    </tr>\n",
       "  </thead>\n",
       "  <tbody>\n",
       "    <tr>\n",
       "      <th>0</th>\n",
       "      <td>&gt; ▁doc ▁/ ▁&lt; . setzte ▁fort ra če ▁ku ▁xxmaj kar ta o ▁ ▁xxmaj ▁bei , ▁war iert gr emi ▁ ▁london ▁xxmaj ▁nach ▁1966 ▁dieser ▁nachdem , ▁sie ▁die , as ▁ha ▁xxmaj lav dis ▁la ▁xxmaj ▁bei analyse ▁ ▁xxmaj ▁einer ▁mit ▁ausbildung ▁xxmaj e analytisch o psych ▁ e ▁illegal ▁damals ▁eine ▁prag ▁xxmaj ▁in ▁begann ) ▁1937 ▁(* ová ž mr s ▁ ▁xxmaj ▁geborene ,</td>\n",
       "      <td>▁doc ▁/ ▁&lt; . setzte ▁fort ra če ▁ku ▁xxmaj kar ta o ▁ ▁xxmaj ▁bei , ▁war iert gr emi ▁ ▁london ▁xxmaj ▁nach ▁1966 ▁dieser ▁nachdem , ▁sie ▁die , as ▁ha ▁xxmaj lav dis ▁la ▁xxmaj ▁bei analyse ▁ ▁xxmaj ▁einer ▁mit ▁ausbildung ▁xxmaj e analytisch o psych ▁ e ▁illegal ▁damals ▁eine ▁prag ▁xxmaj ▁in ▁begann ) ▁1937 ▁(* ová ž mr s ▁ ▁xxmaj ▁geborene , ová</td>\n",
       "    </tr>\n",
       "    <tr>\n",
       "      <th>1</th>\n",
       "      <td>▁teil ▁xxmaj ▁seinen , ▁aussicht ▁xxmaj ▁die ▁durch ▁und onne ill ▁gu ▁xxmaj ▁jungen ▁der ▁mit schließung ▁ehe ▁xxmaj stehende ▁bevor ▁seine ▁durch ▁andererseits , fern ei ▁wett ▁zu s ▁italien ▁xxmaj n ▁dichter ▁xxmaj en lateinisch ▁neu ▁den ▁mit , streben ▁be ▁xxmaj ▁sein ▁durch ▁und ▁aufschwung ▁xxmaj ▁kulturellen ▁und en gesellschaftlich ▁ igen es hi ▁ ▁den ▁durch ▁motiviert ▁einerseits n ▁den ▁xxmaj . ▁sein ▁neue ▁völlig ▁eine ▁aber ▁nun</td>\n",
       "      <td>▁xxmaj ▁seinen , ▁aussicht ▁xxmaj ▁die ▁durch ▁und onne ill ▁gu ▁xxmaj ▁jungen ▁der ▁mit schließung ▁ehe ▁xxmaj stehende ▁bevor ▁seine ▁durch ▁andererseits , fern ei ▁wett ▁zu s ▁italien ▁xxmaj n ▁dichter ▁xxmaj en lateinisch ▁neu ▁den ▁mit , streben ▁be ▁xxmaj ▁sein ▁durch ▁und ▁aufschwung ▁xxmaj ▁kulturellen ▁und en gesellschaftlich ▁ igen es hi ▁ ▁den ▁durch ▁motiviert ▁einerseits n ▁den ▁xxmaj . ▁sein ▁neue ▁völlig ▁eine ▁aber ▁nun ▁sollte</td>\n",
       "    </tr>\n",
       "    <tr>\n",
       "      <th>2</th>\n",
       "      <td>▁und ▁beethoven ▁xxmaj , ▁mozart ▁xxmaj ▁von ▁werke ▁xxmaj ▁sie ▁dem ▁bei , in pianist ▁ ▁xxmaj ▁als ▁auftritt ▁xxmaj ▁öffentlichen ▁ersten ▁ihren konzert s tätigkeit ▁wohl ▁xxmaj ▁einem ▁bei ▁1907 ▁hatte ▁und en s ▁christen ▁xxmaj e ov ▁ ▁xxmaj ▁von in schüler ▁klavier ▁xxmaj ▁wurde ▁sie ▁xxmaj . ted es ▁seh ▁xxmaj a hild ▁ ▁xxmaj in komponist ▁ ▁xxmaj ▁ältere ▁jahre ▁xxmaj ▁zwanzig ▁die ▁sie te ▁kann ▁kindheit ▁xxmaj</td>\n",
       "      <td>▁beethoven ▁xxmaj , ▁mozart ▁xxmaj ▁von ▁werke ▁xxmaj ▁sie ▁dem ▁bei , in pianist ▁ ▁xxmaj ▁als ▁auftritt ▁xxmaj ▁öffentlichen ▁ersten ▁ihren konzert s tätigkeit ▁wohl ▁xxmaj ▁einem ▁bei ▁1907 ▁hatte ▁und en s ▁christen ▁xxmaj e ov ▁ ▁xxmaj ▁von in schüler ▁klavier ▁xxmaj ▁wurde ▁sie ▁xxmaj . ted es ▁seh ▁xxmaj a hild ▁ ▁xxmaj in komponist ▁ ▁xxmaj ▁ältere ▁jahre ▁xxmaj ▁zwanzig ▁die ▁sie te ▁kann ▁kindheit ▁xxmaj ▁ihrer</td>\n",
       "    </tr>\n",
       "    <tr>\n",
       "      <th>3</th>\n",
       "      <td>e alle bundes ▁( um tri a ▁ ▁xxmaj palast - ba - ▁be e ▁fertiggestellt ▁1927 ▁der ▁war \" e alle kaiser ▁\" ▁der ▁gebäude ▁xxmaj des chen ste ▁heraus ▁xxmaj \". ▁35 e alle kaiser ▁\" ▁der ▁in ▁sitz ▁xxmaj ▁seinen ▁kurzzeitig ersdorf m ▁wil ▁xxmaj ▁amtsgericht ▁xxmaj ▁das ▁hatte ▁1945 ▁jahr ▁xxmaj ▁im ▁xxmaj . ▁raum ▁xxmaj ▁berliner ▁xxmaj ▁westlichen ▁im achse - süd - ▁nord ▁einer ▁status ▁xxmaj</td>\n",
       "      <td>alle bundes ▁( um tri a ▁ ▁xxmaj palast - ba - ▁be e ▁fertiggestellt ▁1927 ▁der ▁war \" e alle kaiser ▁\" ▁der ▁gebäude ▁xxmaj des chen ste ▁heraus ▁xxmaj \". ▁35 e alle kaiser ▁\" ▁der ▁in ▁sitz ▁xxmaj ▁seinen ▁kurzzeitig ersdorf m ▁wil ▁xxmaj ▁amtsgericht ▁xxmaj ▁das ▁hatte ▁1945 ▁jahr ▁xxmaj ▁im ▁xxmaj . ▁raum ▁xxmaj ▁berliner ▁xxmaj ▁westlichen ▁im achse - süd - ▁nord ▁einer ▁status ▁xxmaj en</td>\n",
       "    </tr>\n",
       "    <tr>\n",
       "      <th>4</th>\n",
       "      <td>▁xxmaj ▁in ▁jahre ▁xxmaj ▁drei ▁er ▁spielte ▁anschließend ▁xxmaj . ▁wurde ▁meister ▁xxmaj ischer lett ▁ ▁2009 s pil s vent ▁ ▁xxmaj k ▁b ▁xxup ▁dem ▁mit ▁er ▁wo , ▁heimat ▁xxmaj ischen lett ▁ ▁seiner ▁in ▁2011 ▁bis ▁spielte ks nie l ē str ▁ ▁xxmaj . spieler ▁basketball ▁xxmaj ischer lett ▁ ▁ein ▁ist ) ▁sowjetunion ▁xxmaj , r s s ▁ ▁xxup ische lett ▁ ▁xxmaj , si</td>\n",
       "      <td>▁in ▁jahre ▁xxmaj ▁drei ▁er ▁spielte ▁anschließend ▁xxmaj . ▁wurde ▁meister ▁xxmaj ischer lett ▁ ▁2009 s pil s vent ▁ ▁xxmaj k ▁b ▁xxup ▁dem ▁mit ▁er ▁wo , ▁heimat ▁xxmaj ischen lett ▁ ▁seiner ▁in ▁2011 ▁bis ▁spielte ks nie l ē str ▁ ▁xxmaj . spieler ▁basketball ▁xxmaj ischer lett ▁ ▁ein ▁ist ) ▁sowjetunion ▁xxmaj , r s s ▁ ▁xxup ische lett ▁ ▁xxmaj , si tal</td>\n",
       "    </tr>\n",
       "    <tr>\n",
       "      <th>5</th>\n",
       "      <td>▁xxmaj apostolische ▁ ▁direkte ▁die ▁seite ▁xxmaj e orthodox ▁ ▁die ▁stellte 45 –14 38 ▁14 enz flor - ara ▁ferr ▁von ▁konzil ▁xxmaj ▁dem ▁auf ▁xxmaj . ▁sei bar halt ▁ ▁nicht historisch ▁ ▁überlieferung ▁diese ▁dass , ▁nach a vall ▁ ▁xxmaj ius laurent ▁ ▁xxmaj ▁jahrhundert ▁xxmaj ▁15. ▁im ▁bereits s ▁wie ▁allerdings ▁xxmaj . ius s bro ▁am ▁xxmaj ▁und in ▁ruf ▁xxmaj ▁bei ▁jahrhundert ▁xxmaj ▁vierten ▁im</td>\n",
       "      <td>apostolische ▁ ▁direkte ▁die ▁seite ▁xxmaj e orthodox ▁ ▁die ▁stellte 45 –14 38 ▁14 enz flor - ara ▁ferr ▁von ▁konzil ▁xxmaj ▁dem ▁auf ▁xxmaj . ▁sei bar halt ▁ ▁nicht historisch ▁ ▁überlieferung ▁diese ▁dass , ▁nach a vall ▁ ▁xxmaj ius laurent ▁ ▁xxmaj ▁jahrhundert ▁xxmaj ▁15. ▁im ▁bereits s ▁wie ▁allerdings ▁xxmaj . ius s bro ▁am ▁xxmaj ▁und in ▁ruf ▁xxmaj ▁bei ▁jahrhundert ▁xxmaj ▁vierten ▁im ▁noch</td>\n",
       "    </tr>\n",
       "    <tr>\n",
       "      <th>6</th>\n",
       "      <td>▁seinen ▁in s weis - ▁blau e gard ▁prinzen ▁xxmaj ▁der logo ▁ ▁xxmaj ▁im e ▁löw ▁xxmaj ische berg ▁ ▁xxmaj ▁der ▁zugleich ▁trägt , instrument ungs ig ücht z ▁ ▁xxmaj ▁und - schlag ▁ ▁xxmaj s hafte z scher ▁ , e tsch ▁pri ▁xxmaj ▁die ▁xxmaj . ▁haben ft kämp ▁ange “ tum cker ▁mu ▁xxmaj ▁und gram ries g ▁„ ▁gegen ▁so ▁und ▁bewahrt witz ▁mutter ▁xxmaj</td>\n",
       "      <td>▁in s weis - ▁blau e gard ▁prinzen ▁xxmaj ▁der logo ▁ ▁xxmaj ▁im e ▁löw ▁xxmaj ische berg ▁ ▁xxmaj ▁der ▁zugleich ▁trägt , instrument ungs ig ücht z ▁ ▁xxmaj ▁und - schlag ▁ ▁xxmaj s hafte z scher ▁ , e tsch ▁pri ▁xxmaj ▁die ▁xxmaj . ▁haben ft kämp ▁ange “ tum cker ▁mu ▁xxmaj ▁und gram ries g ▁„ ▁gegen ▁so ▁und ▁bewahrt witz ▁mutter ▁xxmaj ▁und</td>\n",
       "    </tr>\n",
       "    <tr>\n",
       "      <th>7</th>\n",
       "      <td>▁bereits etappe ▁ ▁xxmaj ▁dieser ▁auf ▁verloren bert m go ▁ ▁xxmaj ▁martin ▁xxmaj ▁und lick ▁der ▁xxmaj win ▁er ▁xxmaj den ▁zählen en favorit ▁ ▁xxmaj ▁den ▁zu ▁die ▁xxmaj . owski arn cz ▁ ▁xxmaj win ▁ort ▁xxmaj sieger ▁gesamt ▁xxmaj ▁späteren ▁dem ▁mit ▁gruppe ▁xxmaj ▁einer ▁vor ▁minuten ▁xxmaj ▁zwei ▁knapp ▁von ▁vorsprung ▁xxmaj ▁einem ▁mit \" etappe ▁ ▁xxmaj 2. ▁\" ▁der ▁ziel ▁xxmaj ▁am ▁siegte bert e</td>\n",
       "      <td>etappe ▁ ▁xxmaj ▁dieser ▁auf ▁verloren bert m go ▁ ▁xxmaj ▁martin ▁xxmaj ▁und lick ▁der ▁xxmaj win ▁er ▁xxmaj den ▁zählen en favorit ▁ ▁xxmaj ▁den ▁zu ▁die ▁xxmaj . owski arn cz ▁ ▁xxmaj win ▁ort ▁xxmaj sieger ▁gesamt ▁xxmaj ▁späteren ▁dem ▁mit ▁gruppe ▁xxmaj ▁einer ▁vor ▁minuten ▁xxmaj ▁zwei ▁knapp ▁von ▁vorsprung ▁xxmaj ▁einem ▁mit \" etappe ▁ ▁xxmaj 2. ▁\" ▁der ▁ziel ▁xxmaj ▁am ▁siegte bert e ▁</td>\n",
       "    </tr>\n",
       "    <tr>\n",
       "      <th>8</th>\n",
       "      <td>abwehr ▁ ▁xxmaj ▁und - ▁mittelfeld ▁xxmaj ▁als ▁erzielte ▁und spiele ▁länder ▁xxmaj 62 ▁ ▁bestritt , mannschaft national - a ▁ ▁der ▁in ▁für ▁sie ▁debütierte ▁jahren ▁xxmaj ▁15 ▁mit ▁bereits ▁xxmaj ). v f w ▁( verbandes ball s s ▁fu ▁xxmaj en ▁württembergisch ▁xxmaj ▁des auswahl s verband - 21 - ▁u ▁die ▁für ▁9 ▁3 ▁xxrep ▁1 ▁bis ▁1997 ▁von ▁und auswahl ▁landes ▁xxmaj berger l ar ▁vor</td>\n",
       "      <td>▁ ▁xxmaj ▁und - ▁mittelfeld ▁xxmaj ▁als ▁erzielte ▁und spiele ▁länder ▁xxmaj 62 ▁ ▁bestritt , mannschaft national - a ▁ ▁der ▁in ▁für ▁sie ▁debütierte ▁jahren ▁xxmaj ▁15 ▁mit ▁bereits ▁xxmaj ). v f w ▁( verbandes ball s s ▁fu ▁xxmaj en ▁württembergisch ▁xxmaj ▁des auswahl s verband - 21 - ▁u ▁die ▁für ▁9 ▁3 ▁xxrep ▁1 ▁bis ▁1997 ▁von ▁und auswahl ▁landes ▁xxmaj berger l ar ▁vor ▁xxmaj</td>\n",
       "    </tr>\n",
       "  </tbody>\n",
       "</table>"
      ],
      "text/plain": [
       "<IPython.core.display.HTML object>"
      ]
     },
     "metadata": {},
     "output_type": "display_data"
    }
   ],
   "source": [
    "dls.show_batch()"
   ]
  },
  {
   "cell_type": "code",
   "execution_count": 14,
   "metadata": {},
   "outputs": [
    {
     "data": {
      "text/plain": [
       "(22115, 2439)"
      ]
     },
     "execution_count": 14,
     "metadata": {},
     "output_type": "execute_result"
    }
   ],
   "source": [
    "len(dls.train), len(dls.valid)"
   ]
  },
  {
   "cell_type": "markdown",
   "metadata": {},
   "source": [
    "# Train Model"
   ]
  },
  {
   "cell_type": "code",
   "execution_count": 15,
   "metadata": {},
   "outputs": [],
   "source": [
    "learn = language_model_learner(dls, AWD_LSTM, drop_mult=drop_mult, pretrained=False, \n",
    "                               metrics=[accuracy, Perplexity()]).to_fp16()\n",
    "learn.path = model_path.absolute()"
   ]
  },
  {
   "cell_type": "code",
   "execution_count": 16,
   "metadata": {},
   "outputs": [
    {
     "data": {
      "text/html": [],
      "text/plain": [
       "<IPython.core.display.HTML object>"
      ]
     },
     "metadata": {},
     "output_type": "display_data"
    },
    {
     "data": {
      "text/plain": [
       "SuggestedLRs(lr_min=0.004786301031708717, lr_steep=0.002511886414140463)"
      ]
     },
     "execution_count": 16,
     "metadata": {},
     "output_type": "execute_result"
    },
    {
     "data": {
      "image/png": "[encoded data removed]",
      "text/plain": [
       "<Figure size 432x288 with 1 Axes>"
      ]
     },
     "metadata": {
      "needs_background": "light"
     },
     "output_type": "display_data"
    }
   ],
   "source": [
    "learn.lr_find()"
   ]
  },
  {
   "cell_type": "code",
   "execution_count": 17,
   "metadata": {},
   "outputs": [],
   "source": [
    "lr = 1e-2\n",
    "num_epochs = 10"
   ]
  },
  {
   "cell_type": "code",
   "execution_count": 18,
   "metadata": {},
   "outputs": [],
   "source": [
    "cbs=[CSVLogger(fname=f'history.csv')]"
   ]
  },
  {
   "cell_type": "code",
   "execution_count": null,
   "metadata": {},
   "outputs": [
    {
     "data": {
      "text/html": [
       "\n",
       "    <div>\n",
       "        <style>\n",
       "            /* Turns off some styling */\n",
       "            progress {\n",
       "                /* gets rid of default border in Firefox and Opera. */\n",
       "                border: none;\n",
       "                /* Needs to be in here for Safari polyfill so background images work as expected. */\n",
       "                background-size: auto;\n",
       "            }\n",
       "            .progress-bar-interrupted, .progress-bar-interrupted::-webkit-progress-bar {\n",
       "                background: #F44336;\n",
       "            }\n",
       "        </style>\n",
       "      <progress value='0' class='' max='10' style='width:300px; height:20px; vertical-align: middle;'></progress>\n",
       "      0.00% [0/10 00:00<00:00]\n",
       "    </div>\n",
       "    \n",
       "<table border=\"1\" class=\"dataframe\">\n",
       "  <thead>\n",
       "    <tr style=\"text-align: left;\">\n",
       "      <th>epoch</th>\n",
       "      <th>train_loss</th>\n",
       "      <th>valid_loss</th>\n",
       "      <th>accuracy</th>\n",
       "      <th>perplexity</th>\n",
       "      <th>time</th>\n",
       "    </tr>\n",
       "  </thead>\n",
       "  <tbody>\n",
       "  </tbody>\n",
       "</table><p>\n",
       "\n",
       "    <div>\n",
       "        <style>\n",
       "            /* Turns off some styling */\n",
       "            progress {\n",
       "                /* gets rid of default border in Firefox and Opera. */\n",
       "                border: none;\n",
       "                /* Needs to be in here for Safari polyfill so background images work as expected. */\n",
       "                background-size: auto;\n",
       "            }\n",
       "            .progress-bar-interrupted, .progress-bar-interrupted::-webkit-progress-bar {\n",
       "                background: #F44336;\n",
       "            }\n",
       "        </style>\n",
       "      <progress value='2031' class='' max='22115' style='width:300px; height:20px; vertical-align: middle;'></progress>\n",
       "      9.18% [2031/22115 02:01<19:57 4.9633]\n",
       "    </div>\n",
       "    "
      ],
      "text/plain": [
       "<IPython.core.display.HTML object>"
      ]
     },
     "metadata": {},
     "output_type": "display_data"
    }
   ],
   "source": [
    "learn.unfreeze()\n",
    "learn.fit_one_cycle(num_epochs, lr, cbs=cbs, moms=(0.8, 0.7, 0.8))"
   ]
  },
  {
   "cell_type": "markdown",
   "metadata": {},
   "source": [
    "# Save Model and Stats"
   ]
  },
  {
   "cell_type": "code",
   "execution_count": null,
   "metadata": {},
   "outputs": [],
   "source": [
    "learn.to_fp32().save(lm_fns[0].absolute(), with_opt=False)"
   ]
  },
  {
   "cell_type": "code",
   "execution_count": null,
   "metadata": {},
   "outputs": [],
   "source": [
    "with open(lm_fns[1], 'wb') as f:\n",
    "      pickle.dump(learn.dls.vocab, f)"
   ]
  },
  {
   "cell_type": "code",
   "execution_count": null,
   "metadata": {},
   "outputs": [],
   "source": [
    "stats = learn.recorder.values[-1]\n",
    "\n",
    "train_params = {\n",
    "    'lang': lang,\n",
    "    'step': step,\n",
    "    'backwards': backwards,\n",
    "    'batch_size': bs,\n",
    "    'vocab_size': vocab_sz,\n",
    "    'lr': lr,\n",
    "    'num_epochs': num_epochs,\n",
    "    'drop_mult': drop_mult,\n",
    "    'stats': {\n",
    "        'train_loss': stats[0],\n",
    "        'valid_loss': stats[1],\n",
    "        'accuracy': stats[2],\n",
    "        'perplexity': stats[3]\n",
    "    }\n",
    "}\n",
    "\n",
    "with open(f'{model_path}/train_params.json', 'w') as f:\n",
    "    json.dump(train_params, f, ensure_ascii=False, indent=4)"
   ]
  }
 ],
 "metadata": {
  "kernelspec": {
   "display_name": "fastai",
   "language": "python",
   "name": "fastai"
  },
  "language_info": {
   "codemirror_mode": {
    "name": "ipython",
    "version": 3
   },
   "file_extension": ".py",
   "mimetype": "text/x-python",
   "name": "python",
   "nbconvert_exporter": "python",
   "pygments_lexer": "ipython3",
   "version": "3.8.5"
  }
 },
 "nbformat": 4,
 "nbformat_minor": 4
}
